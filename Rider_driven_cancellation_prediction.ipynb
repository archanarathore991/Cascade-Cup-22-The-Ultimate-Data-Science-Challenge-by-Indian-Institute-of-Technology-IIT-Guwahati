{
 "cells": [
  {
   "cell_type": "markdown",
   "metadata": {},
   "source": [
    "#### Import Required Libraries"
   ]
  },
  {
   "cell_type": "code",
   "execution_count": 1,
   "metadata": {},
   "outputs": [],
   "source": [
    "import pandas as pd\n",
    "import numpy as np\n",
    "import matplotlib.pyplot as plt\n",
    "import seaborn as sns\n",
    "import warnings\n",
    "warnings.filterwarnings(\"ignore\")"
   ]
  },
  {
   "cell_type": "markdown",
   "metadata": {},
   "source": [
    "#### Import training data"
   ]
  },
  {
   "cell_type": "code",
   "execution_count": 2,
   "metadata": {},
   "outputs": [],
   "source": [
    "train = pd.read_csv(r'train.csv/train.csv')"
   ]
  },
  {
   "cell_type": "code",
   "execution_count": 3,
   "metadata": {
    "scrolled": false
   },
   "outputs": [
    {
     "data": {
      "text/html": [
       "<div>\n",
       "<style scoped>\n",
       "    .dataframe tbody tr th:only-of-type {\n",
       "        vertical-align: middle;\n",
       "    }\n",
       "\n",
       "    .dataframe tbody tr th {\n",
       "        vertical-align: top;\n",
       "    }\n",
       "\n",
       "    .dataframe thead th {\n",
       "        text-align: right;\n",
       "    }\n",
       "</style>\n",
       "<table border=\"1\" class=\"dataframe\">\n",
       "  <thead>\n",
       "    <tr style=\"text-align: right;\">\n",
       "      <th></th>\n",
       "      <th>order_time</th>\n",
       "      <th>order_id</th>\n",
       "      <th>order_date</th>\n",
       "      <th>allot_time</th>\n",
       "      <th>accept_time</th>\n",
       "      <th>pickup_time</th>\n",
       "      <th>delivered_time</th>\n",
       "      <th>rider_id</th>\n",
       "      <th>first_mile_distance</th>\n",
       "      <th>last_mile_distance</th>\n",
       "      <th>alloted_orders</th>\n",
       "      <th>delivered_orders</th>\n",
       "      <th>cancelled</th>\n",
       "      <th>undelivered_orders</th>\n",
       "      <th>lifetime_order_count</th>\n",
       "      <th>reassignment_method</th>\n",
       "      <th>reassignment_reason</th>\n",
       "      <th>reassigned_order</th>\n",
       "      <th>session_time</th>\n",
       "      <th>cancelled_time</th>\n",
       "    </tr>\n",
       "  </thead>\n",
       "  <tbody>\n",
       "    <tr>\n",
       "      <th>0</th>\n",
       "      <td>2021-01-26 02:21:35</td>\n",
       "      <td>556753</td>\n",
       "      <td>2021-01-26 00:00:00</td>\n",
       "      <td>2021-01-26 02:21:59</td>\n",
       "      <td>2021-01-26 02:22:08</td>\n",
       "      <td>2021-01-26 02:32:51</td>\n",
       "      <td>2021-01-26 02:49:47</td>\n",
       "      <td>11696</td>\n",
       "      <td>1.5666</td>\n",
       "      <td>2.65</td>\n",
       "      <td>46.0</td>\n",
       "      <td>46.0</td>\n",
       "      <td>0</td>\n",
       "      <td>0.0</td>\n",
       "      <td>621.0</td>\n",
       "      <td>NaN</td>\n",
       "      <td>NaN</td>\n",
       "      <td>NaN</td>\n",
       "      <td>NaN</td>\n",
       "      <td>NaN</td>\n",
       "    </tr>\n",
       "    <tr>\n",
       "      <th>1</th>\n",
       "      <td>2021-01-26 02:33:16</td>\n",
       "      <td>556754</td>\n",
       "      <td>2021-01-26 00:00:00</td>\n",
       "      <td>2021-01-26 02:33:57</td>\n",
       "      <td>2021-01-26 02:34:45</td>\n",
       "      <td>2021-01-26 02:50:25</td>\n",
       "      <td>2021-01-26 03:11:15</td>\n",
       "      <td>18117</td>\n",
       "      <td>2.5207</td>\n",
       "      <td>2.76</td>\n",
       "      <td>8.0</td>\n",
       "      <td>8.0</td>\n",
       "      <td>0</td>\n",
       "      <td>0.0</td>\n",
       "      <td>105.0</td>\n",
       "      <td>NaN</td>\n",
       "      <td>NaN</td>\n",
       "      <td>NaN</td>\n",
       "      <td>3.266667</td>\n",
       "      <td>NaN</td>\n",
       "    </tr>\n",
       "    <tr>\n",
       "      <th>2</th>\n",
       "      <td>2021-01-26 02:39:49</td>\n",
       "      <td>556755</td>\n",
       "      <td>2021-01-26 00:00:00</td>\n",
       "      <td>2021-01-26 02:39:57</td>\n",
       "      <td>2021-01-26 02:40:13</td>\n",
       "      <td>2021-01-26 02:56:00</td>\n",
       "      <td>2021-01-26 03:12:46</td>\n",
       "      <td>18623</td>\n",
       "      <td>2.2074</td>\n",
       "      <td>4.80</td>\n",
       "      <td>1.0</td>\n",
       "      <td>1.0</td>\n",
       "      <td>0</td>\n",
       "      <td>0.0</td>\n",
       "      <td>66.0</td>\n",
       "      <td>NaN</td>\n",
       "      <td>NaN</td>\n",
       "      <td>NaN</td>\n",
       "      <td>9.816667</td>\n",
       "      <td>NaN</td>\n",
       "    </tr>\n",
       "    <tr>\n",
       "      <th>3</th>\n",
       "      <td>2021-01-26 02:47:53</td>\n",
       "      <td>556756</td>\n",
       "      <td>2021-01-26 00:00:00</td>\n",
       "      <td>2021-01-26 02:48:25</td>\n",
       "      <td>2021-01-26 02:49:06</td>\n",
       "      <td>2021-01-26 03:21:51</td>\n",
       "      <td>2021-01-26 03:41:05</td>\n",
       "      <td>15945</td>\n",
       "      <td>2.1894</td>\n",
       "      <td>6.38</td>\n",
       "      <td>1.0</td>\n",
       "      <td>1.0</td>\n",
       "      <td>0</td>\n",
       "      <td>0.0</td>\n",
       "      <td>127.0</td>\n",
       "      <td>NaN</td>\n",
       "      <td>NaN</td>\n",
       "      <td>NaN</td>\n",
       "      <td>17.533333</td>\n",
       "      <td>NaN</td>\n",
       "    </tr>\n",
       "    <tr>\n",
       "      <th>4</th>\n",
       "      <td>2021-01-26 03:06:30</td>\n",
       "      <td>556757</td>\n",
       "      <td>2021-01-26 00:00:00</td>\n",
       "      <td>2021-01-26 03:07:21</td>\n",
       "      <td>2021-01-26 03:07:57</td>\n",
       "      <td>2021-01-26 03:31:38</td>\n",
       "      <td>2021-01-26 04:00:15</td>\n",
       "      <td>17589</td>\n",
       "      <td>2.7870</td>\n",
       "      <td>4.01</td>\n",
       "      <td>34.0</td>\n",
       "      <td>34.0</td>\n",
       "      <td>0</td>\n",
       "      <td>0.0</td>\n",
       "      <td>84.0</td>\n",
       "      <td>NaN</td>\n",
       "      <td>NaN</td>\n",
       "      <td>NaN</td>\n",
       "      <td>1.350000</td>\n",
       "      <td>NaN</td>\n",
       "    </tr>\n",
       "    <tr>\n",
       "      <th>...</th>\n",
       "      <td>...</td>\n",
       "      <td>...</td>\n",
       "      <td>...</td>\n",
       "      <td>...</td>\n",
       "      <td>...</td>\n",
       "      <td>...</td>\n",
       "      <td>...</td>\n",
       "      <td>...</td>\n",
       "      <td>...</td>\n",
       "      <td>...</td>\n",
       "      <td>...</td>\n",
       "      <td>...</td>\n",
       "      <td>...</td>\n",
       "      <td>...</td>\n",
       "      <td>...</td>\n",
       "      <td>...</td>\n",
       "      <td>...</td>\n",
       "      <td>...</td>\n",
       "      <td>...</td>\n",
       "      <td>...</td>\n",
       "    </tr>\n",
       "    <tr>\n",
       "      <th>449995</th>\n",
       "      <td>2021-02-06 10:03:16</td>\n",
       "      <td>130226</td>\n",
       "      <td>2021-02-06 00:00:00</td>\n",
       "      <td>2021-02-06 10:03:44</td>\n",
       "      <td>2021-02-06 10:04:14</td>\n",
       "      <td>2021-02-06 10:27:29</td>\n",
       "      <td>2021-02-06 10:44:08</td>\n",
       "      <td>1006</td>\n",
       "      <td>0.5789</td>\n",
       "      <td>0.19</td>\n",
       "      <td>4.0</td>\n",
       "      <td>4.0</td>\n",
       "      <td>0</td>\n",
       "      <td>0.0</td>\n",
       "      <td>127.0</td>\n",
       "      <td>NaN</td>\n",
       "      <td>NaN</td>\n",
       "      <td>NaN</td>\n",
       "      <td>369.516667</td>\n",
       "      <td>NaN</td>\n",
       "    </tr>\n",
       "    <tr>\n",
       "      <th>449996</th>\n",
       "      <td>2021-02-06 10:03:17</td>\n",
       "      <td>130227</td>\n",
       "      <td>2021-02-06 00:00:00</td>\n",
       "      <td>2021-02-06 10:03:18</td>\n",
       "      <td>2021-02-06 10:04:34</td>\n",
       "      <td>2021-02-06 10:22:17</td>\n",
       "      <td>2021-02-06 10:31:43</td>\n",
       "      <td>279</td>\n",
       "      <td>1.9863</td>\n",
       "      <td>1.19</td>\n",
       "      <td>81.0</td>\n",
       "      <td>81.0</td>\n",
       "      <td>0</td>\n",
       "      <td>0.0</td>\n",
       "      <td>105.0</td>\n",
       "      <td>NaN</td>\n",
       "      <td>NaN</td>\n",
       "      <td>NaN</td>\n",
       "      <td>239.133333</td>\n",
       "      <td>NaN</td>\n",
       "    </tr>\n",
       "    <tr>\n",
       "      <th>449997</th>\n",
       "      <td>2021-02-06 10:03:18</td>\n",
       "      <td>130228</td>\n",
       "      <td>2021-02-06 00:00:00</td>\n",
       "      <td>2021-02-06 10:04:06</td>\n",
       "      <td>2021-02-06 10:04:39</td>\n",
       "      <td>2021-02-06 10:19:06</td>\n",
       "      <td>2021-02-06 10:26:56</td>\n",
       "      <td>3161</td>\n",
       "      <td>1.5944</td>\n",
       "      <td>1.61</td>\n",
       "      <td>28.0</td>\n",
       "      <td>28.0</td>\n",
       "      <td>0</td>\n",
       "      <td>0.0</td>\n",
       "      <td>1488.0</td>\n",
       "      <td>NaN</td>\n",
       "      <td>NaN</td>\n",
       "      <td>NaN</td>\n",
       "      <td>204.150000</td>\n",
       "      <td>NaN</td>\n",
       "    </tr>\n",
       "    <tr>\n",
       "      <th>449998</th>\n",
       "      <td>2021-02-06 10:03:19</td>\n",
       "      <td>130229</td>\n",
       "      <td>2021-02-06 00:00:00</td>\n",
       "      <td>2021-02-06 10:03:19</td>\n",
       "      <td>2021-02-06 10:05:41</td>\n",
       "      <td>2021-02-06 10:20:39</td>\n",
       "      <td>2021-02-06 10:30:41</td>\n",
       "      <td>9396</td>\n",
       "      <td>2.8939</td>\n",
       "      <td>4.68</td>\n",
       "      <td>72.0</td>\n",
       "      <td>72.0</td>\n",
       "      <td>0</td>\n",
       "      <td>0.0</td>\n",
       "      <td>105.0</td>\n",
       "      <td>NaN</td>\n",
       "      <td>NaN</td>\n",
       "      <td>NaN</td>\n",
       "      <td>65.583333</td>\n",
       "      <td>NaN</td>\n",
       "    </tr>\n",
       "    <tr>\n",
       "      <th>449999</th>\n",
       "      <td>2021-02-06 10:03:24</td>\n",
       "      <td>130230</td>\n",
       "      <td>2021-02-06 00:00:00</td>\n",
       "      <td>2021-02-06 10:03:45</td>\n",
       "      <td>2021-02-06 10:05:14</td>\n",
       "      <td>2021-02-06 10:13:26</td>\n",
       "      <td>2021-02-06 10:19:41</td>\n",
       "      <td>2078</td>\n",
       "      <td>1.8925</td>\n",
       "      <td>0.09</td>\n",
       "      <td>30.0</td>\n",
       "      <td>30.0</td>\n",
       "      <td>0</td>\n",
       "      <td>0.0</td>\n",
       "      <td>108.0</td>\n",
       "      <td>NaN</td>\n",
       "      <td>NaN</td>\n",
       "      <td>NaN</td>\n",
       "      <td>212.000000</td>\n",
       "      <td>NaN</td>\n",
       "    </tr>\n",
       "  </tbody>\n",
       "</table>\n",
       "<p>450000 rows × 20 columns</p>\n",
       "</div>"
      ],
      "text/plain": [
       "                 order_time  order_id           order_date  \\\n",
       "0       2021-01-26 02:21:35    556753  2021-01-26 00:00:00   \n",
       "1       2021-01-26 02:33:16    556754  2021-01-26 00:00:00   \n",
       "2       2021-01-26 02:39:49    556755  2021-01-26 00:00:00   \n",
       "3       2021-01-26 02:47:53    556756  2021-01-26 00:00:00   \n",
       "4       2021-01-26 03:06:30    556757  2021-01-26 00:00:00   \n",
       "...                     ...       ...                  ...   \n",
       "449995  2021-02-06 10:03:16    130226  2021-02-06 00:00:00   \n",
       "449996  2021-02-06 10:03:17    130227  2021-02-06 00:00:00   \n",
       "449997  2021-02-06 10:03:18    130228  2021-02-06 00:00:00   \n",
       "449998  2021-02-06 10:03:19    130229  2021-02-06 00:00:00   \n",
       "449999  2021-02-06 10:03:24    130230  2021-02-06 00:00:00   \n",
       "\n",
       "                 allot_time          accept_time          pickup_time  \\\n",
       "0       2021-01-26 02:21:59  2021-01-26 02:22:08  2021-01-26 02:32:51   \n",
       "1       2021-01-26 02:33:57  2021-01-26 02:34:45  2021-01-26 02:50:25   \n",
       "2       2021-01-26 02:39:57  2021-01-26 02:40:13  2021-01-26 02:56:00   \n",
       "3       2021-01-26 02:48:25  2021-01-26 02:49:06  2021-01-26 03:21:51   \n",
       "4       2021-01-26 03:07:21  2021-01-26 03:07:57  2021-01-26 03:31:38   \n",
       "...                     ...                  ...                  ...   \n",
       "449995  2021-02-06 10:03:44  2021-02-06 10:04:14  2021-02-06 10:27:29   \n",
       "449996  2021-02-06 10:03:18  2021-02-06 10:04:34  2021-02-06 10:22:17   \n",
       "449997  2021-02-06 10:04:06  2021-02-06 10:04:39  2021-02-06 10:19:06   \n",
       "449998  2021-02-06 10:03:19  2021-02-06 10:05:41  2021-02-06 10:20:39   \n",
       "449999  2021-02-06 10:03:45  2021-02-06 10:05:14  2021-02-06 10:13:26   \n",
       "\n",
       "             delivered_time  rider_id  first_mile_distance  \\\n",
       "0       2021-01-26 02:49:47     11696               1.5666   \n",
       "1       2021-01-26 03:11:15     18117               2.5207   \n",
       "2       2021-01-26 03:12:46     18623               2.2074   \n",
       "3       2021-01-26 03:41:05     15945               2.1894   \n",
       "4       2021-01-26 04:00:15     17589               2.7870   \n",
       "...                     ...       ...                  ...   \n",
       "449995  2021-02-06 10:44:08      1006               0.5789   \n",
       "449996  2021-02-06 10:31:43       279               1.9863   \n",
       "449997  2021-02-06 10:26:56      3161               1.5944   \n",
       "449998  2021-02-06 10:30:41      9396               2.8939   \n",
       "449999  2021-02-06 10:19:41      2078               1.8925   \n",
       "\n",
       "        last_mile_distance  alloted_orders  delivered_orders  cancelled  \\\n",
       "0                     2.65            46.0              46.0          0   \n",
       "1                     2.76             8.0               8.0          0   \n",
       "2                     4.80             1.0               1.0          0   \n",
       "3                     6.38             1.0               1.0          0   \n",
       "4                     4.01            34.0              34.0          0   \n",
       "...                    ...             ...               ...        ...   \n",
       "449995                0.19             4.0               4.0          0   \n",
       "449996                1.19            81.0              81.0          0   \n",
       "449997                1.61            28.0              28.0          0   \n",
       "449998                4.68            72.0              72.0          0   \n",
       "449999                0.09            30.0              30.0          0   \n",
       "\n",
       "        undelivered_orders  lifetime_order_count reassignment_method  \\\n",
       "0                      0.0                 621.0                 NaN   \n",
       "1                      0.0                 105.0                 NaN   \n",
       "2                      0.0                  66.0                 NaN   \n",
       "3                      0.0                 127.0                 NaN   \n",
       "4                      0.0                  84.0                 NaN   \n",
       "...                    ...                   ...                 ...   \n",
       "449995                 0.0                 127.0                 NaN   \n",
       "449996                 0.0                 105.0                 NaN   \n",
       "449997                 0.0                1488.0                 NaN   \n",
       "449998                 0.0                 105.0                 NaN   \n",
       "449999                 0.0                 108.0                 NaN   \n",
       "\n",
       "       reassignment_reason  reassigned_order  session_time cancelled_time  \n",
       "0                      NaN               NaN           NaN            NaN  \n",
       "1                      NaN               NaN      3.266667            NaN  \n",
       "2                      NaN               NaN      9.816667            NaN  \n",
       "3                      NaN               NaN     17.533333            NaN  \n",
       "4                      NaN               NaN      1.350000            NaN  \n",
       "...                    ...               ...           ...            ...  \n",
       "449995                 NaN               NaN    369.516667            NaN  \n",
       "449996                 NaN               NaN    239.133333            NaN  \n",
       "449997                 NaN               NaN    204.150000            NaN  \n",
       "449998                 NaN               NaN     65.583333            NaN  \n",
       "449999                 NaN               NaN    212.000000            NaN  \n",
       "\n",
       "[450000 rows x 20 columns]"
      ]
     },
     "execution_count": 3,
     "metadata": {},
     "output_type": "execute_result"
    }
   ],
   "source": [
    "train"
   ]
  },
  {
   "cell_type": "code",
   "execution_count": null,
   "metadata": {},
   "outputs": [],
   "source": [
    "# shape  of the dataset"
   ]
  },
  {
   "cell_type": "code",
   "execution_count": 4,
   "metadata": {},
   "outputs": [
    {
     "name": "stdout",
     "output_type": "stream",
     "text": [
      "Total number of rows: 450000\n",
      "Total number of columns: 20\n"
     ]
    }
   ],
   "source": [
    "print(f\"Total number of rows: {train.shape[0]}\")\n",
    "print(f\"Total number of columns: {train.shape[1]}\")"
   ]
  },
  {
   "cell_type": "code",
   "execution_count": 5,
   "metadata": {},
   "outputs": [
    {
     "name": "stdout",
     "output_type": "stream",
     "text": [
      "<class 'pandas.core.frame.DataFrame'>\n",
      "RangeIndex: 450000 entries, 0 to 449999\n",
      "Data columns (total 20 columns):\n",
      " #   Column                Non-Null Count   Dtype  \n",
      "---  ------                --------------   -----  \n",
      " 0   order_time            450000 non-null  object \n",
      " 1   order_id              450000 non-null  int64  \n",
      " 2   order_date            450000 non-null  object \n",
      " 3   allot_time            450000 non-null  object \n",
      " 4   accept_time           449843 non-null  object \n",
      " 5   pickup_time           447579 non-null  object \n",
      " 6   delivered_time        444782 non-null  object \n",
      " 7   rider_id              450000 non-null  int64  \n",
      " 8   first_mile_distance   450000 non-null  float64\n",
      " 9   last_mile_distance    450000 non-null  float64\n",
      " 10  alloted_orders        433052 non-null  float64\n",
      " 11  delivered_orders      432659 non-null  float64\n",
      " 12  cancelled             450000 non-null  int64  \n",
      " 13  undelivered_orders    432659 non-null  float64\n",
      " 14  lifetime_order_count  449947 non-null  float64\n",
      " 15  reassignment_method   13744 non-null   object \n",
      " 16  reassignment_reason   13753 non-null   object \n",
      " 17  reassigned_order      13753 non-null   float64\n",
      " 18  session_time          446325 non-null  float64\n",
      " 19  cancelled_time        5218 non-null    object \n",
      "dtypes: float64(8), int64(3), object(9)\n",
      "memory usage: 68.7+ MB\n"
     ]
    }
   ],
   "source": [
    "train.info()"
   ]
  },
  {
   "cell_type": "code",
   "execution_count": 6,
   "metadata": {},
   "outputs": [
    {
     "name": "stdout",
     "output_type": "stream",
     "text": [
      "Columns : \n",
      "Index(['order_time', 'order_id', 'order_date', 'allot_time', 'accept_time',\n",
      "       'pickup_time', 'delivered_time', 'rider_id', 'first_mile_distance',\n",
      "       'last_mile_distance', 'alloted_orders', 'delivered_orders', 'cancelled',\n",
      "       'undelivered_orders', 'lifetime_order_count', 'reassignment_method',\n",
      "       'reassignment_reason', 'reassigned_order', 'session_time',\n",
      "       'cancelled_time'],\n",
      "      dtype='object')\n"
     ]
    }
   ],
   "source": [
    "print(f\"Columns : \\n{train.columns}\")"
   ]
  },
  {
   "cell_type": "code",
   "execution_count": 7,
   "metadata": {},
   "outputs": [
    {
     "data": {
      "text/html": [
       "<div>\n",
       "<style scoped>\n",
       "    .dataframe tbody tr th:only-of-type {\n",
       "        vertical-align: middle;\n",
       "    }\n",
       "\n",
       "    .dataframe tbody tr th {\n",
       "        vertical-align: top;\n",
       "    }\n",
       "\n",
       "    .dataframe thead th {\n",
       "        text-align: right;\n",
       "    }\n",
       "</style>\n",
       "<table border=\"1\" class=\"dataframe\">\n",
       "  <thead>\n",
       "    <tr style=\"text-align: right;\">\n",
       "      <th></th>\n",
       "      <th>order_id</th>\n",
       "      <th>rider_id</th>\n",
       "      <th>first_mile_distance</th>\n",
       "      <th>last_mile_distance</th>\n",
       "      <th>alloted_orders</th>\n",
       "      <th>delivered_orders</th>\n",
       "      <th>cancelled</th>\n",
       "      <th>undelivered_orders</th>\n",
       "      <th>lifetime_order_count</th>\n",
       "      <th>reassigned_order</th>\n",
       "      <th>session_time</th>\n",
       "    </tr>\n",
       "  </thead>\n",
       "  <tbody>\n",
       "    <tr>\n",
       "      <th>count</th>\n",
       "      <td>450000.000000</td>\n",
       "      <td>450000.000000</td>\n",
       "      <td>450000.000000</td>\n",
       "      <td>450000.000000</td>\n",
       "      <td>433052.000000</td>\n",
       "      <td>432659.000000</td>\n",
       "      <td>450000.000000</td>\n",
       "      <td>432659.000000</td>\n",
       "      <td>449947.000000</td>\n",
       "      <td>13753.0</td>\n",
       "      <td>446325.000000</td>\n",
       "    </tr>\n",
       "    <tr>\n",
       "      <th>mean</th>\n",
       "      <td>369143.080767</td>\n",
       "      <td>7763.244016</td>\n",
       "      <td>1.229889</td>\n",
       "      <td>2.968873</td>\n",
       "      <td>104.620909</td>\n",
       "      <td>103.950448</td>\n",
       "      <td>0.011596</td>\n",
       "      <td>0.764165</td>\n",
       "      <td>853.640664</td>\n",
       "      <td>1.0</td>\n",
       "      <td>220.474779</td>\n",
       "    </tr>\n",
       "    <tr>\n",
       "      <th>std</th>\n",
       "      <td>131146.906408</td>\n",
       "      <td>5592.880135</td>\n",
       "      <td>0.846183</td>\n",
       "      <td>1.884124</td>\n",
       "      <td>90.135492</td>\n",
       "      <td>89.639646</td>\n",
       "      <td>0.107057</td>\n",
       "      <td>1.066473</td>\n",
       "      <td>1502.976162</td>\n",
       "      <td>0.0</td>\n",
       "      <td>176.713853</td>\n",
       "    </tr>\n",
       "    <tr>\n",
       "      <th>min</th>\n",
       "      <td>118350.000000</td>\n",
       "      <td>0.000000</td>\n",
       "      <td>0.000134</td>\n",
       "      <td>0.000000</td>\n",
       "      <td>1.000000</td>\n",
       "      <td>1.000000</td>\n",
       "      <td>0.000000</td>\n",
       "      <td>0.000000</td>\n",
       "      <td>0.000000</td>\n",
       "      <td>1.0</td>\n",
       "      <td>0.000000</td>\n",
       "    </tr>\n",
       "    <tr>\n",
       "      <th>25%</th>\n",
       "      <td>257342.750000</td>\n",
       "      <td>2805.000000</td>\n",
       "      <td>0.539575</td>\n",
       "      <td>1.470000</td>\n",
       "      <td>36.000000</td>\n",
       "      <td>36.000000</td>\n",
       "      <td>0.000000</td>\n",
       "      <td>0.000000</td>\n",
       "      <td>165.000000</td>\n",
       "      <td>1.0</td>\n",
       "      <td>84.100000</td>\n",
       "    </tr>\n",
       "    <tr>\n",
       "      <th>50%</th>\n",
       "      <td>369842.500000</td>\n",
       "      <td>6754.000000</td>\n",
       "      <td>1.138700</td>\n",
       "      <td>2.670000</td>\n",
       "      <td>81.000000</td>\n",
       "      <td>81.000000</td>\n",
       "      <td>0.000000</td>\n",
       "      <td>0.000000</td>\n",
       "      <td>396.000000</td>\n",
       "      <td>1.0</td>\n",
       "      <td>175.550000</td>\n",
       "    </tr>\n",
       "    <tr>\n",
       "      <th>75%</th>\n",
       "      <td>482342.250000</td>\n",
       "      <td>11965.000000</td>\n",
       "      <td>1.853000</td>\n",
       "      <td>4.220000</td>\n",
       "      <td>147.000000</td>\n",
       "      <td>146.000000</td>\n",
       "      <td>0.000000</td>\n",
       "      <td>1.000000</td>\n",
       "      <td>948.000000</td>\n",
       "      <td>1.0</td>\n",
       "      <td>316.766667</td>\n",
       "    </tr>\n",
       "    <tr>\n",
       "      <th>max</th>\n",
       "      <td>594842.000000</td>\n",
       "      <td>21566.000000</td>\n",
       "      <td>42.038100</td>\n",
       "      <td>22.410000</td>\n",
       "      <td>567.000000</td>\n",
       "      <td>562.000000</td>\n",
       "      <td>1.000000</td>\n",
       "      <td>9.000000</td>\n",
       "      <td>30469.000000</td>\n",
       "      <td>1.0</td>\n",
       "      <td>1298.966667</td>\n",
       "    </tr>\n",
       "  </tbody>\n",
       "</table>\n",
       "</div>"
      ],
      "text/plain": [
       "            order_id       rider_id  first_mile_distance  last_mile_distance  \\\n",
       "count  450000.000000  450000.000000        450000.000000       450000.000000   \n",
       "mean   369143.080767    7763.244016             1.229889            2.968873   \n",
       "std    131146.906408    5592.880135             0.846183            1.884124   \n",
       "min    118350.000000       0.000000             0.000134            0.000000   \n",
       "25%    257342.750000    2805.000000             0.539575            1.470000   \n",
       "50%    369842.500000    6754.000000             1.138700            2.670000   \n",
       "75%    482342.250000   11965.000000             1.853000            4.220000   \n",
       "max    594842.000000   21566.000000            42.038100           22.410000   \n",
       "\n",
       "       alloted_orders  delivered_orders      cancelled  undelivered_orders  \\\n",
       "count   433052.000000     432659.000000  450000.000000       432659.000000   \n",
       "mean       104.620909        103.950448       0.011596            0.764165   \n",
       "std         90.135492         89.639646       0.107057            1.066473   \n",
       "min          1.000000          1.000000       0.000000            0.000000   \n",
       "25%         36.000000         36.000000       0.000000            0.000000   \n",
       "50%         81.000000         81.000000       0.000000            0.000000   \n",
       "75%        147.000000        146.000000       0.000000            1.000000   \n",
       "max        567.000000        562.000000       1.000000            9.000000   \n",
       "\n",
       "       lifetime_order_count  reassigned_order   session_time  \n",
       "count         449947.000000           13753.0  446325.000000  \n",
       "mean             853.640664               1.0     220.474779  \n",
       "std             1502.976162               0.0     176.713853  \n",
       "min                0.000000               1.0       0.000000  \n",
       "25%              165.000000               1.0      84.100000  \n",
       "50%              396.000000               1.0     175.550000  \n",
       "75%              948.000000               1.0     316.766667  \n",
       "max            30469.000000               1.0    1298.966667  "
      ]
     },
     "execution_count": 7,
     "metadata": {},
     "output_type": "execute_result"
    }
   ],
   "source": [
    "train.describe()"
   ]
  },
  {
   "cell_type": "code",
   "execution_count": 152,
   "metadata": {},
   "outputs": [
    {
     "data": {
      "text/plain": [
       "0    444782\n",
       "1      5218\n",
       "Name: cancelled, dtype: int64"
      ]
     },
     "execution_count": 152,
     "metadata": {},
     "output_type": "execute_result"
    }
   ],
   "source": [
    "train['cancelled'].value_counts()"
   ]
  },
  {
   "cell_type": "code",
   "execution_count": 8,
   "metadata": {},
   "outputs": [
    {
     "data": {
      "text/html": [
       "<div>\n",
       "<style scoped>\n",
       "    .dataframe tbody tr th:only-of-type {\n",
       "        vertical-align: middle;\n",
       "    }\n",
       "\n",
       "    .dataframe tbody tr th {\n",
       "        vertical-align: top;\n",
       "    }\n",
       "\n",
       "    .dataframe thead th {\n",
       "        text-align: right;\n",
       "    }\n",
       "</style>\n",
       "<table border=\"1\" class=\"dataframe\">\n",
       "  <thead>\n",
       "    <tr style=\"text-align: right;\">\n",
       "      <th></th>\n",
       "      <th>order_time</th>\n",
       "      <th>order_date</th>\n",
       "      <th>allot_time</th>\n",
       "      <th>accept_time</th>\n",
       "      <th>pickup_time</th>\n",
       "      <th>delivered_time</th>\n",
       "      <th>reassignment_method</th>\n",
       "      <th>reassignment_reason</th>\n",
       "      <th>cancelled_time</th>\n",
       "    </tr>\n",
       "  </thead>\n",
       "  <tbody>\n",
       "    <tr>\n",
       "      <th>count</th>\n",
       "      <td>450000</td>\n",
       "      <td>450000</td>\n",
       "      <td>450000</td>\n",
       "      <td>449843</td>\n",
       "      <td>447579</td>\n",
       "      <td>444782</td>\n",
       "      <td>13744</td>\n",
       "      <td>13753</td>\n",
       "      <td>5218</td>\n",
       "    </tr>\n",
       "    <tr>\n",
       "      <th>unique</th>\n",
       "      <td>252868</td>\n",
       "      <td>12</td>\n",
       "      <td>246871</td>\n",
       "      <td>254201</td>\n",
       "      <td>257117</td>\n",
       "      <td>257067</td>\n",
       "      <td>2</td>\n",
       "      <td>3</td>\n",
       "      <td>5176</td>\n",
       "    </tr>\n",
       "    <tr>\n",
       "      <th>top</th>\n",
       "      <td>2021-01-30 14:38:36</td>\n",
       "      <td>2021-02-05 00:00:00</td>\n",
       "      <td>2021-01-29 14:18:11</td>\n",
       "      <td>2021-01-27 16:03:12</td>\n",
       "      <td>2021-01-28 15:29:58</td>\n",
       "      <td>2021-01-30 14:38:14</td>\n",
       "      <td>auto</td>\n",
       "      <td>Auto Reassignment basis Inaction. coreengine.t...</td>\n",
       "      <td>2021-01-30 15:52:19</td>\n",
       "    </tr>\n",
       "    <tr>\n",
       "      <th>freq</th>\n",
       "      <td>11</td>\n",
       "      <td>42341</td>\n",
       "      <td>13</td>\n",
       "      <td>15</td>\n",
       "      <td>11</td>\n",
       "      <td>12</td>\n",
       "      <td>13383</td>\n",
       "      <td>7212</td>\n",
       "      <td>2</td>\n",
       "    </tr>\n",
       "  </tbody>\n",
       "</table>\n",
       "</div>"
      ],
      "text/plain": [
       "                 order_time           order_date           allot_time  \\\n",
       "count                450000               450000               450000   \n",
       "unique               252868                   12               246871   \n",
       "top     2021-01-30 14:38:36  2021-02-05 00:00:00  2021-01-29 14:18:11   \n",
       "freq                     11                42341                   13   \n",
       "\n",
       "                accept_time          pickup_time       delivered_time  \\\n",
       "count                449843               447579               444782   \n",
       "unique               254201               257117               257067   \n",
       "top     2021-01-27 16:03:12  2021-01-28 15:29:58  2021-01-30 14:38:14   \n",
       "freq                     15                   11                   12   \n",
       "\n",
       "       reassignment_method                                reassignment_reason  \\\n",
       "count                13744                                              13753   \n",
       "unique                   2                                                  3   \n",
       "top                   auto  Auto Reassignment basis Inaction. coreengine.t...   \n",
       "freq                 13383                                               7212   \n",
       "\n",
       "             cancelled_time  \n",
       "count                  5218  \n",
       "unique                 5176  \n",
       "top     2021-01-30 15:52:19  \n",
       "freq                      2  "
      ]
     },
     "execution_count": 8,
     "metadata": {},
     "output_type": "execute_result"
    }
   ],
   "source": [
    "train.describe(include=\"object\")"
   ]
  },
  {
   "cell_type": "markdown",
   "metadata": {},
   "source": [
    "#### Feature Enginnering"
   ]
  },
  {
   "cell_type": "markdown",
   "metadata": {},
   "source": [
    "#### Missing values"
   ]
  },
  {
   "cell_type": "code",
   "execution_count": 9,
   "metadata": {},
   "outputs": [
    {
     "data": {
      "text/plain": [
       "order_time                   0\n",
       "order_id                     0\n",
       "order_date                   0\n",
       "allot_time                   0\n",
       "accept_time                157\n",
       "pickup_time               2421\n",
       "delivered_time            5218\n",
       "rider_id                     0\n",
       "first_mile_distance          0\n",
       "last_mile_distance           0\n",
       "alloted_orders           16948\n",
       "delivered_orders         17341\n",
       "cancelled                    0\n",
       "undelivered_orders       17341\n",
       "lifetime_order_count        53\n",
       "reassignment_method     436256\n",
       "reassignment_reason     436247\n",
       "reassigned_order        436247\n",
       "session_time              3675\n",
       "cancelled_time          444782\n",
       "dtype: int64"
      ]
     },
     "execution_count": 9,
     "metadata": {},
     "output_type": "execute_result"
    }
   ],
   "source": [
    "train.isnull().sum()"
   ]
  },
  {
   "cell_type": "code",
   "execution_count": 10,
   "metadata": {},
   "outputs": [
    {
     "data": {
      "text/plain": [
       "order_time              0.000000\n",
       "order_id                0.000000\n",
       "order_date              0.000000\n",
       "allot_time              0.000000\n",
       "accept_time             0.000349\n",
       "pickup_time             0.005380\n",
       "delivered_time          0.011596\n",
       "rider_id                0.000000\n",
       "first_mile_distance     0.000000\n",
       "last_mile_distance      0.000000\n",
       "alloted_orders          0.037662\n",
       "delivered_orders        0.038536\n",
       "cancelled               0.000000\n",
       "undelivered_orders      0.038536\n",
       "lifetime_order_count    0.000118\n",
       "reassignment_method     0.969458\n",
       "reassignment_reason     0.969438\n",
       "reassigned_order        0.969438\n",
       "session_time            0.008167\n",
       "cancelled_time          0.988404\n",
       "dtype: float64"
      ]
     },
     "execution_count": 10,
     "metadata": {},
     "output_type": "execute_result"
    }
   ],
   "source": [
    "train.isnull().mean()"
   ]
  },
  {
   "cell_type": "code",
   "execution_count": 12,
   "metadata": {},
   "outputs": [],
   "source": [
    "# Drop unwanted columns\n",
    "train.drop(['reassignment_method','reassignment_reason','reassigned_order','cancelled_time'],axis=1,inplace=True)"
   ]
  },
  {
   "cell_type": "code",
   "execution_count": 13,
   "metadata": {},
   "outputs": [
    {
     "data": {
      "text/plain": [
       "(450000, 16)"
      ]
     },
     "execution_count": 13,
     "metadata": {},
     "output_type": "execute_result"
    }
   ],
   "source": [
    "train.shape"
   ]
  },
  {
   "cell_type": "code",
   "execution_count": 14,
   "metadata": {},
   "outputs": [
    {
     "data": {
      "text/html": [
       "<div>\n",
       "<style scoped>\n",
       "    .dataframe tbody tr th:only-of-type {\n",
       "        vertical-align: middle;\n",
       "    }\n",
       "\n",
       "    .dataframe tbody tr th {\n",
       "        vertical-align: top;\n",
       "    }\n",
       "\n",
       "    .dataframe thead th {\n",
       "        text-align: right;\n",
       "    }\n",
       "</style>\n",
       "<table border=\"1\" class=\"dataframe\">\n",
       "  <thead>\n",
       "    <tr style=\"text-align: right;\">\n",
       "      <th></th>\n",
       "      <th>order_time</th>\n",
       "      <th>order_id</th>\n",
       "      <th>order_date</th>\n",
       "      <th>allot_time</th>\n",
       "      <th>accept_time</th>\n",
       "      <th>pickup_time</th>\n",
       "      <th>delivered_time</th>\n",
       "      <th>rider_id</th>\n",
       "      <th>first_mile_distance</th>\n",
       "      <th>last_mile_distance</th>\n",
       "      <th>alloted_orders</th>\n",
       "      <th>delivered_orders</th>\n",
       "      <th>cancelled</th>\n",
       "      <th>undelivered_orders</th>\n",
       "      <th>lifetime_order_count</th>\n",
       "      <th>session_time</th>\n",
       "    </tr>\n",
       "  </thead>\n",
       "  <tbody>\n",
       "    <tr>\n",
       "      <th>0</th>\n",
       "      <td>2021-01-26 02:21:35</td>\n",
       "      <td>556753</td>\n",
       "      <td>2021-01-26 00:00:00</td>\n",
       "      <td>2021-01-26 02:21:59</td>\n",
       "      <td>2021-01-26 02:22:08</td>\n",
       "      <td>2021-01-26 02:32:51</td>\n",
       "      <td>2021-01-26 02:49:47</td>\n",
       "      <td>11696</td>\n",
       "      <td>1.5666</td>\n",
       "      <td>2.65</td>\n",
       "      <td>46.0</td>\n",
       "      <td>46.0</td>\n",
       "      <td>0</td>\n",
       "      <td>0.0</td>\n",
       "      <td>621.0</td>\n",
       "      <td>NaN</td>\n",
       "    </tr>\n",
       "    <tr>\n",
       "      <th>1</th>\n",
       "      <td>2021-01-26 02:33:16</td>\n",
       "      <td>556754</td>\n",
       "      <td>2021-01-26 00:00:00</td>\n",
       "      <td>2021-01-26 02:33:57</td>\n",
       "      <td>2021-01-26 02:34:45</td>\n",
       "      <td>2021-01-26 02:50:25</td>\n",
       "      <td>2021-01-26 03:11:15</td>\n",
       "      <td>18117</td>\n",
       "      <td>2.5207</td>\n",
       "      <td>2.76</td>\n",
       "      <td>8.0</td>\n",
       "      <td>8.0</td>\n",
       "      <td>0</td>\n",
       "      <td>0.0</td>\n",
       "      <td>105.0</td>\n",
       "      <td>3.266667</td>\n",
       "    </tr>\n",
       "    <tr>\n",
       "      <th>2</th>\n",
       "      <td>2021-01-26 02:39:49</td>\n",
       "      <td>556755</td>\n",
       "      <td>2021-01-26 00:00:00</td>\n",
       "      <td>2021-01-26 02:39:57</td>\n",
       "      <td>2021-01-26 02:40:13</td>\n",
       "      <td>2021-01-26 02:56:00</td>\n",
       "      <td>2021-01-26 03:12:46</td>\n",
       "      <td>18623</td>\n",
       "      <td>2.2074</td>\n",
       "      <td>4.80</td>\n",
       "      <td>1.0</td>\n",
       "      <td>1.0</td>\n",
       "      <td>0</td>\n",
       "      <td>0.0</td>\n",
       "      <td>66.0</td>\n",
       "      <td>9.816667</td>\n",
       "    </tr>\n",
       "    <tr>\n",
       "      <th>3</th>\n",
       "      <td>2021-01-26 02:47:53</td>\n",
       "      <td>556756</td>\n",
       "      <td>2021-01-26 00:00:00</td>\n",
       "      <td>2021-01-26 02:48:25</td>\n",
       "      <td>2021-01-26 02:49:06</td>\n",
       "      <td>2021-01-26 03:21:51</td>\n",
       "      <td>2021-01-26 03:41:05</td>\n",
       "      <td>15945</td>\n",
       "      <td>2.1894</td>\n",
       "      <td>6.38</td>\n",
       "      <td>1.0</td>\n",
       "      <td>1.0</td>\n",
       "      <td>0</td>\n",
       "      <td>0.0</td>\n",
       "      <td>127.0</td>\n",
       "      <td>17.533333</td>\n",
       "    </tr>\n",
       "    <tr>\n",
       "      <th>4</th>\n",
       "      <td>2021-01-26 03:06:30</td>\n",
       "      <td>556757</td>\n",
       "      <td>2021-01-26 00:00:00</td>\n",
       "      <td>2021-01-26 03:07:21</td>\n",
       "      <td>2021-01-26 03:07:57</td>\n",
       "      <td>2021-01-26 03:31:38</td>\n",
       "      <td>2021-01-26 04:00:15</td>\n",
       "      <td>17589</td>\n",
       "      <td>2.7870</td>\n",
       "      <td>4.01</td>\n",
       "      <td>34.0</td>\n",
       "      <td>34.0</td>\n",
       "      <td>0</td>\n",
       "      <td>0.0</td>\n",
       "      <td>84.0</td>\n",
       "      <td>1.350000</td>\n",
       "    </tr>\n",
       "    <tr>\n",
       "      <th>...</th>\n",
       "      <td>...</td>\n",
       "      <td>...</td>\n",
       "      <td>...</td>\n",
       "      <td>...</td>\n",
       "      <td>...</td>\n",
       "      <td>...</td>\n",
       "      <td>...</td>\n",
       "      <td>...</td>\n",
       "      <td>...</td>\n",
       "      <td>...</td>\n",
       "      <td>...</td>\n",
       "      <td>...</td>\n",
       "      <td>...</td>\n",
       "      <td>...</td>\n",
       "      <td>...</td>\n",
       "      <td>...</td>\n",
       "    </tr>\n",
       "    <tr>\n",
       "      <th>449995</th>\n",
       "      <td>2021-02-06 10:03:16</td>\n",
       "      <td>130226</td>\n",
       "      <td>2021-02-06 00:00:00</td>\n",
       "      <td>2021-02-06 10:03:44</td>\n",
       "      <td>2021-02-06 10:04:14</td>\n",
       "      <td>2021-02-06 10:27:29</td>\n",
       "      <td>2021-02-06 10:44:08</td>\n",
       "      <td>1006</td>\n",
       "      <td>0.5789</td>\n",
       "      <td>0.19</td>\n",
       "      <td>4.0</td>\n",
       "      <td>4.0</td>\n",
       "      <td>0</td>\n",
       "      <td>0.0</td>\n",
       "      <td>127.0</td>\n",
       "      <td>369.516667</td>\n",
       "    </tr>\n",
       "    <tr>\n",
       "      <th>449996</th>\n",
       "      <td>2021-02-06 10:03:17</td>\n",
       "      <td>130227</td>\n",
       "      <td>2021-02-06 00:00:00</td>\n",
       "      <td>2021-02-06 10:03:18</td>\n",
       "      <td>2021-02-06 10:04:34</td>\n",
       "      <td>2021-02-06 10:22:17</td>\n",
       "      <td>2021-02-06 10:31:43</td>\n",
       "      <td>279</td>\n",
       "      <td>1.9863</td>\n",
       "      <td>1.19</td>\n",
       "      <td>81.0</td>\n",
       "      <td>81.0</td>\n",
       "      <td>0</td>\n",
       "      <td>0.0</td>\n",
       "      <td>105.0</td>\n",
       "      <td>239.133333</td>\n",
       "    </tr>\n",
       "    <tr>\n",
       "      <th>449997</th>\n",
       "      <td>2021-02-06 10:03:18</td>\n",
       "      <td>130228</td>\n",
       "      <td>2021-02-06 00:00:00</td>\n",
       "      <td>2021-02-06 10:04:06</td>\n",
       "      <td>2021-02-06 10:04:39</td>\n",
       "      <td>2021-02-06 10:19:06</td>\n",
       "      <td>2021-02-06 10:26:56</td>\n",
       "      <td>3161</td>\n",
       "      <td>1.5944</td>\n",
       "      <td>1.61</td>\n",
       "      <td>28.0</td>\n",
       "      <td>28.0</td>\n",
       "      <td>0</td>\n",
       "      <td>0.0</td>\n",
       "      <td>1488.0</td>\n",
       "      <td>204.150000</td>\n",
       "    </tr>\n",
       "    <tr>\n",
       "      <th>449998</th>\n",
       "      <td>2021-02-06 10:03:19</td>\n",
       "      <td>130229</td>\n",
       "      <td>2021-02-06 00:00:00</td>\n",
       "      <td>2021-02-06 10:03:19</td>\n",
       "      <td>2021-02-06 10:05:41</td>\n",
       "      <td>2021-02-06 10:20:39</td>\n",
       "      <td>2021-02-06 10:30:41</td>\n",
       "      <td>9396</td>\n",
       "      <td>2.8939</td>\n",
       "      <td>4.68</td>\n",
       "      <td>72.0</td>\n",
       "      <td>72.0</td>\n",
       "      <td>0</td>\n",
       "      <td>0.0</td>\n",
       "      <td>105.0</td>\n",
       "      <td>65.583333</td>\n",
       "    </tr>\n",
       "    <tr>\n",
       "      <th>449999</th>\n",
       "      <td>2021-02-06 10:03:24</td>\n",
       "      <td>130230</td>\n",
       "      <td>2021-02-06 00:00:00</td>\n",
       "      <td>2021-02-06 10:03:45</td>\n",
       "      <td>2021-02-06 10:05:14</td>\n",
       "      <td>2021-02-06 10:13:26</td>\n",
       "      <td>2021-02-06 10:19:41</td>\n",
       "      <td>2078</td>\n",
       "      <td>1.8925</td>\n",
       "      <td>0.09</td>\n",
       "      <td>30.0</td>\n",
       "      <td>30.0</td>\n",
       "      <td>0</td>\n",
       "      <td>0.0</td>\n",
       "      <td>108.0</td>\n",
       "      <td>212.000000</td>\n",
       "    </tr>\n",
       "  </tbody>\n",
       "</table>\n",
       "<p>450000 rows × 16 columns</p>\n",
       "</div>"
      ],
      "text/plain": [
       "                 order_time  order_id           order_date  \\\n",
       "0       2021-01-26 02:21:35    556753  2021-01-26 00:00:00   \n",
       "1       2021-01-26 02:33:16    556754  2021-01-26 00:00:00   \n",
       "2       2021-01-26 02:39:49    556755  2021-01-26 00:00:00   \n",
       "3       2021-01-26 02:47:53    556756  2021-01-26 00:00:00   \n",
       "4       2021-01-26 03:06:30    556757  2021-01-26 00:00:00   \n",
       "...                     ...       ...                  ...   \n",
       "449995  2021-02-06 10:03:16    130226  2021-02-06 00:00:00   \n",
       "449996  2021-02-06 10:03:17    130227  2021-02-06 00:00:00   \n",
       "449997  2021-02-06 10:03:18    130228  2021-02-06 00:00:00   \n",
       "449998  2021-02-06 10:03:19    130229  2021-02-06 00:00:00   \n",
       "449999  2021-02-06 10:03:24    130230  2021-02-06 00:00:00   \n",
       "\n",
       "                 allot_time          accept_time          pickup_time  \\\n",
       "0       2021-01-26 02:21:59  2021-01-26 02:22:08  2021-01-26 02:32:51   \n",
       "1       2021-01-26 02:33:57  2021-01-26 02:34:45  2021-01-26 02:50:25   \n",
       "2       2021-01-26 02:39:57  2021-01-26 02:40:13  2021-01-26 02:56:00   \n",
       "3       2021-01-26 02:48:25  2021-01-26 02:49:06  2021-01-26 03:21:51   \n",
       "4       2021-01-26 03:07:21  2021-01-26 03:07:57  2021-01-26 03:31:38   \n",
       "...                     ...                  ...                  ...   \n",
       "449995  2021-02-06 10:03:44  2021-02-06 10:04:14  2021-02-06 10:27:29   \n",
       "449996  2021-02-06 10:03:18  2021-02-06 10:04:34  2021-02-06 10:22:17   \n",
       "449997  2021-02-06 10:04:06  2021-02-06 10:04:39  2021-02-06 10:19:06   \n",
       "449998  2021-02-06 10:03:19  2021-02-06 10:05:41  2021-02-06 10:20:39   \n",
       "449999  2021-02-06 10:03:45  2021-02-06 10:05:14  2021-02-06 10:13:26   \n",
       "\n",
       "             delivered_time  rider_id  first_mile_distance  \\\n",
       "0       2021-01-26 02:49:47     11696               1.5666   \n",
       "1       2021-01-26 03:11:15     18117               2.5207   \n",
       "2       2021-01-26 03:12:46     18623               2.2074   \n",
       "3       2021-01-26 03:41:05     15945               2.1894   \n",
       "4       2021-01-26 04:00:15     17589               2.7870   \n",
       "...                     ...       ...                  ...   \n",
       "449995  2021-02-06 10:44:08      1006               0.5789   \n",
       "449996  2021-02-06 10:31:43       279               1.9863   \n",
       "449997  2021-02-06 10:26:56      3161               1.5944   \n",
       "449998  2021-02-06 10:30:41      9396               2.8939   \n",
       "449999  2021-02-06 10:19:41      2078               1.8925   \n",
       "\n",
       "        last_mile_distance  alloted_orders  delivered_orders  cancelled  \\\n",
       "0                     2.65            46.0              46.0          0   \n",
       "1                     2.76             8.0               8.0          0   \n",
       "2                     4.80             1.0               1.0          0   \n",
       "3                     6.38             1.0               1.0          0   \n",
       "4                     4.01            34.0              34.0          0   \n",
       "...                    ...             ...               ...        ...   \n",
       "449995                0.19             4.0               4.0          0   \n",
       "449996                1.19            81.0              81.0          0   \n",
       "449997                1.61            28.0              28.0          0   \n",
       "449998                4.68            72.0              72.0          0   \n",
       "449999                0.09            30.0              30.0          0   \n",
       "\n",
       "        undelivered_orders  lifetime_order_count  session_time  \n",
       "0                      0.0                 621.0           NaN  \n",
       "1                      0.0                 105.0      3.266667  \n",
       "2                      0.0                  66.0      9.816667  \n",
       "3                      0.0                 127.0     17.533333  \n",
       "4                      0.0                  84.0      1.350000  \n",
       "...                    ...                   ...           ...  \n",
       "449995                 0.0                 127.0    369.516667  \n",
       "449996                 0.0                 105.0    239.133333  \n",
       "449997                 0.0                1488.0    204.150000  \n",
       "449998                 0.0                 105.0     65.583333  \n",
       "449999                 0.0                 108.0    212.000000  \n",
       "\n",
       "[450000 rows x 16 columns]"
      ]
     },
     "execution_count": 14,
     "metadata": {},
     "output_type": "execute_result"
    }
   ],
   "source": [
    "train"
   ]
  },
  {
   "cell_type": "code",
   "execution_count": 15,
   "metadata": {},
   "outputs": [],
   "source": [
    "# import datetime module from datetime\n",
    "from datetime import datetime"
   ]
  },
  {
   "cell_type": "code",
   "execution_count": 16,
   "metadata": {},
   "outputs": [
    {
     "data": {
      "text/plain": [
       "Index(['order_time', 'order_id', 'order_date', 'allot_time', 'accept_time',\n",
       "       'pickup_time', 'delivered_time', 'rider_id', 'first_mile_distance',\n",
       "       'last_mile_distance', 'alloted_orders', 'delivered_orders', 'cancelled',\n",
       "       'undelivered_orders', 'lifetime_order_count', 'session_time'],\n",
       "      dtype='object')"
      ]
     },
     "execution_count": 16,
     "metadata": {},
     "output_type": "execute_result"
    }
   ],
   "source": [
    "train.columns"
   ]
  },
  {
   "cell_type": "code",
   "execution_count": 17,
   "metadata": {},
   "outputs": [],
   "source": [
    "train['order_time'] = pd.to_datetime(train['order_time'])\n",
    "train['order_date'] = pd.to_datetime(train['order_date'])\n",
    "train['allot_time'] = pd.to_datetime(train['allot_time'])\n",
    "train['accept_time'] = pd.to_datetime(train['accept_time'])\n",
    "train['pickup_time'] = pd.to_datetime(train['pickup_time'])\n",
    "train['delivered_time'] = pd.to_datetime(train['delivered_time'])"
   ]
  },
  {
   "cell_type": "code",
   "execution_count": 18,
   "metadata": {},
   "outputs": [
    {
     "data": {
      "text/html": [
       "<div>\n",
       "<style scoped>\n",
       "    .dataframe tbody tr th:only-of-type {\n",
       "        vertical-align: middle;\n",
       "    }\n",
       "\n",
       "    .dataframe tbody tr th {\n",
       "        vertical-align: top;\n",
       "    }\n",
       "\n",
       "    .dataframe thead th {\n",
       "        text-align: right;\n",
       "    }\n",
       "</style>\n",
       "<table border=\"1\" class=\"dataframe\">\n",
       "  <thead>\n",
       "    <tr style=\"text-align: right;\">\n",
       "      <th></th>\n",
       "      <th>order_time</th>\n",
       "      <th>order_id</th>\n",
       "      <th>order_date</th>\n",
       "      <th>allot_time</th>\n",
       "      <th>accept_time</th>\n",
       "      <th>pickup_time</th>\n",
       "      <th>delivered_time</th>\n",
       "      <th>rider_id</th>\n",
       "      <th>first_mile_distance</th>\n",
       "      <th>last_mile_distance</th>\n",
       "      <th>alloted_orders</th>\n",
       "      <th>delivered_orders</th>\n",
       "      <th>cancelled</th>\n",
       "      <th>undelivered_orders</th>\n",
       "      <th>lifetime_order_count</th>\n",
       "      <th>session_time</th>\n",
       "    </tr>\n",
       "  </thead>\n",
       "  <tbody>\n",
       "    <tr>\n",
       "      <th>0</th>\n",
       "      <td>2021-01-26 02:21:35</td>\n",
       "      <td>556753</td>\n",
       "      <td>2021-01-26</td>\n",
       "      <td>2021-01-26 02:21:59</td>\n",
       "      <td>2021-01-26 02:22:08</td>\n",
       "      <td>2021-01-26 02:32:51</td>\n",
       "      <td>2021-01-26 02:49:47</td>\n",
       "      <td>11696</td>\n",
       "      <td>1.5666</td>\n",
       "      <td>2.65</td>\n",
       "      <td>46.0</td>\n",
       "      <td>46.0</td>\n",
       "      <td>0</td>\n",
       "      <td>0.0</td>\n",
       "      <td>621.0</td>\n",
       "      <td>NaN</td>\n",
       "    </tr>\n",
       "    <tr>\n",
       "      <th>1</th>\n",
       "      <td>2021-01-26 02:33:16</td>\n",
       "      <td>556754</td>\n",
       "      <td>2021-01-26</td>\n",
       "      <td>2021-01-26 02:33:57</td>\n",
       "      <td>2021-01-26 02:34:45</td>\n",
       "      <td>2021-01-26 02:50:25</td>\n",
       "      <td>2021-01-26 03:11:15</td>\n",
       "      <td>18117</td>\n",
       "      <td>2.5207</td>\n",
       "      <td>2.76</td>\n",
       "      <td>8.0</td>\n",
       "      <td>8.0</td>\n",
       "      <td>0</td>\n",
       "      <td>0.0</td>\n",
       "      <td>105.0</td>\n",
       "      <td>3.266667</td>\n",
       "    </tr>\n",
       "    <tr>\n",
       "      <th>2</th>\n",
       "      <td>2021-01-26 02:39:49</td>\n",
       "      <td>556755</td>\n",
       "      <td>2021-01-26</td>\n",
       "      <td>2021-01-26 02:39:57</td>\n",
       "      <td>2021-01-26 02:40:13</td>\n",
       "      <td>2021-01-26 02:56:00</td>\n",
       "      <td>2021-01-26 03:12:46</td>\n",
       "      <td>18623</td>\n",
       "      <td>2.2074</td>\n",
       "      <td>4.80</td>\n",
       "      <td>1.0</td>\n",
       "      <td>1.0</td>\n",
       "      <td>0</td>\n",
       "      <td>0.0</td>\n",
       "      <td>66.0</td>\n",
       "      <td>9.816667</td>\n",
       "    </tr>\n",
       "    <tr>\n",
       "      <th>3</th>\n",
       "      <td>2021-01-26 02:47:53</td>\n",
       "      <td>556756</td>\n",
       "      <td>2021-01-26</td>\n",
       "      <td>2021-01-26 02:48:25</td>\n",
       "      <td>2021-01-26 02:49:06</td>\n",
       "      <td>2021-01-26 03:21:51</td>\n",
       "      <td>2021-01-26 03:41:05</td>\n",
       "      <td>15945</td>\n",
       "      <td>2.1894</td>\n",
       "      <td>6.38</td>\n",
       "      <td>1.0</td>\n",
       "      <td>1.0</td>\n",
       "      <td>0</td>\n",
       "      <td>0.0</td>\n",
       "      <td>127.0</td>\n",
       "      <td>17.533333</td>\n",
       "    </tr>\n",
       "    <tr>\n",
       "      <th>4</th>\n",
       "      <td>2021-01-26 03:06:30</td>\n",
       "      <td>556757</td>\n",
       "      <td>2021-01-26</td>\n",
       "      <td>2021-01-26 03:07:21</td>\n",
       "      <td>2021-01-26 03:07:57</td>\n",
       "      <td>2021-01-26 03:31:38</td>\n",
       "      <td>2021-01-26 04:00:15</td>\n",
       "      <td>17589</td>\n",
       "      <td>2.7870</td>\n",
       "      <td>4.01</td>\n",
       "      <td>34.0</td>\n",
       "      <td>34.0</td>\n",
       "      <td>0</td>\n",
       "      <td>0.0</td>\n",
       "      <td>84.0</td>\n",
       "      <td>1.350000</td>\n",
       "    </tr>\n",
       "  </tbody>\n",
       "</table>\n",
       "</div>"
      ],
      "text/plain": [
       "           order_time  order_id order_date          allot_time  \\\n",
       "0 2021-01-26 02:21:35    556753 2021-01-26 2021-01-26 02:21:59   \n",
       "1 2021-01-26 02:33:16    556754 2021-01-26 2021-01-26 02:33:57   \n",
       "2 2021-01-26 02:39:49    556755 2021-01-26 2021-01-26 02:39:57   \n",
       "3 2021-01-26 02:47:53    556756 2021-01-26 2021-01-26 02:48:25   \n",
       "4 2021-01-26 03:06:30    556757 2021-01-26 2021-01-26 03:07:21   \n",
       "\n",
       "          accept_time         pickup_time      delivered_time  rider_id  \\\n",
       "0 2021-01-26 02:22:08 2021-01-26 02:32:51 2021-01-26 02:49:47     11696   \n",
       "1 2021-01-26 02:34:45 2021-01-26 02:50:25 2021-01-26 03:11:15     18117   \n",
       "2 2021-01-26 02:40:13 2021-01-26 02:56:00 2021-01-26 03:12:46     18623   \n",
       "3 2021-01-26 02:49:06 2021-01-26 03:21:51 2021-01-26 03:41:05     15945   \n",
       "4 2021-01-26 03:07:57 2021-01-26 03:31:38 2021-01-26 04:00:15     17589   \n",
       "\n",
       "   first_mile_distance  last_mile_distance  alloted_orders  delivered_orders  \\\n",
       "0               1.5666                2.65            46.0              46.0   \n",
       "1               2.5207                2.76             8.0               8.0   \n",
       "2               2.2074                4.80             1.0               1.0   \n",
       "3               2.1894                6.38             1.0               1.0   \n",
       "4               2.7870                4.01            34.0              34.0   \n",
       "\n",
       "   cancelled  undelivered_orders  lifetime_order_count  session_time  \n",
       "0          0                 0.0                 621.0           NaN  \n",
       "1          0                 0.0                 105.0      3.266667  \n",
       "2          0                 0.0                  66.0      9.816667  \n",
       "3          0                 0.0                 127.0     17.533333  \n",
       "4          0                 0.0                  84.0      1.350000  "
      ]
     },
     "execution_count": 18,
     "metadata": {},
     "output_type": "execute_result"
    }
   ],
   "source": [
    "train.head()"
   ]
  },
  {
   "cell_type": "code",
   "execution_count": 19,
   "metadata": {},
   "outputs": [
    {
     "data": {
      "text/plain": [
       "<matplotlib.axes._subplots.AxesSubplot at 0x281f493d948>"
      ]
     },
     "execution_count": 19,
     "metadata": {},
     "output_type": "execute_result"
    },
    {
     "data": {
      "image/png": "[encoded data removed]",
      "text/plain": [
       "<Figure size 2088x1584 with 2 Axes>"
      ]
     },
     "metadata": {
      "needs_background": "light"
     },
     "output_type": "display_data"
    }
   ],
   "source": [
    "plt.figure(figsize=(29,22)) \n",
    "sns.heatmap(train.corr(), cmap='Blues',annot=True)"
   ]
  },
  {
   "cell_type": "markdown",
   "metadata": {},
   "source": [
    "Order date"
   ]
  },
  {
   "cell_type": "code",
   "execution_count": 20,
   "metadata": {},
   "outputs": [
    {
     "data": {
      "text/html": [
       "<div>\n",
       "<style scoped>\n",
       "    .dataframe tbody tr th:only-of-type {\n",
       "        vertical-align: middle;\n",
       "    }\n",
       "\n",
       "    .dataframe tbody tr th {\n",
       "        vertical-align: top;\n",
       "    }\n",
       "\n",
       "    .dataframe thead th {\n",
       "        text-align: right;\n",
       "    }\n",
       "</style>\n",
       "<table border=\"1\" class=\"dataframe\">\n",
       "  <thead>\n",
       "    <tr style=\"text-align: right;\">\n",
       "      <th></th>\n",
       "      <th>order_time</th>\n",
       "      <th>order_id</th>\n",
       "      <th>order_date</th>\n",
       "      <th>allot_time</th>\n",
       "      <th>accept_time</th>\n",
       "      <th>pickup_time</th>\n",
       "      <th>delivered_time</th>\n",
       "      <th>rider_id</th>\n",
       "      <th>first_mile_distance</th>\n",
       "      <th>last_mile_distance</th>\n",
       "      <th>alloted_orders</th>\n",
       "      <th>delivered_orders</th>\n",
       "      <th>cancelled</th>\n",
       "      <th>undelivered_orders</th>\n",
       "      <th>lifetime_order_count</th>\n",
       "      <th>session_time</th>\n",
       "      <th>order year</th>\n",
       "      <th>order month</th>\n",
       "      <th>order day</th>\n",
       "    </tr>\n",
       "  </thead>\n",
       "  <tbody>\n",
       "    <tr>\n",
       "      <th>0</th>\n",
       "      <td>2021-01-26 02:21:35</td>\n",
       "      <td>556753</td>\n",
       "      <td>2021-01-26</td>\n",
       "      <td>2021-01-26 02:21:59</td>\n",
       "      <td>2021-01-26 02:22:08</td>\n",
       "      <td>2021-01-26 02:32:51</td>\n",
       "      <td>2021-01-26 02:49:47</td>\n",
       "      <td>11696</td>\n",
       "      <td>1.5666</td>\n",
       "      <td>2.65</td>\n",
       "      <td>46.0</td>\n",
       "      <td>46.0</td>\n",
       "      <td>0</td>\n",
       "      <td>0.0</td>\n",
       "      <td>621.0</td>\n",
       "      <td>NaN</td>\n",
       "      <td>2021</td>\n",
       "      <td>1</td>\n",
       "      <td>26</td>\n",
       "    </tr>\n",
       "    <tr>\n",
       "      <th>1</th>\n",
       "      <td>2021-01-26 02:33:16</td>\n",
       "      <td>556754</td>\n",
       "      <td>2021-01-26</td>\n",
       "      <td>2021-01-26 02:33:57</td>\n",
       "      <td>2021-01-26 02:34:45</td>\n",
       "      <td>2021-01-26 02:50:25</td>\n",
       "      <td>2021-01-26 03:11:15</td>\n",
       "      <td>18117</td>\n",
       "      <td>2.5207</td>\n",
       "      <td>2.76</td>\n",
       "      <td>8.0</td>\n",
       "      <td>8.0</td>\n",
       "      <td>0</td>\n",
       "      <td>0.0</td>\n",
       "      <td>105.0</td>\n",
       "      <td>3.266667</td>\n",
       "      <td>2021</td>\n",
       "      <td>1</td>\n",
       "      <td>26</td>\n",
       "    </tr>\n",
       "    <tr>\n",
       "      <th>2</th>\n",
       "      <td>2021-01-26 02:39:49</td>\n",
       "      <td>556755</td>\n",
       "      <td>2021-01-26</td>\n",
       "      <td>2021-01-26 02:39:57</td>\n",
       "      <td>2021-01-26 02:40:13</td>\n",
       "      <td>2021-01-26 02:56:00</td>\n",
       "      <td>2021-01-26 03:12:46</td>\n",
       "      <td>18623</td>\n",
       "      <td>2.2074</td>\n",
       "      <td>4.80</td>\n",
       "      <td>1.0</td>\n",
       "      <td>1.0</td>\n",
       "      <td>0</td>\n",
       "      <td>0.0</td>\n",
       "      <td>66.0</td>\n",
       "      <td>9.816667</td>\n",
       "      <td>2021</td>\n",
       "      <td>1</td>\n",
       "      <td>26</td>\n",
       "    </tr>\n",
       "    <tr>\n",
       "      <th>3</th>\n",
       "      <td>2021-01-26 02:47:53</td>\n",
       "      <td>556756</td>\n",
       "      <td>2021-01-26</td>\n",
       "      <td>2021-01-26 02:48:25</td>\n",
       "      <td>2021-01-26 02:49:06</td>\n",
       "      <td>2021-01-26 03:21:51</td>\n",
       "      <td>2021-01-26 03:41:05</td>\n",
       "      <td>15945</td>\n",
       "      <td>2.1894</td>\n",
       "      <td>6.38</td>\n",
       "      <td>1.0</td>\n",
       "      <td>1.0</td>\n",
       "      <td>0</td>\n",
       "      <td>0.0</td>\n",
       "      <td>127.0</td>\n",
       "      <td>17.533333</td>\n",
       "      <td>2021</td>\n",
       "      <td>1</td>\n",
       "      <td>26</td>\n",
       "    </tr>\n",
       "    <tr>\n",
       "      <th>4</th>\n",
       "      <td>2021-01-26 03:06:30</td>\n",
       "      <td>556757</td>\n",
       "      <td>2021-01-26</td>\n",
       "      <td>2021-01-26 03:07:21</td>\n",
       "      <td>2021-01-26 03:07:57</td>\n",
       "      <td>2021-01-26 03:31:38</td>\n",
       "      <td>2021-01-26 04:00:15</td>\n",
       "      <td>17589</td>\n",
       "      <td>2.7870</td>\n",
       "      <td>4.01</td>\n",
       "      <td>34.0</td>\n",
       "      <td>34.0</td>\n",
       "      <td>0</td>\n",
       "      <td>0.0</td>\n",
       "      <td>84.0</td>\n",
       "      <td>1.350000</td>\n",
       "      <td>2021</td>\n",
       "      <td>1</td>\n",
       "      <td>26</td>\n",
       "    </tr>\n",
       "  </tbody>\n",
       "</table>\n",
       "</div>"
      ],
      "text/plain": [
       "           order_time  order_id order_date          allot_time  \\\n",
       "0 2021-01-26 02:21:35    556753 2021-01-26 2021-01-26 02:21:59   \n",
       "1 2021-01-26 02:33:16    556754 2021-01-26 2021-01-26 02:33:57   \n",
       "2 2021-01-26 02:39:49    556755 2021-01-26 2021-01-26 02:39:57   \n",
       "3 2021-01-26 02:47:53    556756 2021-01-26 2021-01-26 02:48:25   \n",
       "4 2021-01-26 03:06:30    556757 2021-01-26 2021-01-26 03:07:21   \n",
       "\n",
       "          accept_time         pickup_time      delivered_time  rider_id  \\\n",
       "0 2021-01-26 02:22:08 2021-01-26 02:32:51 2021-01-26 02:49:47     11696   \n",
       "1 2021-01-26 02:34:45 2021-01-26 02:50:25 2021-01-26 03:11:15     18117   \n",
       "2 2021-01-26 02:40:13 2021-01-26 02:56:00 2021-01-26 03:12:46     18623   \n",
       "3 2021-01-26 02:49:06 2021-01-26 03:21:51 2021-01-26 03:41:05     15945   \n",
       "4 2021-01-26 03:07:57 2021-01-26 03:31:38 2021-01-26 04:00:15     17589   \n",
       "\n",
       "   first_mile_distance  last_mile_distance  alloted_orders  delivered_orders  \\\n",
       "0               1.5666                2.65            46.0              46.0   \n",
       "1               2.5207                2.76             8.0               8.0   \n",
       "2               2.2074                4.80             1.0               1.0   \n",
       "3               2.1894                6.38             1.0               1.0   \n",
       "4               2.7870                4.01            34.0              34.0   \n",
       "\n",
       "   cancelled  undelivered_orders  lifetime_order_count  session_time  \\\n",
       "0          0                 0.0                 621.0           NaN   \n",
       "1          0                 0.0                 105.0      3.266667   \n",
       "2          0                 0.0                  66.0      9.816667   \n",
       "3          0                 0.0                 127.0     17.533333   \n",
       "4          0                 0.0                  84.0      1.350000   \n",
       "\n",
       "   order year  order month  order day  \n",
       "0        2021            1         26  \n",
       "1        2021            1         26  \n",
       "2        2021            1         26  \n",
       "3        2021            1         26  \n",
       "4        2021            1         26  "
      ]
     },
     "execution_count": 20,
     "metadata": {},
     "output_type": "execute_result"
    }
   ],
   "source": [
    "train['order year'] = train['order_date'].dt.year\n",
    "train['order month'] = train['order_date'].dt.month\n",
    "train['order day'] = train['order_date'].dt.day\n",
    "\n",
    "\n",
    "train.head()"
   ]
  },
  {
   "cell_type": "markdown",
   "metadata": {},
   "source": [
    "Allot time"
   ]
  },
  {
   "cell_type": "code",
   "execution_count": 23,
   "metadata": {},
   "outputs": [],
   "source": [
    "train['allot_time hour'] = train['allot_time'].dt.hour\n",
    "train['allot_time minute'] = train['allot_time'].dt.minute\n",
    "train['allot_time second'] = train['allot_time'].dt.second"
   ]
  },
  {
   "cell_type": "markdown",
   "metadata": {},
   "source": [
    "Accept time"
   ]
  },
  {
   "cell_type": "code",
   "execution_count": 25,
   "metadata": {},
   "outputs": [],
   "source": [
    "train['accept_time hour'] = train['accept_time'].dt.hour\n",
    "train['accept_time minute'] = train['accept_time'].dt.minute\n",
    "train['accept_time second'] = train['accept_time'].dt.second"
   ]
  },
  {
   "cell_type": "code",
   "execution_count": 26,
   "metadata": {},
   "outputs": [
    {
     "data": {
      "text/html": [
       "<div>\n",
       "<style scoped>\n",
       "    .dataframe tbody tr th:only-of-type {\n",
       "        vertical-align: middle;\n",
       "    }\n",
       "\n",
       "    .dataframe tbody tr th {\n",
       "        vertical-align: top;\n",
       "    }\n",
       "\n",
       "    .dataframe thead th {\n",
       "        text-align: right;\n",
       "    }\n",
       "</style>\n",
       "<table border=\"1\" class=\"dataframe\">\n",
       "  <thead>\n",
       "    <tr style=\"text-align: right;\">\n",
       "      <th></th>\n",
       "      <th>order_time</th>\n",
       "      <th>order_id</th>\n",
       "      <th>order_date</th>\n",
       "      <th>allot_time</th>\n",
       "      <th>accept_time</th>\n",
       "      <th>pickup_time</th>\n",
       "      <th>delivered_time</th>\n",
       "      <th>rider_id</th>\n",
       "      <th>first_mile_distance</th>\n",
       "      <th>last_mile_distance</th>\n",
       "      <th>...</th>\n",
       "      <th>session_time</th>\n",
       "      <th>order year</th>\n",
       "      <th>order month</th>\n",
       "      <th>order day</th>\n",
       "      <th>allot_time hour</th>\n",
       "      <th>allot_time minute</th>\n",
       "      <th>allot_time second</th>\n",
       "      <th>accept_time hour</th>\n",
       "      <th>accept_time minute</th>\n",
       "      <th>accept_time second</th>\n",
       "    </tr>\n",
       "  </thead>\n",
       "  <tbody>\n",
       "    <tr>\n",
       "      <th>0</th>\n",
       "      <td>2021-01-26 02:21:35</td>\n",
       "      <td>556753</td>\n",
       "      <td>2021-01-26</td>\n",
       "      <td>2021-01-26 02:21:59</td>\n",
       "      <td>2021-01-26 02:22:08</td>\n",
       "      <td>2021-01-26 02:32:51</td>\n",
       "      <td>2021-01-26 02:49:47</td>\n",
       "      <td>11696</td>\n",
       "      <td>1.5666</td>\n",
       "      <td>2.65</td>\n",
       "      <td>...</td>\n",
       "      <td>NaN</td>\n",
       "      <td>2021</td>\n",
       "      <td>1</td>\n",
       "      <td>26</td>\n",
       "      <td>2</td>\n",
       "      <td>21</td>\n",
       "      <td>59</td>\n",
       "      <td>2.0</td>\n",
       "      <td>22.0</td>\n",
       "      <td>8.0</td>\n",
       "    </tr>\n",
       "    <tr>\n",
       "      <th>1</th>\n",
       "      <td>2021-01-26 02:33:16</td>\n",
       "      <td>556754</td>\n",
       "      <td>2021-01-26</td>\n",
       "      <td>2021-01-26 02:33:57</td>\n",
       "      <td>2021-01-26 02:34:45</td>\n",
       "      <td>2021-01-26 02:50:25</td>\n",
       "      <td>2021-01-26 03:11:15</td>\n",
       "      <td>18117</td>\n",
       "      <td>2.5207</td>\n",
       "      <td>2.76</td>\n",
       "      <td>...</td>\n",
       "      <td>3.266667</td>\n",
       "      <td>2021</td>\n",
       "      <td>1</td>\n",
       "      <td>26</td>\n",
       "      <td>2</td>\n",
       "      <td>33</td>\n",
       "      <td>57</td>\n",
       "      <td>2.0</td>\n",
       "      <td>34.0</td>\n",
       "      <td>45.0</td>\n",
       "    </tr>\n",
       "    <tr>\n",
       "      <th>2</th>\n",
       "      <td>2021-01-26 02:39:49</td>\n",
       "      <td>556755</td>\n",
       "      <td>2021-01-26</td>\n",
       "      <td>2021-01-26 02:39:57</td>\n",
       "      <td>2021-01-26 02:40:13</td>\n",
       "      <td>2021-01-26 02:56:00</td>\n",
       "      <td>2021-01-26 03:12:46</td>\n",
       "      <td>18623</td>\n",
       "      <td>2.2074</td>\n",
       "      <td>4.80</td>\n",
       "      <td>...</td>\n",
       "      <td>9.816667</td>\n",
       "      <td>2021</td>\n",
       "      <td>1</td>\n",
       "      <td>26</td>\n",
       "      <td>2</td>\n",
       "      <td>39</td>\n",
       "      <td>57</td>\n",
       "      <td>2.0</td>\n",
       "      <td>40.0</td>\n",
       "      <td>13.0</td>\n",
       "    </tr>\n",
       "    <tr>\n",
       "      <th>3</th>\n",
       "      <td>2021-01-26 02:47:53</td>\n",
       "      <td>556756</td>\n",
       "      <td>2021-01-26</td>\n",
       "      <td>2021-01-26 02:48:25</td>\n",
       "      <td>2021-01-26 02:49:06</td>\n",
       "      <td>2021-01-26 03:21:51</td>\n",
       "      <td>2021-01-26 03:41:05</td>\n",
       "      <td>15945</td>\n",
       "      <td>2.1894</td>\n",
       "      <td>6.38</td>\n",
       "      <td>...</td>\n",
       "      <td>17.533333</td>\n",
       "      <td>2021</td>\n",
       "      <td>1</td>\n",
       "      <td>26</td>\n",
       "      <td>2</td>\n",
       "      <td>48</td>\n",
       "      <td>25</td>\n",
       "      <td>2.0</td>\n",
       "      <td>49.0</td>\n",
       "      <td>6.0</td>\n",
       "    </tr>\n",
       "    <tr>\n",
       "      <th>4</th>\n",
       "      <td>2021-01-26 03:06:30</td>\n",
       "      <td>556757</td>\n",
       "      <td>2021-01-26</td>\n",
       "      <td>2021-01-26 03:07:21</td>\n",
       "      <td>2021-01-26 03:07:57</td>\n",
       "      <td>2021-01-26 03:31:38</td>\n",
       "      <td>2021-01-26 04:00:15</td>\n",
       "      <td>17589</td>\n",
       "      <td>2.7870</td>\n",
       "      <td>4.01</td>\n",
       "      <td>...</td>\n",
       "      <td>1.350000</td>\n",
       "      <td>2021</td>\n",
       "      <td>1</td>\n",
       "      <td>26</td>\n",
       "      <td>3</td>\n",
       "      <td>7</td>\n",
       "      <td>21</td>\n",
       "      <td>3.0</td>\n",
       "      <td>7.0</td>\n",
       "      <td>57.0</td>\n",
       "    </tr>\n",
       "    <tr>\n",
       "      <th>...</th>\n",
       "      <td>...</td>\n",
       "      <td>...</td>\n",
       "      <td>...</td>\n",
       "      <td>...</td>\n",
       "      <td>...</td>\n",
       "      <td>...</td>\n",
       "      <td>...</td>\n",
       "      <td>...</td>\n",
       "      <td>...</td>\n",
       "      <td>...</td>\n",
       "      <td>...</td>\n",
       "      <td>...</td>\n",
       "      <td>...</td>\n",
       "      <td>...</td>\n",
       "      <td>...</td>\n",
       "      <td>...</td>\n",
       "      <td>...</td>\n",
       "      <td>...</td>\n",
       "      <td>...</td>\n",
       "      <td>...</td>\n",
       "      <td>...</td>\n",
       "    </tr>\n",
       "    <tr>\n",
       "      <th>449995</th>\n",
       "      <td>2021-02-06 10:03:16</td>\n",
       "      <td>130226</td>\n",
       "      <td>2021-02-06</td>\n",
       "      <td>2021-02-06 10:03:44</td>\n",
       "      <td>2021-02-06 10:04:14</td>\n",
       "      <td>2021-02-06 10:27:29</td>\n",
       "      <td>2021-02-06 10:44:08</td>\n",
       "      <td>1006</td>\n",
       "      <td>0.5789</td>\n",
       "      <td>0.19</td>\n",
       "      <td>...</td>\n",
       "      <td>369.516667</td>\n",
       "      <td>2021</td>\n",
       "      <td>2</td>\n",
       "      <td>6</td>\n",
       "      <td>10</td>\n",
       "      <td>3</td>\n",
       "      <td>44</td>\n",
       "      <td>10.0</td>\n",
       "      <td>4.0</td>\n",
       "      <td>14.0</td>\n",
       "    </tr>\n",
       "    <tr>\n",
       "      <th>449996</th>\n",
       "      <td>2021-02-06 10:03:17</td>\n",
       "      <td>130227</td>\n",
       "      <td>2021-02-06</td>\n",
       "      <td>2021-02-06 10:03:18</td>\n",
       "      <td>2021-02-06 10:04:34</td>\n",
       "      <td>2021-02-06 10:22:17</td>\n",
       "      <td>2021-02-06 10:31:43</td>\n",
       "      <td>279</td>\n",
       "      <td>1.9863</td>\n",
       "      <td>1.19</td>\n",
       "      <td>...</td>\n",
       "      <td>239.133333</td>\n",
       "      <td>2021</td>\n",
       "      <td>2</td>\n",
       "      <td>6</td>\n",
       "      <td>10</td>\n",
       "      <td>3</td>\n",
       "      <td>18</td>\n",
       "      <td>10.0</td>\n",
       "      <td>4.0</td>\n",
       "      <td>34.0</td>\n",
       "    </tr>\n",
       "    <tr>\n",
       "      <th>449997</th>\n",
       "      <td>2021-02-06 10:03:18</td>\n",
       "      <td>130228</td>\n",
       "      <td>2021-02-06</td>\n",
       "      <td>2021-02-06 10:04:06</td>\n",
       "      <td>2021-02-06 10:04:39</td>\n",
       "      <td>2021-02-06 10:19:06</td>\n",
       "      <td>2021-02-06 10:26:56</td>\n",
       "      <td>3161</td>\n",
       "      <td>1.5944</td>\n",
       "      <td>1.61</td>\n",
       "      <td>...</td>\n",
       "      <td>204.150000</td>\n",
       "      <td>2021</td>\n",
       "      <td>2</td>\n",
       "      <td>6</td>\n",
       "      <td>10</td>\n",
       "      <td>4</td>\n",
       "      <td>6</td>\n",
       "      <td>10.0</td>\n",
       "      <td>4.0</td>\n",
       "      <td>39.0</td>\n",
       "    </tr>\n",
       "    <tr>\n",
       "      <th>449998</th>\n",
       "      <td>2021-02-06 10:03:19</td>\n",
       "      <td>130229</td>\n",
       "      <td>2021-02-06</td>\n",
       "      <td>2021-02-06 10:03:19</td>\n",
       "      <td>2021-02-06 10:05:41</td>\n",
       "      <td>2021-02-06 10:20:39</td>\n",
       "      <td>2021-02-06 10:30:41</td>\n",
       "      <td>9396</td>\n",
       "      <td>2.8939</td>\n",
       "      <td>4.68</td>\n",
       "      <td>...</td>\n",
       "      <td>65.583333</td>\n",
       "      <td>2021</td>\n",
       "      <td>2</td>\n",
       "      <td>6</td>\n",
       "      <td>10</td>\n",
       "      <td>3</td>\n",
       "      <td>19</td>\n",
       "      <td>10.0</td>\n",
       "      <td>5.0</td>\n",
       "      <td>41.0</td>\n",
       "    </tr>\n",
       "    <tr>\n",
       "      <th>449999</th>\n",
       "      <td>2021-02-06 10:03:24</td>\n",
       "      <td>130230</td>\n",
       "      <td>2021-02-06</td>\n",
       "      <td>2021-02-06 10:03:45</td>\n",
       "      <td>2021-02-06 10:05:14</td>\n",
       "      <td>2021-02-06 10:13:26</td>\n",
       "      <td>2021-02-06 10:19:41</td>\n",
       "      <td>2078</td>\n",
       "      <td>1.8925</td>\n",
       "      <td>0.09</td>\n",
       "      <td>...</td>\n",
       "      <td>212.000000</td>\n",
       "      <td>2021</td>\n",
       "      <td>2</td>\n",
       "      <td>6</td>\n",
       "      <td>10</td>\n",
       "      <td>3</td>\n",
       "      <td>45</td>\n",
       "      <td>10.0</td>\n",
       "      <td>5.0</td>\n",
       "      <td>14.0</td>\n",
       "    </tr>\n",
       "  </tbody>\n",
       "</table>\n",
       "<p>450000 rows × 25 columns</p>\n",
       "</div>"
      ],
      "text/plain": [
       "                order_time  order_id order_date          allot_time  \\\n",
       "0      2021-01-26 02:21:35    556753 2021-01-26 2021-01-26 02:21:59   \n",
       "1      2021-01-26 02:33:16    556754 2021-01-26 2021-01-26 02:33:57   \n",
       "2      2021-01-26 02:39:49    556755 2021-01-26 2021-01-26 02:39:57   \n",
       "3      2021-01-26 02:47:53    556756 2021-01-26 2021-01-26 02:48:25   \n",
       "4      2021-01-26 03:06:30    556757 2021-01-26 2021-01-26 03:07:21   \n",
       "...                    ...       ...        ...                 ...   \n",
       "449995 2021-02-06 10:03:16    130226 2021-02-06 2021-02-06 10:03:44   \n",
       "449996 2021-02-06 10:03:17    130227 2021-02-06 2021-02-06 10:03:18   \n",
       "449997 2021-02-06 10:03:18    130228 2021-02-06 2021-02-06 10:04:06   \n",
       "449998 2021-02-06 10:03:19    130229 2021-02-06 2021-02-06 10:03:19   \n",
       "449999 2021-02-06 10:03:24    130230 2021-02-06 2021-02-06 10:03:45   \n",
       "\n",
       "               accept_time         pickup_time      delivered_time  rider_id  \\\n",
       "0      2021-01-26 02:22:08 2021-01-26 02:32:51 2021-01-26 02:49:47     11696   \n",
       "1      2021-01-26 02:34:45 2021-01-26 02:50:25 2021-01-26 03:11:15     18117   \n",
       "2      2021-01-26 02:40:13 2021-01-26 02:56:00 2021-01-26 03:12:46     18623   \n",
       "3      2021-01-26 02:49:06 2021-01-26 03:21:51 2021-01-26 03:41:05     15945   \n",
       "4      2021-01-26 03:07:57 2021-01-26 03:31:38 2021-01-26 04:00:15     17589   \n",
       "...                    ...                 ...                 ...       ...   \n",
       "449995 2021-02-06 10:04:14 2021-02-06 10:27:29 2021-02-06 10:44:08      1006   \n",
       "449996 2021-02-06 10:04:34 2021-02-06 10:22:17 2021-02-06 10:31:43       279   \n",
       "449997 2021-02-06 10:04:39 2021-02-06 10:19:06 2021-02-06 10:26:56      3161   \n",
       "449998 2021-02-06 10:05:41 2021-02-06 10:20:39 2021-02-06 10:30:41      9396   \n",
       "449999 2021-02-06 10:05:14 2021-02-06 10:13:26 2021-02-06 10:19:41      2078   \n",
       "\n",
       "        first_mile_distance  last_mile_distance  ...  session_time  \\\n",
       "0                    1.5666                2.65  ...           NaN   \n",
       "1                    2.5207                2.76  ...      3.266667   \n",
       "2                    2.2074                4.80  ...      9.816667   \n",
       "3                    2.1894                6.38  ...     17.533333   \n",
       "4                    2.7870                4.01  ...      1.350000   \n",
       "...                     ...                 ...  ...           ...   \n",
       "449995               0.5789                0.19  ...    369.516667   \n",
       "449996               1.9863                1.19  ...    239.133333   \n",
       "449997               1.5944                1.61  ...    204.150000   \n",
       "449998               2.8939                4.68  ...     65.583333   \n",
       "449999               1.8925                0.09  ...    212.000000   \n",
       "\n",
       "        order year  order month  order day  allot_time hour  \\\n",
       "0             2021            1         26                2   \n",
       "1             2021            1         26                2   \n",
       "2             2021            1         26                2   \n",
       "3             2021            1         26                2   \n",
       "4             2021            1         26                3   \n",
       "...            ...          ...        ...              ...   \n",
       "449995        2021            2          6               10   \n",
       "449996        2021            2          6               10   \n",
       "449997        2021            2          6               10   \n",
       "449998        2021            2          6               10   \n",
       "449999        2021            2          6               10   \n",
       "\n",
       "        allot_time minute  allot_time second  accept_time hour  \\\n",
       "0                      21                 59               2.0   \n",
       "1                      33                 57               2.0   \n",
       "2                      39                 57               2.0   \n",
       "3                      48                 25               2.0   \n",
       "4                       7                 21               3.0   \n",
       "...                   ...                ...               ...   \n",
       "449995                  3                 44              10.0   \n",
       "449996                  3                 18              10.0   \n",
       "449997                  4                  6              10.0   \n",
       "449998                  3                 19              10.0   \n",
       "449999                  3                 45              10.0   \n",
       "\n",
       "        accept_time minute  accept_time second  \n",
       "0                     22.0                 8.0  \n",
       "1                     34.0                45.0  \n",
       "2                     40.0                13.0  \n",
       "3                     49.0                 6.0  \n",
       "4                      7.0                57.0  \n",
       "...                    ...                 ...  \n",
       "449995                 4.0                14.0  \n",
       "449996                 4.0                34.0  \n",
       "449997                 4.0                39.0  \n",
       "449998                 5.0                41.0  \n",
       "449999                 5.0                14.0  \n",
       "\n",
       "[450000 rows x 25 columns]"
      ]
     },
     "execution_count": 26,
     "metadata": {},
     "output_type": "execute_result"
    }
   ],
   "source": [
    "train"
   ]
  },
  {
   "cell_type": "markdown",
   "metadata": {},
   "source": [
    "Order time"
   ]
  },
  {
   "cell_type": "code",
   "execution_count": 27,
   "metadata": {},
   "outputs": [
    {
     "data": {
      "text/html": [
       "<div>\n",
       "<style scoped>\n",
       "    .dataframe tbody tr th:only-of-type {\n",
       "        vertical-align: middle;\n",
       "    }\n",
       "\n",
       "    .dataframe tbody tr th {\n",
       "        vertical-align: top;\n",
       "    }\n",
       "\n",
       "    .dataframe thead th {\n",
       "        text-align: right;\n",
       "    }\n",
       "</style>\n",
       "<table border=\"1\" class=\"dataframe\">\n",
       "  <thead>\n",
       "    <tr style=\"text-align: right;\">\n",
       "      <th></th>\n",
       "      <th>order_time</th>\n",
       "      <th>order_id</th>\n",
       "      <th>order_date</th>\n",
       "      <th>allot_time</th>\n",
       "      <th>accept_time</th>\n",
       "      <th>pickup_time</th>\n",
       "      <th>delivered_time</th>\n",
       "      <th>rider_id</th>\n",
       "      <th>first_mile_distance</th>\n",
       "      <th>last_mile_distance</th>\n",
       "      <th>...</th>\n",
       "      <th>order day</th>\n",
       "      <th>allot_time hour</th>\n",
       "      <th>allot_time minute</th>\n",
       "      <th>allot_time second</th>\n",
       "      <th>accept_time hour</th>\n",
       "      <th>accept_time minute</th>\n",
       "      <th>accept_time second</th>\n",
       "      <th>order_time hour</th>\n",
       "      <th>order_time minute</th>\n",
       "      <th>order_time seconds</th>\n",
       "    </tr>\n",
       "  </thead>\n",
       "  <tbody>\n",
       "    <tr>\n",
       "      <th>0</th>\n",
       "      <td>2021-01-26 02:21:35</td>\n",
       "      <td>556753</td>\n",
       "      <td>2021-01-26</td>\n",
       "      <td>2021-01-26 02:21:59</td>\n",
       "      <td>2021-01-26 02:22:08</td>\n",
       "      <td>2021-01-26 02:32:51</td>\n",
       "      <td>2021-01-26 02:49:47</td>\n",
       "      <td>11696</td>\n",
       "      <td>1.5666</td>\n",
       "      <td>2.65</td>\n",
       "      <td>...</td>\n",
       "      <td>26</td>\n",
       "      <td>2</td>\n",
       "      <td>21</td>\n",
       "      <td>59</td>\n",
       "      <td>2.0</td>\n",
       "      <td>22.0</td>\n",
       "      <td>8.0</td>\n",
       "      <td>2</td>\n",
       "      <td>21</td>\n",
       "      <td>35</td>\n",
       "    </tr>\n",
       "    <tr>\n",
       "      <th>1</th>\n",
       "      <td>2021-01-26 02:33:16</td>\n",
       "      <td>556754</td>\n",
       "      <td>2021-01-26</td>\n",
       "      <td>2021-01-26 02:33:57</td>\n",
       "      <td>2021-01-26 02:34:45</td>\n",
       "      <td>2021-01-26 02:50:25</td>\n",
       "      <td>2021-01-26 03:11:15</td>\n",
       "      <td>18117</td>\n",
       "      <td>2.5207</td>\n",
       "      <td>2.76</td>\n",
       "      <td>...</td>\n",
       "      <td>26</td>\n",
       "      <td>2</td>\n",
       "      <td>33</td>\n",
       "      <td>57</td>\n",
       "      <td>2.0</td>\n",
       "      <td>34.0</td>\n",
       "      <td>45.0</td>\n",
       "      <td>2</td>\n",
       "      <td>33</td>\n",
       "      <td>16</td>\n",
       "    </tr>\n",
       "    <tr>\n",
       "      <th>2</th>\n",
       "      <td>2021-01-26 02:39:49</td>\n",
       "      <td>556755</td>\n",
       "      <td>2021-01-26</td>\n",
       "      <td>2021-01-26 02:39:57</td>\n",
       "      <td>2021-01-26 02:40:13</td>\n",
       "      <td>2021-01-26 02:56:00</td>\n",
       "      <td>2021-01-26 03:12:46</td>\n",
       "      <td>18623</td>\n",
       "      <td>2.2074</td>\n",
       "      <td>4.80</td>\n",
       "      <td>...</td>\n",
       "      <td>26</td>\n",
       "      <td>2</td>\n",
       "      <td>39</td>\n",
       "      <td>57</td>\n",
       "      <td>2.0</td>\n",
       "      <td>40.0</td>\n",
       "      <td>13.0</td>\n",
       "      <td>2</td>\n",
       "      <td>39</td>\n",
       "      <td>49</td>\n",
       "    </tr>\n",
       "    <tr>\n",
       "      <th>3</th>\n",
       "      <td>2021-01-26 02:47:53</td>\n",
       "      <td>556756</td>\n",
       "      <td>2021-01-26</td>\n",
       "      <td>2021-01-26 02:48:25</td>\n",
       "      <td>2021-01-26 02:49:06</td>\n",
       "      <td>2021-01-26 03:21:51</td>\n",
       "      <td>2021-01-26 03:41:05</td>\n",
       "      <td>15945</td>\n",
       "      <td>2.1894</td>\n",
       "      <td>6.38</td>\n",
       "      <td>...</td>\n",
       "      <td>26</td>\n",
       "      <td>2</td>\n",
       "      <td>48</td>\n",
       "      <td>25</td>\n",
       "      <td>2.0</td>\n",
       "      <td>49.0</td>\n",
       "      <td>6.0</td>\n",
       "      <td>2</td>\n",
       "      <td>47</td>\n",
       "      <td>53</td>\n",
       "    </tr>\n",
       "    <tr>\n",
       "      <th>4</th>\n",
       "      <td>2021-01-26 03:06:30</td>\n",
       "      <td>556757</td>\n",
       "      <td>2021-01-26</td>\n",
       "      <td>2021-01-26 03:07:21</td>\n",
       "      <td>2021-01-26 03:07:57</td>\n",
       "      <td>2021-01-26 03:31:38</td>\n",
       "      <td>2021-01-26 04:00:15</td>\n",
       "      <td>17589</td>\n",
       "      <td>2.7870</td>\n",
       "      <td>4.01</td>\n",
       "      <td>...</td>\n",
       "      <td>26</td>\n",
       "      <td>3</td>\n",
       "      <td>7</td>\n",
       "      <td>21</td>\n",
       "      <td>3.0</td>\n",
       "      <td>7.0</td>\n",
       "      <td>57.0</td>\n",
       "      <td>3</td>\n",
       "      <td>6</td>\n",
       "      <td>30</td>\n",
       "    </tr>\n",
       "  </tbody>\n",
       "</table>\n",
       "<p>5 rows × 28 columns</p>\n",
       "</div>"
      ],
      "text/plain": [
       "           order_time  order_id order_date          allot_time  \\\n",
       "0 2021-01-26 02:21:35    556753 2021-01-26 2021-01-26 02:21:59   \n",
       "1 2021-01-26 02:33:16    556754 2021-01-26 2021-01-26 02:33:57   \n",
       "2 2021-01-26 02:39:49    556755 2021-01-26 2021-01-26 02:39:57   \n",
       "3 2021-01-26 02:47:53    556756 2021-01-26 2021-01-26 02:48:25   \n",
       "4 2021-01-26 03:06:30    556757 2021-01-26 2021-01-26 03:07:21   \n",
       "\n",
       "          accept_time         pickup_time      delivered_time  rider_id  \\\n",
       "0 2021-01-26 02:22:08 2021-01-26 02:32:51 2021-01-26 02:49:47     11696   \n",
       "1 2021-01-26 02:34:45 2021-01-26 02:50:25 2021-01-26 03:11:15     18117   \n",
       "2 2021-01-26 02:40:13 2021-01-26 02:56:00 2021-01-26 03:12:46     18623   \n",
       "3 2021-01-26 02:49:06 2021-01-26 03:21:51 2021-01-26 03:41:05     15945   \n",
       "4 2021-01-26 03:07:57 2021-01-26 03:31:38 2021-01-26 04:00:15     17589   \n",
       "\n",
       "   first_mile_distance  last_mile_distance  ...  order day  allot_time hour  \\\n",
       "0               1.5666                2.65  ...         26                2   \n",
       "1               2.5207                2.76  ...         26                2   \n",
       "2               2.2074                4.80  ...         26                2   \n",
       "3               2.1894                6.38  ...         26                2   \n",
       "4               2.7870                4.01  ...         26                3   \n",
       "\n",
       "   allot_time minute  allot_time second  accept_time hour  accept_time minute  \\\n",
       "0                 21                 59               2.0                22.0   \n",
       "1                 33                 57               2.0                34.0   \n",
       "2                 39                 57               2.0                40.0   \n",
       "3                 48                 25               2.0                49.0   \n",
       "4                  7                 21               3.0                 7.0   \n",
       "\n",
       "   accept_time second  order_time hour  order_time minute  order_time seconds  \n",
       "0                 8.0                2                 21                  35  \n",
       "1                45.0                2                 33                  16  \n",
       "2                13.0                2                 39                  49  \n",
       "3                 6.0                2                 47                  53  \n",
       "4                57.0                3                  6                  30  \n",
       "\n",
       "[5 rows x 28 columns]"
      ]
     },
     "execution_count": 27,
     "metadata": {},
     "output_type": "execute_result"
    }
   ],
   "source": [
    "train['order_time hour'] = train['order_time'].dt.hour\n",
    "train['order_time minute'] = train['order_time'].dt.minute\n",
    "train['order_time seconds'] = train['order_time'].dt.second\n",
    "\n",
    "\n",
    "train.head()"
   ]
  },
  {
   "cell_type": "code",
   "execution_count": 28,
   "metadata": {},
   "outputs": [
    {
     "data": {
      "text/plain": [
       "Index(['order_time', 'order_id', 'order_date', 'allot_time', 'accept_time',\n",
       "       'pickup_time', 'delivered_time', 'rider_id', 'first_mile_distance',\n",
       "       'last_mile_distance', 'alloted_orders', 'delivered_orders', 'cancelled',\n",
       "       'undelivered_orders', 'lifetime_order_count', 'session_time',\n",
       "       'order year', 'order month', 'order day', 'allot_time hour',\n",
       "       'allot_time minute', 'allot_time second', 'accept_time hour',\n",
       "       'accept_time minute', 'accept_time second', 'order_time hour',\n",
       "       'order_time minute', 'order_time seconds'],\n",
       "      dtype='object')"
      ]
     },
     "execution_count": 28,
     "metadata": {},
     "output_type": "execute_result"
    }
   ],
   "source": [
    "train.columns"
   ]
  },
  {
   "cell_type": "code",
   "execution_count": 29,
   "metadata": {},
   "outputs": [
    {
     "name": "stdout",
     "output_type": "stream",
     "text": [
      "<class 'pandas.core.frame.DataFrame'>\n",
      "RangeIndex: 450000 entries, 0 to 449999\n",
      "Data columns (total 28 columns):\n",
      " #   Column                Non-Null Count   Dtype         \n",
      "---  ------                --------------   -----         \n",
      " 0   order_time            450000 non-null  datetime64[ns]\n",
      " 1   order_id              450000 non-null  int64         \n",
      " 2   order_date            450000 non-null  datetime64[ns]\n",
      " 3   allot_time            450000 non-null  datetime64[ns]\n",
      " 4   accept_time           449843 non-null  datetime64[ns]\n",
      " 5   pickup_time           447579 non-null  datetime64[ns]\n",
      " 6   delivered_time        444782 non-null  datetime64[ns]\n",
      " 7   rider_id              450000 non-null  int64         \n",
      " 8   first_mile_distance   450000 non-null  float64       \n",
      " 9   last_mile_distance    450000 non-null  float64       \n",
      " 10  alloted_orders        433052 non-null  float64       \n",
      " 11  delivered_orders      432659 non-null  float64       \n",
      " 12  cancelled             450000 non-null  int64         \n",
      " 13  undelivered_orders    432659 non-null  float64       \n",
      " 14  lifetime_order_count  449947 non-null  float64       \n",
      " 15  session_time          446325 non-null  float64       \n",
      " 16  order year            450000 non-null  int64         \n",
      " 17  order month           450000 non-null  int64         \n",
      " 18  order day             450000 non-null  int64         \n",
      " 19  allot_time hour       450000 non-null  int64         \n",
      " 20  allot_time minute     450000 non-null  int64         \n",
      " 21  allot_time second     450000 non-null  int64         \n",
      " 22  accept_time hour      449843 non-null  float64       \n",
      " 23  accept_time minute    449843 non-null  float64       \n",
      " 24  accept_time second    449843 non-null  float64       \n",
      " 25  order_time hour       450000 non-null  int64         \n",
      " 26  order_time minute     450000 non-null  int64         \n",
      " 27  order_time seconds    450000 non-null  int64         \n",
      "dtypes: datetime64[ns](6), float64(10), int64(12)\n",
      "memory usage: 96.1 MB\n"
     ]
    }
   ],
   "source": [
    "train.info()"
   ]
  },
  {
   "cell_type": "code",
   "execution_count": 30,
   "metadata": {},
   "outputs": [],
   "source": [
    "train.drop(['order_time','order_date','allot_time','accept_time','pickup_time','delivered_time'],axis=1,inplace = True)"
   ]
  },
  {
   "cell_type": "markdown",
   "metadata": {},
   "source": [
    "## Feature selection\n",
    "#### Method 1 - Using Correlation Heatmap"
   ]
  },
  {
   "cell_type": "code",
   "execution_count": 31,
   "metadata": {},
   "outputs": [
    {
     "data": {
      "image/png": "[encoded data removed]",
      "text/plain": [
       "<Figure size 2088x1584 with 2 Axes>"
      ]
     },
     "metadata": {
      "needs_background": "light"
     },
     "output_type": "display_data"
    }
   ],
   "source": [
    "#heatmap is to identify the highly correlated features\n",
    "plt.figure(figsize=(29,22)) \n",
    "sns.heatmap(train.corr(),annot=True)\n",
    "plt.show()"
   ]
  },
  {
   "cell_type": "code",
   "execution_count": 32,
   "metadata": {},
   "outputs": [
    {
     "data": {
      "text/plain": [
       "<matplotlib.axes._subplots.AxesSubplot at 0x281f4963288>"
      ]
     },
     "execution_count": 32,
     "metadata": {},
     "output_type": "execute_result"
    },
    {
     "data": {
      "image/png": "[encoded data removed]",
      "text/plain": [
       "<Figure size 2088x1584 with 2 Axes>"
      ]
     },
     "metadata": {
      "needs_background": "light"
     },
     "output_type": "display_data"
    }
   ],
   "source": [
    "plt.figure(figsize=(29,22)) \n",
    "sns.heatmap(train.corr(), cmap='Blues',annot=True)"
   ]
  },
  {
   "cell_type": "code",
   "execution_count": 33,
   "metadata": {},
   "outputs": [
    {
     "data": {
      "text/plain": [
       "Index(['order_id', 'rider_id', 'first_mile_distance', 'last_mile_distance',\n",
       "       'alloted_orders', 'delivered_orders', 'cancelled', 'undelivered_orders',\n",
       "       'lifetime_order_count', 'session_time', 'order year', 'order month',\n",
       "       'order day', 'allot_time hour', 'allot_time minute',\n",
       "       'allot_time second', 'accept_time hour', 'accept_time minute',\n",
       "       'accept_time second', 'order_time hour', 'order_time minute',\n",
       "       'order_time seconds'],\n",
       "      dtype='object')"
      ]
     },
     "execution_count": 33,
     "metadata": {},
     "output_type": "execute_result"
    }
   ],
   "source": [
    "train.columns"
   ]
  },
  {
   "cell_type": "code",
   "execution_count": 34,
   "metadata": {},
   "outputs": [],
   "source": [
    "train.drop(['order year'],axis=1,inplace=True)"
   ]
  },
  {
   "cell_type": "code",
   "execution_count": 35,
   "metadata": {},
   "outputs": [
    {
     "name": "stdout",
     "output_type": "stream",
     "text": [
      "<class 'pandas.core.frame.DataFrame'>\n",
      "RangeIndex: 450000 entries, 0 to 449999\n",
      "Data columns (total 21 columns):\n",
      " #   Column                Non-Null Count   Dtype  \n",
      "---  ------                --------------   -----  \n",
      " 0   order_id              450000 non-null  int64  \n",
      " 1   rider_id              450000 non-null  int64  \n",
      " 2   first_mile_distance   450000 non-null  float64\n",
      " 3   last_mile_distance    450000 non-null  float64\n",
      " 4   alloted_orders        433052 non-null  float64\n",
      " 5   delivered_orders      432659 non-null  float64\n",
      " 6   cancelled             450000 non-null  int64  \n",
      " 7   undelivered_orders    432659 non-null  float64\n",
      " 8   lifetime_order_count  449947 non-null  float64\n",
      " 9   session_time          446325 non-null  float64\n",
      " 10  order month           450000 non-null  int64  \n",
      " 11  order day             450000 non-null  int64  \n",
      " 12  allot_time hour       450000 non-null  int64  \n",
      " 13  allot_time minute     450000 non-null  int64  \n",
      " 14  allot_time second     450000 non-null  int64  \n",
      " 15  accept_time hour      449843 non-null  float64\n",
      " 16  accept_time minute    449843 non-null  float64\n",
      " 17  accept_time second    449843 non-null  float64\n",
      " 18  order_time hour       450000 non-null  int64  \n",
      " 19  order_time minute     450000 non-null  int64  \n",
      " 20  order_time seconds    450000 non-null  int64  \n",
      "dtypes: float64(10), int64(11)\n",
      "memory usage: 72.1 MB\n"
     ]
    }
   ],
   "source": [
    "train.info()"
   ]
  },
  {
   "cell_type": "code",
   "execution_count": 36,
   "metadata": {},
   "outputs": [],
   "source": [
    "train.fillna(0,inplace=True)"
   ]
  },
  {
   "cell_type": "code",
   "execution_count": 37,
   "metadata": {},
   "outputs": [
    {
     "data": {
      "text/plain": [
       "order_id                0\n",
       "rider_id                0\n",
       "first_mile_distance     0\n",
       "last_mile_distance      0\n",
       "alloted_orders          0\n",
       "delivered_orders        0\n",
       "cancelled               0\n",
       "undelivered_orders      0\n",
       "lifetime_order_count    0\n",
       "session_time            0\n",
       "order month             0\n",
       "order day               0\n",
       "allot_time hour         0\n",
       "allot_time minute       0\n",
       "allot_time second       0\n",
       "accept_time hour        0\n",
       "accept_time minute      0\n",
       "accept_time second      0\n",
       "order_time hour         0\n",
       "order_time minute       0\n",
       "order_time seconds      0\n",
       "dtype: int64"
      ]
     },
     "execution_count": 37,
     "metadata": {},
     "output_type": "execute_result"
    }
   ],
   "source": [
    "train.isnull().sum()"
   ]
  },
  {
   "cell_type": "code",
   "execution_count": 38,
   "metadata": {},
   "outputs": [],
   "source": [
    "# with the following function we can select highly correlated features\n",
    "# it will remove the first feature that is correlated with anything other feature\n",
    "\n",
    "def correlation(dataset, threshold):\n",
    "    col_corr = set()  # Set of all the names of correlated columns\n",
    "    corr_matrix = dataset.corr()\n",
    "    for i in range(len(corr_matrix.columns)):\n",
    "        for j in range(i):\n",
    "            if abs(corr_matrix.iloc[i, j]) > threshold: # we are interested in absolute coeff value\n",
    "                colname = corr_matrix.columns[i]  # getting the name of column\n",
    "                col_corr.add(colname)\n",
    "    return col_corr\n"
   ]
  },
  {
   "cell_type": "code",
   "execution_count": 39,
   "metadata": {},
   "outputs": [],
   "source": [
    "df = train.drop(['cancelled'],axis=1)"
   ]
  },
  {
   "cell_type": "code",
   "execution_count": 40,
   "metadata": {},
   "outputs": [
    {
     "data": {
      "text/plain": [
       "11"
      ]
     },
     "execution_count": 40,
     "metadata": {},
     "output_type": "execute_result"
    }
   ],
   "source": [
    "corr_features = correlation(df, 0.25)\n",
    "len(set(corr_features))"
   ]
  },
  {
   "cell_type": "code",
   "execution_count": 41,
   "metadata": {},
   "outputs": [
    {
     "data": {
      "text/plain": [
       "{'accept_time hour',\n",
       " 'accept_time minute',\n",
       " 'allot_time hour',\n",
       " 'alloted_orders',\n",
       " 'delivered_orders',\n",
       " 'order day',\n",
       " 'order month',\n",
       " 'order_time hour',\n",
       " 'order_time minute',\n",
       " 'order_time seconds',\n",
       " 'undelivered_orders'}"
      ]
     },
     "execution_count": 41,
     "metadata": {},
     "output_type": "execute_result"
    }
   ],
   "source": [
    "corr_features"
   ]
  },
  {
   "cell_type": "code",
   "execution_count": 45,
   "metadata": {},
   "outputs": [],
   "source": [
    "from sklearn.model_selection import train_test_split\n",
    "train_X,test_X,train_y,test_y=train_test_split(train.drop(['cancelled'],axis=1),train['cancelled']\n",
    "                                               ,test_size=0.3,random_state=100)"
   ]
  },
  {
   "cell_type": "code",
   "execution_count": 46,
   "metadata": {},
   "outputs": [
    {
     "data": {
      "text/html": [
       "<div>\n",
       "<style scoped>\n",
       "    .dataframe tbody tr th:only-of-type {\n",
       "        vertical-align: middle;\n",
       "    }\n",
       "\n",
       "    .dataframe tbody tr th {\n",
       "        vertical-align: top;\n",
       "    }\n",
       "\n",
       "    .dataframe thead th {\n",
       "        text-align: right;\n",
       "    }\n",
       "</style>\n",
       "<table border=\"1\" class=\"dataframe\">\n",
       "  <thead>\n",
       "    <tr style=\"text-align: right;\">\n",
       "      <th></th>\n",
       "      <th>order_id</th>\n",
       "      <th>rider_id</th>\n",
       "      <th>first_mile_distance</th>\n",
       "      <th>last_mile_distance</th>\n",
       "      <th>alloted_orders</th>\n",
       "      <th>delivered_orders</th>\n",
       "      <th>undelivered_orders</th>\n",
       "      <th>lifetime_order_count</th>\n",
       "      <th>session_time</th>\n",
       "      <th>order month</th>\n",
       "      <th>order day</th>\n",
       "      <th>allot_time hour</th>\n",
       "      <th>allot_time minute</th>\n",
       "      <th>allot_time second</th>\n",
       "      <th>accept_time hour</th>\n",
       "      <th>accept_time minute</th>\n",
       "      <th>accept_time second</th>\n",
       "      <th>order_time hour</th>\n",
       "      <th>order_time minute</th>\n",
       "      <th>order_time seconds</th>\n",
       "    </tr>\n",
       "  </thead>\n",
       "  <tbody>\n",
       "    <tr>\n",
       "      <th>28650</th>\n",
       "      <td>585403</td>\n",
       "      <td>19966</td>\n",
       "      <td>0.199445</td>\n",
       "      <td>3.61</td>\n",
       "      <td>8.0</td>\n",
       "      <td>8.0</td>\n",
       "      <td>0.0</td>\n",
       "      <td>50.0</td>\n",
       "      <td>311.483333</td>\n",
       "      <td>1</td>\n",
       "      <td>26</td>\n",
       "      <td>16</td>\n",
       "      <td>1</td>\n",
       "      <td>29</td>\n",
       "      <td>16.0</td>\n",
       "      <td>2.0</td>\n",
       "      <td>9.0</td>\n",
       "      <td>16</td>\n",
       "      <td>1</td>\n",
       "      <td>22</td>\n",
       "    </tr>\n",
       "    <tr>\n",
       "      <th>327521</th>\n",
       "      <td>251625</td>\n",
       "      <td>13526</td>\n",
       "      <td>1.349100</td>\n",
       "      <td>1.10</td>\n",
       "      <td>57.0</td>\n",
       "      <td>56.0</td>\n",
       "      <td>1.0</td>\n",
       "      <td>3560.0</td>\n",
       "      <td>1.300000</td>\n",
       "      <td>2</td>\n",
       "      <td>3</td>\n",
       "      <td>13</td>\n",
       "      <td>31</td>\n",
       "      <td>48</td>\n",
       "      <td>13.0</td>\n",
       "      <td>32.0</td>\n",
       "      <td>0.0</td>\n",
       "      <td>13</td>\n",
       "      <td>31</td>\n",
       "      <td>18</td>\n",
       "    </tr>\n",
       "    <tr>\n",
       "      <th>401211</th>\n",
       "      <td>162158</td>\n",
       "      <td>11341</td>\n",
       "      <td>0.160885</td>\n",
       "      <td>0.08</td>\n",
       "      <td>309.0</td>\n",
       "      <td>307.0</td>\n",
       "      <td>2.0</td>\n",
       "      <td>377.0</td>\n",
       "      <td>152.666667</td>\n",
       "      <td>2</td>\n",
       "      <td>5</td>\n",
       "      <td>8</td>\n",
       "      <td>4</td>\n",
       "      <td>27</td>\n",
       "      <td>8.0</td>\n",
       "      <td>5.0</td>\n",
       "      <td>51.0</td>\n",
       "      <td>8</td>\n",
       "      <td>4</td>\n",
       "      <td>22</td>\n",
       "    </tr>\n",
       "    <tr>\n",
       "      <th>166467</th>\n",
       "      <td>405531</td>\n",
       "      <td>11730</td>\n",
       "      <td>0.048773</td>\n",
       "      <td>1.69</td>\n",
       "      <td>43.0</td>\n",
       "      <td>43.0</td>\n",
       "      <td>0.0</td>\n",
       "      <td>122.0</td>\n",
       "      <td>178.933333</td>\n",
       "      <td>1</td>\n",
       "      <td>30</td>\n",
       "      <td>8</td>\n",
       "      <td>29</td>\n",
       "      <td>2</td>\n",
       "      <td>8.0</td>\n",
       "      <td>29.0</td>\n",
       "      <td>12.0</td>\n",
       "      <td>8</td>\n",
       "      <td>28</td>\n",
       "      <td>56</td>\n",
       "    </tr>\n",
       "    <tr>\n",
       "      <th>162899</th>\n",
       "      <td>401963</td>\n",
       "      <td>11329</td>\n",
       "      <td>0.077787</td>\n",
       "      <td>4.31</td>\n",
       "      <td>88.0</td>\n",
       "      <td>87.0</td>\n",
       "      <td>1.0</td>\n",
       "      <td>1118.0</td>\n",
       "      <td>118.183333</td>\n",
       "      <td>1</td>\n",
       "      <td>30</td>\n",
       "      <td>7</td>\n",
       "      <td>29</td>\n",
       "      <td>16</td>\n",
       "      <td>7.0</td>\n",
       "      <td>29.0</td>\n",
       "      <td>21.0</td>\n",
       "      <td>7</td>\n",
       "      <td>28</td>\n",
       "      <td>11</td>\n",
       "    </tr>\n",
       "  </tbody>\n",
       "</table>\n",
       "</div>"
      ],
      "text/plain": [
       "        order_id  rider_id  first_mile_distance  last_mile_distance  \\\n",
       "28650     585403     19966             0.199445                3.61   \n",
       "327521    251625     13526             1.349100                1.10   \n",
       "401211    162158     11341             0.160885                0.08   \n",
       "166467    405531     11730             0.048773                1.69   \n",
       "162899    401963     11329             0.077787                4.31   \n",
       "\n",
       "        alloted_orders  delivered_orders  undelivered_orders  \\\n",
       "28650              8.0               8.0                 0.0   \n",
       "327521            57.0              56.0                 1.0   \n",
       "401211           309.0             307.0                 2.0   \n",
       "166467            43.0              43.0                 0.0   \n",
       "162899            88.0              87.0                 1.0   \n",
       "\n",
       "        lifetime_order_count  session_time  order month  order day  \\\n",
       "28650                   50.0    311.483333            1         26   \n",
       "327521                3560.0      1.300000            2          3   \n",
       "401211                 377.0    152.666667            2          5   \n",
       "166467                 122.0    178.933333            1         30   \n",
       "162899                1118.0    118.183333            1         30   \n",
       "\n",
       "        allot_time hour  allot_time minute  allot_time second  \\\n",
       "28650                16                  1                 29   \n",
       "327521               13                 31                 48   \n",
       "401211                8                  4                 27   \n",
       "166467                8                 29                  2   \n",
       "162899                7                 29                 16   \n",
       "\n",
       "        accept_time hour  accept_time minute  accept_time second  \\\n",
       "28650               16.0                 2.0                 9.0   \n",
       "327521              13.0                32.0                 0.0   \n",
       "401211               8.0                 5.0                51.0   \n",
       "166467               8.0                29.0                12.0   \n",
       "162899               7.0                29.0                21.0   \n",
       "\n",
       "        order_time hour  order_time minute  order_time seconds  \n",
       "28650                16                  1                  22  \n",
       "327521               13                 31                  18  \n",
       "401211                8                  4                  22  \n",
       "166467                8                 28                  56  \n",
       "162899                7                 28                  11  "
      ]
     },
     "execution_count": 46,
     "metadata": {},
     "output_type": "execute_result"
    }
   ],
   "source": [
    "test_X.head()"
   ]
  },
  {
   "cell_type": "code",
   "execution_count": 47,
   "metadata": {},
   "outputs": [
    {
     "data": {
      "text/html": [
       "<div>\n",
       "<style scoped>\n",
       "    .dataframe tbody tr th:only-of-type {\n",
       "        vertical-align: middle;\n",
       "    }\n",
       "\n",
       "    .dataframe tbody tr th {\n",
       "        vertical-align: top;\n",
       "    }\n",
       "\n",
       "    .dataframe thead th {\n",
       "        text-align: right;\n",
       "    }\n",
       "</style>\n",
       "<table border=\"1\" class=\"dataframe\">\n",
       "  <thead>\n",
       "    <tr style=\"text-align: right;\">\n",
       "      <th></th>\n",
       "      <th>order_id</th>\n",
       "      <th>rider_id</th>\n",
       "      <th>first_mile_distance</th>\n",
       "      <th>last_mile_distance</th>\n",
       "      <th>alloted_orders</th>\n",
       "      <th>delivered_orders</th>\n",
       "      <th>undelivered_orders</th>\n",
       "      <th>lifetime_order_count</th>\n",
       "      <th>session_time</th>\n",
       "      <th>order month</th>\n",
       "      <th>order day</th>\n",
       "      <th>allot_time hour</th>\n",
       "      <th>allot_time minute</th>\n",
       "      <th>allot_time second</th>\n",
       "      <th>accept_time hour</th>\n",
       "      <th>accept_time minute</th>\n",
       "      <th>accept_time second</th>\n",
       "      <th>order_time hour</th>\n",
       "      <th>order_time minute</th>\n",
       "      <th>order_time seconds</th>\n",
       "    </tr>\n",
       "  </thead>\n",
       "  <tbody>\n",
       "    <tr>\n",
       "      <th>204670</th>\n",
       "      <td>366891</td>\n",
       "      <td>1303</td>\n",
       "      <td>0.9016</td>\n",
       "      <td>5.44</td>\n",
       "      <td>133.0</td>\n",
       "      <td>132.0</td>\n",
       "      <td>1.0</td>\n",
       "      <td>236.0</td>\n",
       "      <td>191.083333</td>\n",
       "      <td>1</td>\n",
       "      <td>31</td>\n",
       "      <td>8</td>\n",
       "      <td>41</td>\n",
       "      <td>5</td>\n",
       "      <td>8.0</td>\n",
       "      <td>41.0</td>\n",
       "      <td>11.0</td>\n",
       "      <td>8</td>\n",
       "      <td>41</td>\n",
       "      <td>5</td>\n",
       "    </tr>\n",
       "    <tr>\n",
       "      <th>181571</th>\n",
       "      <td>420634</td>\n",
       "      <td>10877</td>\n",
       "      <td>2.1766</td>\n",
       "      <td>5.22</td>\n",
       "      <td>51.0</td>\n",
       "      <td>51.0</td>\n",
       "      <td>0.0</td>\n",
       "      <td>636.0</td>\n",
       "      <td>494.583333</td>\n",
       "      <td>1</td>\n",
       "      <td>30</td>\n",
       "      <td>14</td>\n",
       "      <td>40</td>\n",
       "      <td>51</td>\n",
       "      <td>14.0</td>\n",
       "      <td>44.0</td>\n",
       "      <td>28.0</td>\n",
       "      <td>14</td>\n",
       "      <td>40</td>\n",
       "      <td>36</td>\n",
       "    </tr>\n",
       "    <tr>\n",
       "      <th>60858</th>\n",
       "      <td>540506</td>\n",
       "      <td>7136</td>\n",
       "      <td>2.9924</td>\n",
       "      <td>3.73</td>\n",
       "      <td>118.0</td>\n",
       "      <td>118.0</td>\n",
       "      <td>0.0</td>\n",
       "      <td>260.0</td>\n",
       "      <td>253.733333</td>\n",
       "      <td>1</td>\n",
       "      <td>27</td>\n",
       "      <td>15</td>\n",
       "      <td>7</td>\n",
       "      <td>18</td>\n",
       "      <td>15.0</td>\n",
       "      <td>7.0</td>\n",
       "      <td>39.0</td>\n",
       "      <td>15</td>\n",
       "      <td>7</td>\n",
       "      <td>4</td>\n",
       "    </tr>\n",
       "    <tr>\n",
       "      <th>311561</th>\n",
       "      <td>317986</td>\n",
       "      <td>117</td>\n",
       "      <td>0.9544</td>\n",
       "      <td>4.21</td>\n",
       "      <td>56.0</td>\n",
       "      <td>55.0</td>\n",
       "      <td>1.0</td>\n",
       "      <td>4163.0</td>\n",
       "      <td>626.966667</td>\n",
       "      <td>2</td>\n",
       "      <td>2</td>\n",
       "      <td>17</td>\n",
       "      <td>22</td>\n",
       "      <td>26</td>\n",
       "      <td>17.0</td>\n",
       "      <td>24.0</td>\n",
       "      <td>2.0</td>\n",
       "      <td>17</td>\n",
       "      <td>21</td>\n",
       "      <td>21</td>\n",
       "    </tr>\n",
       "    <tr>\n",
       "      <th>436865</th>\n",
       "      <td>197811</td>\n",
       "      <td>8424</td>\n",
       "      <td>1.0896</td>\n",
       "      <td>1.28</td>\n",
       "      <td>3.0</td>\n",
       "      <td>3.0</td>\n",
       "      <td>0.0</td>\n",
       "      <td>24933.0</td>\n",
       "      <td>103.116667</td>\n",
       "      <td>2</td>\n",
       "      <td>5</td>\n",
       "      <td>17</td>\n",
       "      <td>44</td>\n",
       "      <td>25</td>\n",
       "      <td>17.0</td>\n",
       "      <td>44.0</td>\n",
       "      <td>33.0</td>\n",
       "      <td>17</td>\n",
       "      <td>43</td>\n",
       "      <td>25</td>\n",
       "    </tr>\n",
       "  </tbody>\n",
       "</table>\n",
       "</div>"
      ],
      "text/plain": [
       "        order_id  rider_id  first_mile_distance  last_mile_distance  \\\n",
       "204670    366891      1303               0.9016                5.44   \n",
       "181571    420634     10877               2.1766                5.22   \n",
       "60858     540506      7136               2.9924                3.73   \n",
       "311561    317986       117               0.9544                4.21   \n",
       "436865    197811      8424               1.0896                1.28   \n",
       "\n",
       "        alloted_orders  delivered_orders  undelivered_orders  \\\n",
       "204670           133.0             132.0                 1.0   \n",
       "181571            51.0              51.0                 0.0   \n",
       "60858            118.0             118.0                 0.0   \n",
       "311561            56.0              55.0                 1.0   \n",
       "436865             3.0               3.0                 0.0   \n",
       "\n",
       "        lifetime_order_count  session_time  order month  order day  \\\n",
       "204670                 236.0    191.083333            1         31   \n",
       "181571                 636.0    494.583333            1         30   \n",
       "60858                  260.0    253.733333            1         27   \n",
       "311561                4163.0    626.966667            2          2   \n",
       "436865               24933.0    103.116667            2          5   \n",
       "\n",
       "        allot_time hour  allot_time minute  allot_time second  \\\n",
       "204670                8                 41                  5   \n",
       "181571               14                 40                 51   \n",
       "60858                15                  7                 18   \n",
       "311561               17                 22                 26   \n",
       "436865               17                 44                 25   \n",
       "\n",
       "        accept_time hour  accept_time minute  accept_time second  \\\n",
       "204670               8.0                41.0                11.0   \n",
       "181571              14.0                44.0                28.0   \n",
       "60858               15.0                 7.0                39.0   \n",
       "311561              17.0                24.0                 2.0   \n",
       "436865              17.0                44.0                33.0   \n",
       "\n",
       "        order_time hour  order_time minute  order_time seconds  \n",
       "204670                8                 41                   5  \n",
       "181571               14                 40                  36  \n",
       "60858                15                  7                   4  \n",
       "311561               17                 21                  21  \n",
       "436865               17                 43                  25  "
      ]
     },
     "execution_count": 47,
     "metadata": {},
     "output_type": "execute_result"
    }
   ],
   "source": [
    "train_X.head()"
   ]
  },
  {
   "cell_type": "markdown",
   "metadata": {},
   "source": [
    "#### Method 2 - Chi square test"
   ]
  },
  {
   "cell_type": "code",
   "execution_count": 48,
   "metadata": {},
   "outputs": [
    {
     "name": "stderr",
     "output_type": "stream",
     "text": [
      "C:\\Users\\ARCHANA\\Anaconda3\\lib\\site-packages\\sklearn\\linear_model\\least_angle.py:30: DeprecationWarning: `np.float` is a deprecated alias for the builtin `float`. To silence this warning, use `float` by itself. Doing this will not modify any behavior and is safe. If you specifically wanted the numpy scalar type, use `np.float64` here.\n",
      "Deprecated in NumPy 1.20; for more details and guidance: https://numpy.org/devdocs/release/1.20.0-notes.html#deprecations\n",
      "  method='lar', copy_X=True, eps=np.finfo(np.float).eps,\n",
      "C:\\Users\\ARCHANA\\Anaconda3\\lib\\site-packages\\sklearn\\linear_model\\least_angle.py:167: DeprecationWarning: `np.float` is a deprecated alias for the builtin `float`. To silence this warning, use `float` by itself. Doing this will not modify any behavior and is safe. If you specifically wanted the numpy scalar type, use `np.float64` here.\n",
      "Deprecated in NumPy 1.20; for more details and guidance: https://numpy.org/devdocs/release/1.20.0-notes.html#deprecations\n",
      "  method='lar', copy_X=True, eps=np.finfo(np.float).eps,\n",
      "C:\\Users\\ARCHANA\\Anaconda3\\lib\\site-packages\\sklearn\\linear_model\\least_angle.py:284: DeprecationWarning: `np.float` is a deprecated alias for the builtin `float`. To silence this warning, use `float` by itself. Doing this will not modify any behavior and is safe. If you specifically wanted the numpy scalar type, use `np.float64` here.\n",
      "Deprecated in NumPy 1.20; for more details and guidance: https://numpy.org/devdocs/release/1.20.0-notes.html#deprecations\n",
      "  eps=np.finfo(np.float).eps, copy_Gram=True, verbose=0,\n",
      "C:\\Users\\ARCHANA\\Anaconda3\\lib\\site-packages\\sklearn\\linear_model\\least_angle.py:862: DeprecationWarning: `np.float` is a deprecated alias for the builtin `float`. To silence this warning, use `float` by itself. Doing this will not modify any behavior and is safe. If you specifically wanted the numpy scalar type, use `np.float64` here.\n",
      "Deprecated in NumPy 1.20; for more details and guidance: https://numpy.org/devdocs/release/1.20.0-notes.html#deprecations\n",
      "  eps=np.finfo(np.float).eps, copy_X=True, fit_path=True,\n",
      "C:\\Users\\ARCHANA\\Anaconda3\\lib\\site-packages\\sklearn\\linear_model\\least_angle.py:1101: DeprecationWarning: `np.float` is a deprecated alias for the builtin `float`. To silence this warning, use `float` by itself. Doing this will not modify any behavior and is safe. If you specifically wanted the numpy scalar type, use `np.float64` here.\n",
      "Deprecated in NumPy 1.20; for more details and guidance: https://numpy.org/devdocs/release/1.20.0-notes.html#deprecations\n",
      "  eps=np.finfo(np.float).eps, copy_X=True, fit_path=True,\n",
      "C:\\Users\\ARCHANA\\Anaconda3\\lib\\site-packages\\sklearn\\linear_model\\least_angle.py:1127: DeprecationWarning: `np.float` is a deprecated alias for the builtin `float`. To silence this warning, use `float` by itself. Doing this will not modify any behavior and is safe. If you specifically wanted the numpy scalar type, use `np.float64` here.\n",
      "Deprecated in NumPy 1.20; for more details and guidance: https://numpy.org/devdocs/release/1.20.0-notes.html#deprecations\n",
      "  eps=np.finfo(np.float).eps, positive=False):\n",
      "C:\\Users\\ARCHANA\\Anaconda3\\lib\\site-packages\\sklearn\\linear_model\\least_angle.py:1362: DeprecationWarning: `np.float` is a deprecated alias for the builtin `float`. To silence this warning, use `float` by itself. Doing this will not modify any behavior and is safe. If you specifically wanted the numpy scalar type, use `np.float64` here.\n",
      "Deprecated in NumPy 1.20; for more details and guidance: https://numpy.org/devdocs/release/1.20.0-notes.html#deprecations\n",
      "  max_n_alphas=1000, n_jobs=None, eps=np.finfo(np.float).eps,\n",
      "C:\\Users\\ARCHANA\\Anaconda3\\lib\\site-packages\\sklearn\\linear_model\\least_angle.py:1602: DeprecationWarning: `np.float` is a deprecated alias for the builtin `float`. To silence this warning, use `float` by itself. Doing this will not modify any behavior and is safe. If you specifically wanted the numpy scalar type, use `np.float64` here.\n",
      "Deprecated in NumPy 1.20; for more details and guidance: https://numpy.org/devdocs/release/1.20.0-notes.html#deprecations\n",
      "  max_n_alphas=1000, n_jobs=None, eps=np.finfo(np.float).eps,\n",
      "C:\\Users\\ARCHANA\\Anaconda3\\lib\\site-packages\\sklearn\\linear_model\\least_angle.py:1738: DeprecationWarning: `np.float` is a deprecated alias for the builtin `float`. To silence this warning, use `float` by itself. Doing this will not modify any behavior and is safe. If you specifically wanted the numpy scalar type, use `np.float64` here.\n",
      "Deprecated in NumPy 1.20; for more details and guidance: https://numpy.org/devdocs/release/1.20.0-notes.html#deprecations\n",
      "  eps=np.finfo(np.float).eps, copy_X=True, positive=False):\n",
      "C:\\Users\\ARCHANA\\Anaconda3\\lib\\site-packages\\sklearn\\decomposition\\online_lda.py:29: DeprecationWarning: `np.float` is a deprecated alias for the builtin `float`. To silence this warning, use `float` by itself. Doing this will not modify any behavior and is safe. If you specifically wanted the numpy scalar type, use `np.float64` here.\n",
      "Deprecated in NumPy 1.20; for more details and guidance: https://numpy.org/devdocs/release/1.20.0-notes.html#deprecations\n",
      "  EPS = np.finfo(np.float).eps\n"
     ]
    }
   ],
   "source": [
    "from sklearn.feature_selection import chi2\n",
    "f_p_values=chi2(train_X,train_y)"
   ]
  },
  {
   "cell_type": "code",
   "execution_count": 49,
   "metadata": {},
   "outputs": [
    {
     "data": {
      "text/plain": [
       "(array([1.97058862e+05, 4.38073084e+06, 1.99660792e+01, 1.41893344e+02,\n",
       "        4.70605382e+04, 4.75161732e+04, 4.74101894e+00, 2.16946669e+05,\n",
       "        2.23853236e+04, 2.52697235e+00, 1.80782018e+02, 4.18849662e+01,\n",
       "        4.34350439e+01, 4.77399198e+01, 2.32089122e-01, 4.87448499e+01,\n",
       "        1.46846424e+01, 2.17306391e+01, 6.01644906e+01, 1.12012421e+00]),\n",
       " array([0.00000000e+00, 0.00000000e+00, 7.88282456e-06, 1.02612962e-32,\n",
       "        0.00000000e+00, 0.00000000e+00, 2.94516227e-02, 0.00000000e+00,\n",
       "        0.00000000e+00, 1.11914768e-01, 3.27096679e-41, 9.68040751e-11,\n",
       "        4.38268575e-11, 4.86680161e-12, 6.29979084e-01, 2.91523060e-12,\n",
       "        1.27077529e-04, 3.13740184e-06, 8.72521732e-15, 2.89891709e-01]))"
      ]
     },
     "execution_count": 49,
     "metadata": {},
     "output_type": "execute_result"
    }
   ],
   "source": [
    "f_p_values"
   ]
  },
  {
   "cell_type": "code",
   "execution_count": 50,
   "metadata": {},
   "outputs": [
    {
     "data": {
      "text/plain": [
       "order_id                0.000000e+00\n",
       "rider_id                0.000000e+00\n",
       "first_mile_distance     7.882825e-06\n",
       "last_mile_distance      1.026130e-32\n",
       "alloted_orders          0.000000e+00\n",
       "delivered_orders        0.000000e+00\n",
       "undelivered_orders      2.945162e-02\n",
       "lifetime_order_count    0.000000e+00\n",
       "session_time            0.000000e+00\n",
       "order month             1.119148e-01\n",
       "order day               3.270967e-41\n",
       "allot_time hour         9.680408e-11\n",
       "allot_time minute       4.382686e-11\n",
       "allot_time second       4.866802e-12\n",
       "accept_time hour        6.299791e-01\n",
       "accept_time minute      2.915231e-12\n",
       "accept_time second      1.270775e-04\n",
       "order_time hour         3.137402e-06\n",
       "order_time minute       8.725217e-15\n",
       "order_time seconds      2.898917e-01\n",
       "dtype: float64"
      ]
     },
     "execution_count": 50,
     "metadata": {},
     "output_type": "execute_result"
    }
   ],
   "source": [
    "import pandas as pd\n",
    "p_values=pd.Series(f_p_values[1])\n",
    "p_values.index=train_X.columns\n",
    "p_values"
   ]
  },
  {
   "cell_type": "code",
   "execution_count": 51,
   "metadata": {},
   "outputs": [
    {
     "data": {
      "text/plain": [
       "undelivered_orders      2.945162e-02\n",
       "session_time            0.000000e+00\n",
       "rider_id                0.000000e+00\n",
       "order_time seconds      2.898917e-01\n",
       "order_time minute       8.725217e-15\n",
       "order_time hour         3.137402e-06\n",
       "order_id                0.000000e+00\n",
       "order month             1.119148e-01\n",
       "order day               3.270967e-41\n",
       "lifetime_order_count    0.000000e+00\n",
       "last_mile_distance      1.026130e-32\n",
       "first_mile_distance     7.882825e-06\n",
       "delivered_orders        0.000000e+00\n",
       "alloted_orders          0.000000e+00\n",
       "allot_time second       4.866802e-12\n",
       "allot_time minute       4.382686e-11\n",
       "allot_time hour         9.680408e-11\n",
       "accept_time second      1.270775e-04\n",
       "accept_time minute      2.915231e-12\n",
       "accept_time hour        6.299791e-01\n",
       "dtype: float64"
      ]
     },
     "execution_count": 51,
     "metadata": {},
     "output_type": "execute_result"
    }
   ],
   "source": [
    "p_values.sort_index(ascending=False)"
   ]
  },
  {
   "cell_type": "markdown",
   "metadata": {},
   "source": [
    "#### Method 3 - Lasso Regression"
   ]
  },
  {
   "cell_type": "code",
   "execution_count": 53,
   "metadata": {},
   "outputs": [
    {
     "data": {
      "text/plain": [
       "Index(['order_id', 'rider_id', 'first_mile_distance', 'last_mile_distance',\n",
       "       'alloted_orders', 'delivered_orders', 'undelivered_orders',\n",
       "       'lifetime_order_count', 'session_time', 'order month', 'order day',\n",
       "       'allot_time hour', 'allot_time minute', 'allot_time second',\n",
       "       'accept_time hour', 'accept_time minute', 'accept_time second',\n",
       "       'order_time hour', 'order_time minute', 'order_time seconds'],\n",
       "      dtype='object')"
      ]
     },
     "execution_count": 53,
     "metadata": {},
     "output_type": "execute_result"
    }
   ],
   "source": [
    "from sklearn.linear_model import Lasso\n",
    "names = train.drop(['cancelled'],axis=1).columns\n",
    "names"
   ]
  },
  {
   "cell_type": "code",
   "execution_count": 54,
   "metadata": {},
   "outputs": [
    {
     "data": {
      "image/png": "[encoded data removed]",
      "text/plain": [
       "<Figure size 432x288 with 1 Axes>"
      ]
     },
     "metadata": {
      "needs_background": "light"
     },
     "output_type": "display_data"
    }
   ],
   "source": [
    "lasso = Lasso(alpha=0.1)\n",
    "lasso_coef = lasso.fit(train_X,train_y).coef_\n",
    "_=plt.plot(range(len(names)),lasso_coef)\n",
    "_=plt.xticks(range(len(names)),names,rotation=60)\n",
    "_=plt.ylabel(\"Coefficients\")\n",
    "plt.show()"
   ]
  },
  {
   "cell_type": "code",
   "execution_count": 55,
   "metadata": {},
   "outputs": [
    {
     "data": {
      "text/plain": [
       "20"
      ]
     },
     "execution_count": 55,
     "metadata": {},
     "output_type": "execute_result"
    }
   ],
   "source": [
    "len(lasso_coef)"
   ]
  },
  {
   "cell_type": "code",
   "execution_count": 56,
   "metadata": {},
   "outputs": [
    {
     "data": {
      "text/plain": [
       "order_id               -3.876582e-09\n",
       "rider_id                1.031803e-06\n",
       "first_mile_distance     0.000000e+00\n",
       "last_mile_distance      0.000000e+00\n",
       "alloted_orders         -0.000000e+00\n",
       "delivered_orders       -1.865041e-05\n",
       "undelivered_orders      0.000000e+00\n",
       "lifetime_order_count   -3.008401e-07\n",
       "session_time           -2.432328e-06\n",
       "order month            -0.000000e+00\n",
       "order day               0.000000e+00\n",
       "allot_time hour         0.000000e+00\n",
       "allot_time minute       0.000000e+00\n",
       "allot_time second       0.000000e+00\n",
       "accept_time hour       -0.000000e+00\n",
       "accept_time minute     -0.000000e+00\n",
       "accept_time second     -0.000000e+00\n",
       "order_time hour         0.000000e+00\n",
       "order_time minute       0.000000e+00\n",
       "order_time seconds      0.000000e+00\n",
       "dtype: float64"
      ]
     },
     "execution_count": 56,
     "metadata": {},
     "output_type": "execute_result"
    }
   ],
   "source": [
    "import pandas as pd\n",
    "x =pd.Series(lasso_coef)\n",
    "x.index=train_X.columns\n",
    "x"
   ]
  },
  {
   "cell_type": "code",
   "execution_count": 57,
   "metadata": {},
   "outputs": [
    {
     "data": {
      "text/plain": [
       "undelivered_orders      0.000000e+00\n",
       "session_time           -2.432328e-06\n",
       "rider_id                1.031803e-06\n",
       "order_time seconds      0.000000e+00\n",
       "order_time minute       0.000000e+00\n",
       "order_time hour         0.000000e+00\n",
       "order_id               -3.876582e-09\n",
       "order month            -0.000000e+00\n",
       "order day               0.000000e+00\n",
       "lifetime_order_count   -3.008401e-07\n",
       "last_mile_distance      0.000000e+00\n",
       "first_mile_distance     0.000000e+00\n",
       "delivered_orders       -1.865041e-05\n",
       "alloted_orders         -0.000000e+00\n",
       "allot_time second       0.000000e+00\n",
       "allot_time minute       0.000000e+00\n",
       "allot_time hour         0.000000e+00\n",
       "accept_time second     -0.000000e+00\n",
       "accept_time minute     -0.000000e+00\n",
       "accept_time hour       -0.000000e+00\n",
       "dtype: float64"
      ]
     },
     "execution_count": 57,
     "metadata": {},
     "output_type": "execute_result"
    }
   ],
   "source": [
    "x.sort_index(ascending=False)"
   ]
  },
  {
   "cell_type": "code",
   "execution_count": 58,
   "metadata": {},
   "outputs": [
    {
     "data": {
      "text/plain": [
       "0    444782\n",
       "1      5218\n",
       "Name: cancelled, dtype: int64"
      ]
     },
     "execution_count": 58,
     "metadata": {},
     "output_type": "execute_result"
    }
   ],
   "source": [
    "train['cancelled'].value_counts()"
   ]
  },
  {
   "cell_type": "code",
   "execution_count": 59,
   "metadata": {},
   "outputs": [],
   "source": [
    "# drop unwanted features\n",
    "train.drop(['alloted_orders'],axis=1,inplace=True)"
   ]
  },
  {
   "cell_type": "code",
   "execution_count": 60,
   "metadata": {},
   "outputs": [],
   "source": [
    "# test['allot_time diff'] = (test['allot_time']-test['order_time']).dt.total_seconds()/3600\n",
    "# test['accept_time diff'] = (test['accept_time']-test['order_time']).dt.total_seconds()/3600\n",
    "# # test['pickup_time diff'] = (test['pickup_time']-test['order_time']).dt.total_seconds()/3600\n",
    "# # test['delivered_time diff'] = (test['delivered_time']-test['order_time']).dt.total_seconds()/3600\n"
   ]
  },
  {
   "cell_type": "markdown",
   "metadata": {},
   "source": [
    "#### Model Building"
   ]
  },
  {
   "cell_type": "code",
   "execution_count": 61,
   "metadata": {},
   "outputs": [],
   "source": [
    "from sklearn.model_selection import train_test_split\n",
    "X_train,X_test,y_train,y_test=train_test_split(train.drop(['cancelled'],axis=1),train['cancelled']\n",
    "                                               ,test_size=0.3,random_state=98)"
   ]
  },
  {
   "cell_type": "markdown",
   "metadata": {},
   "source": [
    "#### logistic regression"
   ]
  },
  {
   "cell_type": "code",
   "execution_count": 63,
   "metadata": {},
   "outputs": [],
   "source": [
    "from sklearn.linear_model import LogisticRegression\n",
    "from sklearn import metrics"
   ]
  },
  {
   "cell_type": "code",
   "execution_count": 173,
   "metadata": {},
   "outputs": [
    {
     "name": "stdout",
     "output_type": "stream",
     "text": [
      "The accuracy of the Logistic Regression is 0.9881111111111112\n"
     ]
    },
    {
     "name": "stderr",
     "output_type": "stream",
     "text": [
      "C:\\Users\\ARCHANA\\Anaconda3\\lib\\site-packages\\sklearn\\linear_model\\base.py:291: DeprecationWarning: `np.int` is a deprecated alias for the builtin `int`. To silence this warning, use `int` by itself. Doing this will not modify any behavior and is safe. When replacing `np.int`, you may wish to use e.g. `np.int64` or `np.int32` to specify the precision. If you wish to review your current use, check the release note link for additional information.\n",
      "Deprecated in NumPy 1.20; for more details and guidance: https://numpy.org/devdocs/release/1.20.0-notes.html#deprecations\n",
      "  indices = (scores > 0).astype(np.int)\n"
     ]
    }
   ],
   "source": [
    "model1 = LogisticRegression()\n",
    "model1.fit(X_train,y_train)\n",
    "prediction1=model1.predict(X_test)\n",
    "print('The accuracy of the Logistic Regression is',metrics.accuracy_score(prediction1,y_test))"
   ]
  },
  {
   "cell_type": "code",
   "execution_count": 174,
   "metadata": {},
   "outputs": [
    {
     "name": "stdout",
     "output_type": "stream",
     "text": [
      "The accuracy of the Logistic Regression is 0.9881111111111112\n"
     ]
    }
   ],
   "source": [
    "print('The accuracy of the Logistic Regression is',metrics.accuracy_score(y_test,prediction1))"
   ]
  },
  {
   "cell_type": "code",
   "execution_count": 175,
   "metadata": {},
   "outputs": [
    {
     "name": "stdout",
     "output_type": "stream",
     "text": [
      "The precission score of the DecisionTreeClassifier is 0.0\n"
     ]
    }
   ],
   "source": [
    "# Precision --> more false positives\n",
    "print('The precission score of the logistic regression is',precision_score(y_test, prediction1))"
   ]
  },
  {
   "cell_type": "code",
   "execution_count": 170,
   "metadata": {},
   "outputs": [
    {
     "name": "stdout",
     "output_type": "stream",
     "text": [
      "The Recall score of the Random Forest Classifier is 0.0\n"
     ]
    }
   ],
   "source": [
    "# Recall\n",
    "print('The Recall score of the logistic regression is',recall_score(y_test, prediction1))\n",
    "# recall_score(y_test, prediction4)"
   ]
  },
  {
   "cell_type": "code",
   "execution_count": 171,
   "metadata": {},
   "outputs": [
    {
     "name": "stdout",
     "output_type": "stream",
     "text": [
      "The F1-score score of the Random Forest Classifier is 0.0\n"
     ]
    }
   ],
   "source": [
    "# F1-score\n",
    "print('The F1-score score of the logistic regression is',f1_score(y_test, prediction1))\n",
    "# f1_score(y_test, y_predicted)"
   ]
  },
  {
   "cell_type": "code",
   "execution_count": 172,
   "metadata": {},
   "outputs": [
    {
     "name": "stdout",
     "output_type": "stream",
     "text": [
      "The F-beta-score score of the Random Forest Classifier is 0.0\n"
     ]
    }
   ],
   "source": [
    "# F-beta-score\n",
    "print('The F-beta-score score of the Random Forest Classifier is',fbeta_score(y_test, prediction1,beta=10))\n",
    "# fbeta_score(y_test, y_predicted,beta=10)"
   ]
  },
  {
   "cell_type": "markdown",
   "metadata": {},
   "source": [
    "#### KNeighbors Classifier"
   ]
  },
  {
   "cell_type": "code",
   "execution_count": 65,
   "metadata": {},
   "outputs": [],
   "source": [
    "from sklearn.neighbors import KNeighborsClassifier"
   ]
  },
  {
   "cell_type": "code",
   "execution_count": 66,
   "metadata": {},
   "outputs": [
    {
     "name": "stderr",
     "output_type": "stream",
     "text": [
      "C:\\Users\\ARCHANA\\Anaconda3\\lib\\site-packages\\sklearn\\neighbors\\base.py:908: DeprecationWarning: `np.int` is a deprecated alias for the builtin `int`. To silence this warning, use `int` by itself. Doing this will not modify any behavior and is safe. When replacing `np.int`, you may wish to use e.g. `np.int64` or `np.int32` to specify the precision. If you wish to review your current use, check the release note link for additional information.\n",
      "Deprecated in NumPy 1.20; for more details and guidance: https://numpy.org/devdocs/release/1.20.0-notes.html#deprecations\n",
      "  self._y = np.empty(y.shape, dtype=np.int)\n"
     ]
    },
    {
     "name": "stdout",
     "output_type": "stream",
     "text": [
      "The accuracy of the KNN is 0.9873925925925926\n"
     ]
    }
   ],
   "source": [
    "model2=KNeighborsClassifier(n_neighbors=3) #this examines 3 neighbours for putting the new data into a class\n",
    "model2.fit(X_train,y_train)\n",
    "prediction2=model2.predict(X_test)\n",
    "print('The accuracy of the KNN is',metrics.accuracy_score(prediction2,y_test))"
   ]
  },
  {
   "cell_type": "code",
   "execution_count": 165,
   "metadata": {},
   "outputs": [
    {
     "name": "stdout",
     "output_type": "stream",
     "text": [
      "The precission score of the DecisionTreeClassifier is 0.09917355371900827\n"
     ]
    }
   ],
   "source": [
    "# Precision --> more false positives\n",
    "print('The precission score of the KNeighbors Classifier is',precision_score(y_test, prediction2))"
   ]
  },
  {
   "cell_type": "code",
   "execution_count": 166,
   "metadata": {},
   "outputs": [
    {
     "name": "stdout",
     "output_type": "stream",
     "text": [
      "The Recall score of the Random Forest Classifier is 0.007476635514018692\n"
     ]
    }
   ],
   "source": [
    "# Recall\n",
    "print('The Recall score of the KNeighbors Classifierr is',recall_score(y_test, prediction2))\n",
    "# recall_score(y_test, prediction4)"
   ]
  },
  {
   "cell_type": "code",
   "execution_count": 167,
   "metadata": {},
   "outputs": [
    {
     "name": "stdout",
     "output_type": "stream",
     "text": [
      "The F1-score score of the Random Forest Classifier is 0.013904982618771726\n"
     ]
    }
   ],
   "source": [
    "# F1-score\n",
    "print('The F1-score score of the KNeighbors Classifier is',f1_score(y_test, prediction2))\n",
    "# f1_score(y_test, y_predicted)"
   ]
  },
  {
   "cell_type": "code",
   "execution_count": 168,
   "metadata": {},
   "outputs": [
    {
     "name": "stdout",
     "output_type": "stream",
     "text": [
      "The F-beta-score score of the Random Forest Classifier is 0.007545713200640015\n"
     ]
    }
   ],
   "source": [
    "# F-beta-score\n",
    "print('The F-beta-score score of the KNeighbors Classifier is',fbeta_score(y_test, prediction2,beta=10))\n",
    "# fbeta_score(y_test, y_predicted,beta=10)"
   ]
  },
  {
   "cell_type": "markdown",
   "metadata": {},
   "source": [
    "#### Decision tree"
   ]
  },
  {
   "cell_type": "code",
   "execution_count": 67,
   "metadata": {},
   "outputs": [],
   "source": [
    "param_grid = {'max_depth': np.arange(2, 8),\n",
    "             'max_features': np.arange(2,5)}"
   ]
  },
  {
   "cell_type": "code",
   "execution_count": 68,
   "metadata": {},
   "outputs": [
    {
     "name": "stdout",
     "output_type": "stream",
     "text": [
      "Fitting 10 folds for each of 18 candidates, totalling 180 fits\n"
     ]
    },
    {
     "name": "stderr",
     "output_type": "stream",
     "text": [
      "C:\\Users\\ARCHANA\\Anaconda3\\lib\\site-packages\\sklearn\\model_selection\\_split.py:670: DeprecationWarning: `np.int` is a deprecated alias for the builtin `int`. To silence this warning, use `int` by itself. Doing this will not modify any behavior and is safe. When replacing `np.int`, you may wish to use e.g. `np.int64` or `np.int32` to specify the precision. If you wish to review your current use, check the release note link for additional information.\n",
      "Deprecated in NumPy 1.20; for more details and guidance: https://numpy.org/devdocs/release/1.20.0-notes.html#deprecations\n",
      "  test_folds = np.zeros(n_samples, dtype=np.int)\n",
      "C:\\Users\\ARCHANA\\Anaconda3\\lib\\site-packages\\sklearn\\model_selection\\_split.py:442: DeprecationWarning: `np.int` is a deprecated alias for the builtin `int`. To silence this warning, use `int` by itself. Doing this will not modify any behavior and is safe. When replacing `np.int`, you may wish to use e.g. `np.int64` or `np.int32` to specify the precision. If you wish to review your current use, check the release note link for additional information.\n",
      "Deprecated in NumPy 1.20; for more details and guidance: https://numpy.org/devdocs/release/1.20.0-notes.html#deprecations\n",
      "  fold_sizes = np.full(n_splits, n_samples // n_splits, dtype=np.int)\n",
      "C:\\Users\\ARCHANA\\Anaconda3\\lib\\site-packages\\sklearn\\model_selection\\_split.py:102: DeprecationWarning: `np.bool` is a deprecated alias for the builtin `bool`. To silence this warning, use `bool` by itself. Doing this will not modify any behavior and is safe. If you specifically wanted the numpy scalar type, use `np.bool_` here.\n",
      "Deprecated in NumPy 1.20; for more details and guidance: https://numpy.org/devdocs/release/1.20.0-notes.html#deprecations\n",
      "  test_mask = np.zeros(_num_samples(X), dtype=np.bool)\n",
      "C:\\Users\\ARCHANA\\Anaconda3\\lib\\site-packages\\sklearn\\model_selection\\_split.py:442: DeprecationWarning: `np.int` is a deprecated alias for the builtin `int`. To silence this warning, use `int` by itself. Doing this will not modify any behavior and is safe. When replacing `np.int`, you may wish to use e.g. `np.int64` or `np.int32` to specify the precision. If you wish to review your current use, check the release note link for additional information.\n",
      "Deprecated in NumPy 1.20; for more details and guidance: https://numpy.org/devdocs/release/1.20.0-notes.html#deprecations\n",
      "  fold_sizes = np.full(n_splits, n_samples // n_splits, dtype=np.int)\n",
      "C:\\Users\\ARCHANA\\Anaconda3\\lib\\site-packages\\sklearn\\model_selection\\_split.py:102: DeprecationWarning: `np.bool` is a deprecated alias for the builtin `bool`. To silence this warning, use `bool` by itself. Doing this will not modify any behavior and is safe. If you specifically wanted the numpy scalar type, use `np.bool_` here.\n",
      "Deprecated in NumPy 1.20; for more details and guidance: https://numpy.org/devdocs/release/1.20.0-notes.html#deprecations\n",
      "  test_mask = np.zeros(_num_samples(X), dtype=np.bool)\n",
      "C:\\Users\\ARCHANA\\Anaconda3\\lib\\site-packages\\sklearn\\model_selection\\_split.py:102: DeprecationWarning: `np.bool` is a deprecated alias for the builtin `bool`. To silence this warning, use `bool` by itself. Doing this will not modify any behavior and is safe. If you specifically wanted the numpy scalar type, use `np.bool_` here.\n",
      "Deprecated in NumPy 1.20; for more details and guidance: https://numpy.org/devdocs/release/1.20.0-notes.html#deprecations\n",
      "  test_mask = np.zeros(_num_samples(X), dtype=np.bool)\n",
      "C:\\Users\\ARCHANA\\Anaconda3\\lib\\site-packages\\sklearn\\model_selection\\_split.py:102: DeprecationWarning: `np.bool` is a deprecated alias for the builtin `bool`. To silence this warning, use `bool` by itself. Doing this will not modify any behavior and is safe. If you specifically wanted the numpy scalar type, use `np.bool_` here.\n",
      "Deprecated in NumPy 1.20; for more details and guidance: https://numpy.org/devdocs/release/1.20.0-notes.html#deprecations\n",
      "  test_mask = np.zeros(_num_samples(X), dtype=np.bool)\n",
      "C:\\Users\\ARCHANA\\Anaconda3\\lib\\site-packages\\sklearn\\model_selection\\_split.py:102: DeprecationWarning: `np.bool` is a deprecated alias for the builtin `bool`. To silence this warning, use `bool` by itself. Doing this will not modify any behavior and is safe. If you specifically wanted the numpy scalar type, use `np.bool_` here.\n",
      "Deprecated in NumPy 1.20; for more details and guidance: https://numpy.org/devdocs/release/1.20.0-notes.html#deprecations\n",
      "  test_mask = np.zeros(_num_samples(X), dtype=np.bool)\n",
      "C:\\Users\\ARCHANA\\Anaconda3\\lib\\site-packages\\sklearn\\model_selection\\_split.py:102: DeprecationWarning: `np.bool` is a deprecated alias for the builtin `bool`. To silence this warning, use `bool` by itself. Doing this will not modify any behavior and is safe. If you specifically wanted the numpy scalar type, use `np.bool_` here.\n",
      "Deprecated in NumPy 1.20; for more details and guidance: https://numpy.org/devdocs/release/1.20.0-notes.html#deprecations\n",
      "  test_mask = np.zeros(_num_samples(X), dtype=np.bool)\n",
      "C:\\Users\\ARCHANA\\Anaconda3\\lib\\site-packages\\sklearn\\model_selection\\_split.py:102: DeprecationWarning: `np.bool` is a deprecated alias for the builtin `bool`. To silence this warning, use `bool` by itself. Doing this will not modify any behavior and is safe. If you specifically wanted the numpy scalar type, use `np.bool_` here.\n",
      "Deprecated in NumPy 1.20; for more details and guidance: https://numpy.org/devdocs/release/1.20.0-notes.html#deprecations\n",
      "  test_mask = np.zeros(_num_samples(X), dtype=np.bool)\n",
      "C:\\Users\\ARCHANA\\Anaconda3\\lib\\site-packages\\sklearn\\model_selection\\_split.py:102: DeprecationWarning: `np.bool` is a deprecated alias for the builtin `bool`. To silence this warning, use `bool` by itself. Doing this will not modify any behavior and is safe. If you specifically wanted the numpy scalar type, use `np.bool_` here.\n",
      "Deprecated in NumPy 1.20; for more details and guidance: https://numpy.org/devdocs/release/1.20.0-notes.html#deprecations\n",
      "  test_mask = np.zeros(_num_samples(X), dtype=np.bool)\n",
      "C:\\Users\\ARCHANA\\Anaconda3\\lib\\site-packages\\sklearn\\model_selection\\_split.py:102: DeprecationWarning: `np.bool` is a deprecated alias for the builtin `bool`. To silence this warning, use `bool` by itself. Doing this will not modify any behavior and is safe. If you specifically wanted the numpy scalar type, use `np.bool_` here.\n",
      "Deprecated in NumPy 1.20; for more details and guidance: https://numpy.org/devdocs/release/1.20.0-notes.html#deprecations\n",
      "  test_mask = np.zeros(_num_samples(X), dtype=np.bool)\n",
      "C:\\Users\\ARCHANA\\Anaconda3\\lib\\site-packages\\sklearn\\model_selection\\_split.py:102: DeprecationWarning: `np.bool` is a deprecated alias for the builtin `bool`. To silence this warning, use `bool` by itself. Doing this will not modify any behavior and is safe. If you specifically wanted the numpy scalar type, use `np.bool_` here.\n",
      "Deprecated in NumPy 1.20; for more details and guidance: https://numpy.org/devdocs/release/1.20.0-notes.html#deprecations\n",
      "  test_mask = np.zeros(_num_samples(X), dtype=np.bool)\n",
      "C:\\Users\\ARCHANA\\Anaconda3\\lib\\site-packages\\sklearn\\model_selection\\_split.py:102: DeprecationWarning: `np.bool` is a deprecated alias for the builtin `bool`. To silence this warning, use `bool` by itself. Doing this will not modify any behavior and is safe. If you specifically wanted the numpy scalar type, use `np.bool_` here.\n",
      "Deprecated in NumPy 1.20; for more details and guidance: https://numpy.org/devdocs/release/1.20.0-notes.html#deprecations\n",
      "  test_mask = np.zeros(_num_samples(X), dtype=np.bool)\n",
      "C:\\Users\\ARCHANA\\Anaconda3\\lib\\site-packages\\sklearn\\model_selection\\_split.py:102: DeprecationWarning: `np.bool` is a deprecated alias for the builtin `bool`. To silence this warning, use `bool` by itself. Doing this will not modify any behavior and is safe. If you specifically wanted the numpy scalar type, use `np.bool_` here.\n",
      "Deprecated in NumPy 1.20; for more details and guidance: https://numpy.org/devdocs/release/1.20.0-notes.html#deprecations\n",
      "  test_mask = np.zeros(_num_samples(X), dtype=np.bool)\n",
      "C:\\Users\\ARCHANA\\Anaconda3\\lib\\site-packages\\sklearn\\model_selection\\_split.py:102: DeprecationWarning: `np.bool` is a deprecated alias for the builtin `bool`. To silence this warning, use `bool` by itself. Doing this will not modify any behavior and is safe. If you specifically wanted the numpy scalar type, use `np.bool_` here.\n",
      "Deprecated in NumPy 1.20; for more details and guidance: https://numpy.org/devdocs/release/1.20.0-notes.html#deprecations\n",
      "  test_mask = np.zeros(_num_samples(X), dtype=np.bool)\n",
      "C:\\Users\\ARCHANA\\Anaconda3\\lib\\site-packages\\sklearn\\model_selection\\_split.py:102: DeprecationWarning: `np.bool` is a deprecated alias for the builtin `bool`. To silence this warning, use `bool` by itself. Doing this will not modify any behavior and is safe. If you specifically wanted the numpy scalar type, use `np.bool_` here.\n",
      "Deprecated in NumPy 1.20; for more details and guidance: https://numpy.org/devdocs/release/1.20.0-notes.html#deprecations\n",
      "  test_mask = np.zeros(_num_samples(X), dtype=np.bool)\n",
      "C:\\Users\\ARCHANA\\Anaconda3\\lib\\site-packages\\sklearn\\model_selection\\_split.py:102: DeprecationWarning: `np.bool` is a deprecated alias for the builtin `bool`. To silence this warning, use `bool` by itself. Doing this will not modify any behavior and is safe. If you specifically wanted the numpy scalar type, use `np.bool_` here.\n",
      "Deprecated in NumPy 1.20; for more details and guidance: https://numpy.org/devdocs/release/1.20.0-notes.html#deprecations\n",
      "  test_mask = np.zeros(_num_samples(X), dtype=np.bool)\n",
      "C:\\Users\\ARCHANA\\Anaconda3\\lib\\site-packages\\sklearn\\model_selection\\_split.py:102: DeprecationWarning: `np.bool` is a deprecated alias for the builtin `bool`. To silence this warning, use `bool` by itself. Doing this will not modify any behavior and is safe. If you specifically wanted the numpy scalar type, use `np.bool_` here.\n",
      "Deprecated in NumPy 1.20; for more details and guidance: https://numpy.org/devdocs/release/1.20.0-notes.html#deprecations\n",
      "  test_mask = np.zeros(_num_samples(X), dtype=np.bool)\n",
      "C:\\Users\\ARCHANA\\Anaconda3\\lib\\site-packages\\sklearn\\model_selection\\_split.py:102: DeprecationWarning: `np.bool` is a deprecated alias for the builtin `bool`. To silence this warning, use `bool` by itself. Doing this will not modify any behavior and is safe. If you specifically wanted the numpy scalar type, use `np.bool_` here.\n",
      "Deprecated in NumPy 1.20; for more details and guidance: https://numpy.org/devdocs/release/1.20.0-notes.html#deprecations\n",
      "  test_mask = np.zeros(_num_samples(X), dtype=np.bool)\n",
      "C:\\Users\\ARCHANA\\Anaconda3\\lib\\site-packages\\sklearn\\model_selection\\_split.py:102: DeprecationWarning: `np.bool` is a deprecated alias for the builtin `bool`. To silence this warning, use `bool` by itself. Doing this will not modify any behavior and is safe. If you specifically wanted the numpy scalar type, use `np.bool_` here.\n",
      "Deprecated in NumPy 1.20; for more details and guidance: https://numpy.org/devdocs/release/1.20.0-notes.html#deprecations\n",
      "  test_mask = np.zeros(_num_samples(X), dtype=np.bool)\n",
      "C:\\Users\\ARCHANA\\Anaconda3\\lib\\site-packages\\sklearn\\model_selection\\_split.py:102: DeprecationWarning: `np.bool` is a deprecated alias for the builtin `bool`. To silence this warning, use `bool` by itself. Doing this will not modify any behavior and is safe. If you specifically wanted the numpy scalar type, use `np.bool_` here.\n",
      "Deprecated in NumPy 1.20; for more details and guidance: https://numpy.org/devdocs/release/1.20.0-notes.html#deprecations\n",
      "  test_mask = np.zeros(_num_samples(X), dtype=np.bool)\n",
      "C:\\Users\\ARCHANA\\Anaconda3\\lib\\site-packages\\sklearn\\model_selection\\_split.py:102: DeprecationWarning: `np.bool` is a deprecated alias for the builtin `bool`. To silence this warning, use `bool` by itself. Doing this will not modify any behavior and is safe. If you specifically wanted the numpy scalar type, use `np.bool_` here.\n",
      "Deprecated in NumPy 1.20; for more details and guidance: https://numpy.org/devdocs/release/1.20.0-notes.html#deprecations\n",
      "  test_mask = np.zeros(_num_samples(X), dtype=np.bool)\n",
      "[Parallel(n_jobs=-1)]: Using backend LokyBackend with 8 concurrent workers.\n"
     ]
    },
    {
     "name": "stderr",
     "output_type": "stream",
     "text": [
      "[Parallel(n_jobs=-1)]: Done  34 tasks      | elapsed:   11.0s\n",
      "[Parallel(n_jobs=-1)]: Done 180 out of 180 | elapsed:   40.9s finished\n",
      "C:\\Users\\ARCHANA\\Anaconda3\\lib\\site-packages\\sklearn\\model_selection\\_search.py:794: DeprecationWarning: `np.int` is a deprecated alias for the builtin `int`. To silence this warning, use `int` by itself. Doing this will not modify any behavior and is safe. When replacing `np.int`, you may wish to use e.g. `np.int64` or `np.int32` to specify the precision. If you wish to review your current use, check the release note link for additional information.\n",
      "Deprecated in NumPy 1.20; for more details and guidance: https://numpy.org/devdocs/release/1.20.0-notes.html#deprecations\n",
      "  dtype=np.int)\n",
      "C:\\Users\\ARCHANA\\Anaconda3\\lib\\site-packages\\sklearn\\tree\\tree.py:163: DeprecationWarning: `np.int` is a deprecated alias for the builtin `int`. To silence this warning, use `int` by itself. Doing this will not modify any behavior and is safe. When replacing `np.int`, you may wish to use e.g. `np.int64` or `np.int32` to specify the precision. If you wish to review your current use, check the release note link for additional information.\n",
      "Deprecated in NumPy 1.20; for more details and guidance: https://numpy.org/devdocs/release/1.20.0-notes.html#deprecations\n",
      "  y_encoded = np.zeros(y.shape, dtype=np.int)\n"
     ]
    },
    {
     "data": {
      "text/plain": [
       "GridSearchCV(cv=10, error_score='raise-deprecating',\n",
       "             estimator=DecisionTreeClassifier(class_weight=None,\n",
       "                                              criterion='gini', max_depth=None,\n",
       "                                              max_features=None,\n",
       "                                              max_leaf_nodes=None,\n",
       "                                              min_impurity_decrease=0.0,\n",
       "                                              min_impurity_split=None,\n",
       "                                              min_samples_leaf=1,\n",
       "                                              min_samples_split=2,\n",
       "                                              min_weight_fraction_leaf=0.0,\n",
       "                                              presort=False, random_state=None,\n",
       "                                              splitter='best'),\n",
       "             iid='warn', n_jobs=-1,\n",
       "             param_grid={'max_depth': array([2, 3, 4, 5, 6, 7]),\n",
       "                         'max_features': array([2, 3, 4])},\n",
       "             pre_dispatch='2*n_jobs', refit=True, return_train_score=False,\n",
       "             scoring=None, verbose=1)"
      ]
     },
     "execution_count": 68,
     "metadata": {},
     "output_type": "execute_result"
    }
   ],
   "source": [
    "from sklearn.model_selection import GridSearchCV\n",
    "from sklearn.tree import DecisionTreeClassifier, export_graphviz, export\n",
    "tree = GridSearchCV(DecisionTreeClassifier(), param_grid, cv = 10,verbose=1,n_jobs=-1)\n",
    "tree.fit( X_train, y_train )"
   ]
  },
  {
   "cell_type": "code",
   "execution_count": 69,
   "metadata": {},
   "outputs": [
    {
     "data": {
      "text/plain": [
       "0.9888222222222223"
      ]
     },
     "execution_count": 69,
     "metadata": {},
     "output_type": "execute_result"
    }
   ],
   "source": [
    "tree.best_score_"
   ]
  },
  {
   "cell_type": "code",
   "execution_count": 70,
   "metadata": {},
   "outputs": [
    {
     "data": {
      "text/plain": [
       "DecisionTreeClassifier(class_weight=None, criterion='gini', max_depth=7,\n",
       "                       max_features=4, max_leaf_nodes=None,\n",
       "                       min_impurity_decrease=0.0, min_impurity_split=None,\n",
       "                       min_samples_leaf=1, min_samples_split=2,\n",
       "                       min_weight_fraction_leaf=0.0, presort=False,\n",
       "                       random_state=None, splitter='best')"
      ]
     },
     "execution_count": 70,
     "metadata": {},
     "output_type": "execute_result"
    }
   ],
   "source": [
    "tree.best_estimator_"
   ]
  },
  {
   "cell_type": "code",
   "execution_count": 71,
   "metadata": {},
   "outputs": [
    {
     "data": {
      "text/plain": [
       "{'max_depth': 7, 'max_features': 4}"
      ]
     },
     "execution_count": 71,
     "metadata": {},
     "output_type": "execute_result"
    }
   ],
   "source": [
    "tree.best_params_"
   ]
  },
  {
   "cell_type": "code",
   "execution_count": 106,
   "metadata": {},
   "outputs": [
    {
     "name": "stderr",
     "output_type": "stream",
     "text": [
      "C:\\Users\\ARCHANA\\Anaconda3\\lib\\site-packages\\sklearn\\tree\\tree.py:163: DeprecationWarning: `np.int` is a deprecated alias for the builtin `int`. To silence this warning, use `int` by itself. Doing this will not modify any behavior and is safe. When replacing `np.int`, you may wish to use e.g. `np.int64` or `np.int32` to specify the precision. If you wish to review your current use, check the release note link for additional information.\n",
      "Deprecated in NumPy 1.20; for more details and guidance: https://numpy.org/devdocs/release/1.20.0-notes.html#deprecations\n",
      "  y_encoded = np.zeros(y.shape, dtype=np.int)\n"
     ]
    },
    {
     "data": {
      "text/plain": [
       "DecisionTreeClassifier(class_weight=None, criterion='gini', max_depth=7,\n",
       "                       max_features=4, max_leaf_nodes=None,\n",
       "                       min_impurity_decrease=0.0, min_impurity_split=None,\n",
       "                       min_samples_leaf=1, min_samples_split=2,\n",
       "                       min_weight_fraction_leaf=0.0, presort=False,\n",
       "                       random_state=None, splitter='best')"
      ]
     },
     "execution_count": 106,
     "metadata": {},
     "output_type": "execute_result"
    }
   ],
   "source": [
    "clf_tree = DecisionTreeClassifier( max_depth = 7, max_features=4)\n",
    "clf_tree.fit( X_train, y_train )"
   ]
  },
  {
   "cell_type": "code",
   "execution_count": 107,
   "metadata": {},
   "outputs": [
    {
     "name": "stdout",
     "output_type": "stream",
     "text": [
      "The accuracy of the DecisionTreeClassifier is 0.9885703703703703\n"
     ]
    }
   ],
   "source": [
    "prediction3 = clf_tree.predict(X_test)\n",
    "print('The accuracy of the DecisionTreeClassifier is',metrics.accuracy_score(prediction3,y_test))"
   ]
  },
  {
   "cell_type": "code",
   "execution_count": 161,
   "metadata": {},
   "outputs": [
    {
     "name": "stdout",
     "output_type": "stream",
     "text": [
      "The precission score of the DecisionTreeClassifier is 0.7818181818181819\n"
     ]
    }
   ],
   "source": [
    "# Precision --> more false positives\n",
    "print('The precission score of the DecisionTreeClassifier is',precision_score(y_test, prediction3))"
   ]
  },
  {
   "cell_type": "code",
   "execution_count": 162,
   "metadata": {},
   "outputs": [
    {
     "name": "stdout",
     "output_type": "stream",
     "text": [
      "The Recall score of the Random Forest Classifier is 0.05358255451713396\n"
     ]
    }
   ],
   "source": [
    "# Recall\n",
    "print('The Recall score of the Random Forest Classifier is',recall_score(y_test, prediction3))\n",
    "# recall_score(y_test, prediction4)"
   ]
  },
  {
   "cell_type": "code",
   "execution_count": 163,
   "metadata": {},
   "outputs": [
    {
     "name": "stdout",
     "output_type": "stream",
     "text": [
      "The F1-score score of the Random Forest Classifier is 0.10029154518950437\n"
     ]
    }
   ],
   "source": [
    "# F1-score\n",
    "print('The F1-score score of the Random Forest Classifier is',f1_score(y_test, prediction3))\n",
    "# f1_score(y_test, y_predicted)"
   ]
  },
  {
   "cell_type": "code",
   "execution_count": 164,
   "metadata": {},
   "outputs": [
    {
     "name": "stdout",
     "output_type": "stream",
     "text": [
      "The F-beta-score score of the Random Forest Classifier is 0.05408131498661353\n"
     ]
    }
   ],
   "source": [
    "# F-beta-score\n",
    "print('The F-beta-score score of the Random Forest Classifier is',fbeta_score(y_test, prediction3,beta=10))\n",
    "# fbeta_score(y_test, y_predicted,beta=10)"
   ]
  },
  {
   "cell_type": "markdown",
   "metadata": {},
   "source": [
    "#### Random Forest Classifier"
   ]
  },
  {
   "cell_type": "code",
   "execution_count": 108,
   "metadata": {},
   "outputs": [
    {
     "name": "stderr",
     "output_type": "stream",
     "text": [
      "C:\\Users\\ARCHANA\\Anaconda3\\lib\\site-packages\\sklearn\\ensemble\\gradient_boosting.py:32: DeprecationWarning: `np.bool` is a deprecated alias for the builtin `bool`. To silence this warning, use `bool` by itself. Doing this will not modify any behavior and is safe. If you specifically wanted the numpy scalar type, use `np.bool_` here.\n",
      "Deprecated in NumPy 1.20; for more details and guidance: https://numpy.org/devdocs/release/1.20.0-notes.html#deprecations\n",
      "  from ._gradient_boosting import predict_stages\n",
      "C:\\Users\\ARCHANA\\Anaconda3\\lib\\site-packages\\sklearn\\ensemble\\gradient_boosting.py:32: DeprecationWarning: `np.bool` is a deprecated alias for the builtin `bool`. To silence this warning, use `bool` by itself. Doing this will not modify any behavior and is safe. If you specifically wanted the numpy scalar type, use `np.bool_` here.\n",
      "Deprecated in NumPy 1.20; for more details and guidance: https://numpy.org/devdocs/release/1.20.0-notes.html#deprecations\n",
      "  from ._gradient_boosting import predict_stages\n"
     ]
    }
   ],
   "source": [
    "from sklearn.ensemble import RandomForestClassifier"
   ]
  },
  {
   "cell_type": "code",
   "execution_count": 109,
   "metadata": {},
   "outputs": [],
   "source": [
    "rand_clf = RandomForestClassifier(random_state=6)"
   ]
  },
  {
   "cell_type": "code",
   "execution_count": 110,
   "metadata": {},
   "outputs": [
    {
     "name": "stderr",
     "output_type": "stream",
     "text": [
      "C:\\Users\\ARCHANA\\Anaconda3\\lib\\site-packages\\sklearn\\ensemble\\forest.py:489: DeprecationWarning: `np.int` is a deprecated alias for the builtin `int`. To silence this warning, use `int` by itself. Doing this will not modify any behavior and is safe. When replacing `np.int`, you may wish to use e.g. `np.int64` or `np.int32` to specify the precision. If you wish to review your current use, check the release note link for additional information.\n",
      "Deprecated in NumPy 1.20; for more details and guidance: https://numpy.org/devdocs/release/1.20.0-notes.html#deprecations\n",
      "  y_store_unique_indices = np.zeros(y.shape, dtype=np.int)\n",
      "C:\\Users\\ARCHANA\\Anaconda3\\lib\\site-packages\\sklearn\\tree\\tree.py:163: DeprecationWarning: `np.int` is a deprecated alias for the builtin `int`. To silence this warning, use `int` by itself. Doing this will not modify any behavior and is safe. When replacing `np.int`, you may wish to use e.g. `np.int64` or `np.int32` to specify the precision. If you wish to review your current use, check the release note link for additional information.\n",
      "Deprecated in NumPy 1.20; for more details and guidance: https://numpy.org/devdocs/release/1.20.0-notes.html#deprecations\n",
      "  y_encoded = np.zeros(y.shape, dtype=np.int)\n",
      "C:\\Users\\ARCHANA\\Anaconda3\\lib\\site-packages\\sklearn\\tree\\tree.py:163: DeprecationWarning: `np.int` is a deprecated alias for the builtin `int`. To silence this warning, use `int` by itself. Doing this will not modify any behavior and is safe. When replacing `np.int`, you may wish to use e.g. `np.int64` or `np.int32` to specify the precision. If you wish to review your current use, check the release note link for additional information.\n",
      "Deprecated in NumPy 1.20; for more details and guidance: https://numpy.org/devdocs/release/1.20.0-notes.html#deprecations\n",
      "  y_encoded = np.zeros(y.shape, dtype=np.int)\n",
      "C:\\Users\\ARCHANA\\Anaconda3\\lib\\site-packages\\sklearn\\tree\\tree.py:163: DeprecationWarning: `np.int` is a deprecated alias for the builtin `int`. To silence this warning, use `int` by itself. Doing this will not modify any behavior and is safe. When replacing `np.int`, you may wish to use e.g. `np.int64` or `np.int32` to specify the precision. If you wish to review your current use, check the release note link for additional information.\n",
      "Deprecated in NumPy 1.20; for more details and guidance: https://numpy.org/devdocs/release/1.20.0-notes.html#deprecations\n",
      "  y_encoded = np.zeros(y.shape, dtype=np.int)\n",
      "C:\\Users\\ARCHANA\\Anaconda3\\lib\\site-packages\\sklearn\\tree\\tree.py:163: DeprecationWarning: `np.int` is a deprecated alias for the builtin `int`. To silence this warning, use `int` by itself. Doing this will not modify any behavior and is safe. When replacing `np.int`, you may wish to use e.g. `np.int64` or `np.int32` to specify the precision. If you wish to review your current use, check the release note link for additional information.\n",
      "Deprecated in NumPy 1.20; for more details and guidance: https://numpy.org/devdocs/release/1.20.0-notes.html#deprecations\n",
      "  y_encoded = np.zeros(y.shape, dtype=np.int)\n",
      "C:\\Users\\ARCHANA\\Anaconda3\\lib\\site-packages\\sklearn\\tree\\tree.py:163: DeprecationWarning: `np.int` is a deprecated alias for the builtin `int`. To silence this warning, use `int` by itself. Doing this will not modify any behavior and is safe. When replacing `np.int`, you may wish to use e.g. `np.int64` or `np.int32` to specify the precision. If you wish to review your current use, check the release note link for additional information.\n",
      "Deprecated in NumPy 1.20; for more details and guidance: https://numpy.org/devdocs/release/1.20.0-notes.html#deprecations\n",
      "  y_encoded = np.zeros(y.shape, dtype=np.int)\n",
      "C:\\Users\\ARCHANA\\Anaconda3\\lib\\site-packages\\sklearn\\tree\\tree.py:163: DeprecationWarning: `np.int` is a deprecated alias for the builtin `int`. To silence this warning, use `int` by itself. Doing this will not modify any behavior and is safe. When replacing `np.int`, you may wish to use e.g. `np.int64` or `np.int32` to specify the precision. If you wish to review your current use, check the release note link for additional information.\n",
      "Deprecated in NumPy 1.20; for more details and guidance: https://numpy.org/devdocs/release/1.20.0-notes.html#deprecations\n",
      "  y_encoded = np.zeros(y.shape, dtype=np.int)\n",
      "C:\\Users\\ARCHANA\\Anaconda3\\lib\\site-packages\\sklearn\\tree\\tree.py:163: DeprecationWarning: `np.int` is a deprecated alias for the builtin `int`. To silence this warning, use `int` by itself. Doing this will not modify any behavior and is safe. When replacing `np.int`, you may wish to use e.g. `np.int64` or `np.int32` to specify the precision. If you wish to review your current use, check the release note link for additional information.\n",
      "Deprecated in NumPy 1.20; for more details and guidance: https://numpy.org/devdocs/release/1.20.0-notes.html#deprecations\n",
      "  y_encoded = np.zeros(y.shape, dtype=np.int)\n",
      "C:\\Users\\ARCHANA\\Anaconda3\\lib\\site-packages\\sklearn\\tree\\tree.py:163: DeprecationWarning: `np.int` is a deprecated alias for the builtin `int`. To silence this warning, use `int` by itself. Doing this will not modify any behavior and is safe. When replacing `np.int`, you may wish to use e.g. `np.int64` or `np.int32` to specify the precision. If you wish to review your current use, check the release note link for additional information.\n",
      "Deprecated in NumPy 1.20; for more details and guidance: https://numpy.org/devdocs/release/1.20.0-notes.html#deprecations\n",
      "  y_encoded = np.zeros(y.shape, dtype=np.int)\n",
      "C:\\Users\\ARCHANA\\Anaconda3\\lib\\site-packages\\sklearn\\tree\\tree.py:163: DeprecationWarning: `np.int` is a deprecated alias for the builtin `int`. To silence this warning, use `int` by itself. Doing this will not modify any behavior and is safe. When replacing `np.int`, you may wish to use e.g. `np.int64` or `np.int32` to specify the precision. If you wish to review your current use, check the release note link for additional information.\n",
      "Deprecated in NumPy 1.20; for more details and guidance: https://numpy.org/devdocs/release/1.20.0-notes.html#deprecations\n",
      "  y_encoded = np.zeros(y.shape, dtype=np.int)\n",
      "C:\\Users\\ARCHANA\\Anaconda3\\lib\\site-packages\\sklearn\\tree\\tree.py:163: DeprecationWarning: `np.int` is a deprecated alias for the builtin `int`. To silence this warning, use `int` by itself. Doing this will not modify any behavior and is safe. When replacing `np.int`, you may wish to use e.g. `np.int64` or `np.int32` to specify the precision. If you wish to review your current use, check the release note link for additional information.\n",
      "Deprecated in NumPy 1.20; for more details and guidance: https://numpy.org/devdocs/release/1.20.0-notes.html#deprecations\n",
      "  y_encoded = np.zeros(y.shape, dtype=np.int)\n"
     ]
    },
    {
     "data": {
      "text/plain": [
       "RandomForestClassifier(bootstrap=True, class_weight=None, criterion='gini',\n",
       "                       max_depth=None, max_features='auto', max_leaf_nodes=None,\n",
       "                       min_impurity_decrease=0.0, min_impurity_split=None,\n",
       "                       min_samples_leaf=1, min_samples_split=2,\n",
       "                       min_weight_fraction_leaf=0.0, n_estimators=10,\n",
       "                       n_jobs=None, oob_score=False, random_state=6, verbose=0,\n",
       "                       warm_start=False)"
      ]
     },
     "execution_count": 110,
     "metadata": {},
     "output_type": "execute_result"
    }
   ],
   "source": [
    "rand_clf.fit( X_train, y_train)"
   ]
  },
  {
   "cell_type": "code",
   "execution_count": 111,
   "metadata": {},
   "outputs": [
    {
     "name": "stderr",
     "output_type": "stream",
     "text": [
      "C:\\Users\\ARCHANA\\Anaconda3\\lib\\site-packages\\sklearn\\ensemble\\base.py:158: DeprecationWarning: `np.int` is a deprecated alias for the builtin `int`. To silence this warning, use `int` by itself. Doing this will not modify any behavior and is safe. When replacing `np.int`, you may wish to use e.g. `np.int64` or `np.int32` to specify the precision. If you wish to review your current use, check the release note link for additional information.\n",
      "Deprecated in NumPy 1.20; for more details and guidance: https://numpy.org/devdocs/release/1.20.0-notes.html#deprecations\n",
      "  dtype=np.int)\n"
     ]
    },
    {
     "data": {
      "text/plain": [
       "0.9886444444444444"
      ]
     },
     "execution_count": 111,
     "metadata": {},
     "output_type": "execute_result"
    }
   ],
   "source": [
    "rand_clf.score( X_test, y_test)"
   ]
  },
  {
   "cell_type": "code",
   "execution_count": 112,
   "metadata": {},
   "outputs": [
    {
     "name": "stderr",
     "output_type": "stream",
     "text": [
      "C:\\Users\\ARCHANA\\Anaconda3\\lib\\site-packages\\sklearn\\ensemble\\base.py:158: DeprecationWarning: `np.int` is a deprecated alias for the builtin `int`. To silence this warning, use `int` by itself. Doing this will not modify any behavior and is safe. When replacing `np.int`, you may wish to use e.g. `np.int64` or `np.int32` to specify the precision. If you wish to review your current use, check the release note link for additional information.\n",
      "Deprecated in NumPy 1.20; for more details and guidance: https://numpy.org/devdocs/release/1.20.0-notes.html#deprecations\n",
      "  dtype=np.int)\n"
     ]
    },
    {
     "name": "stdout",
     "output_type": "stream",
     "text": [
      "The accuracy of the Random Forest Classifier is 0.9886444444444444\n"
     ]
    }
   ],
   "source": [
    "prediction4=rand_clf.predict(X_test)\n",
    "print('The accuracy of the Random Forest Classifier is',metrics.accuracy_score(prediction4,y_test))"
   ]
  },
  {
   "cell_type": "code",
   "execution_count": 153,
   "metadata": {},
   "outputs": [
    {
     "name": "stdout",
     "output_type": "stream",
     "text": [
      "The accuracy of the Random Forest Classifier is 0.9886444444444444\n"
     ]
    }
   ],
   "source": [
    "print('The accuracy of the Random Forest Classifier is',metrics.accuracy_score(y_test,prediction4))"
   ]
  },
  {
   "cell_type": "code",
   "execution_count": 155,
   "metadata": {},
   "outputs": [],
   "source": [
    "from sklearn.metrics import accuracy_score, precision_score, recall_score, f1_score, fbeta_score\n"
   ]
  },
  {
   "cell_type": "markdown",
   "metadata": {},
   "source": [
    "Precision can be seen as a measure of quality, and recall as a measure of quantity. Higher precision means that an algorithm returns more relevant results than irrelevant ones, and high recall means that an algorithm returns most of the relevant results (whether or not irrelevant ones are also returned)."
   ]
  },
  {
   "cell_type": "code",
   "execution_count": 156,
   "metadata": {},
   "outputs": [
    {
     "name": "stdout",
     "output_type": "stream",
     "text": [
      "The precission score of the Random Forest Classifier is 0.7950819672131147\n"
     ]
    }
   ],
   "source": [
    "# Precision --> more false positives\n",
    "print('The precission score of the Random Forest Classifier is',precision_score(y_test, prediction4))"
   ]
  },
  {
   "cell_type": "code",
   "execution_count": 157,
   "metadata": {},
   "outputs": [
    {
     "data": {
      "text/plain": [
       "0.06043613707165109"
      ]
     },
     "execution_count": 157,
     "metadata": {},
     "output_type": "execute_result"
    }
   ],
   "source": [
    "# Recall\n",
    "print('The Recall score of the Random Forest Classifier is',recall_score(y_test, prediction4))\n",
    "# recall_score(y_test, prediction4)"
   ]
  },
  {
   "cell_type": "code",
   "execution_count": 159,
   "metadata": {},
   "outputs": [
    {
     "name": "stdout",
     "output_type": "stream",
     "text": [
      "The F1-score score of the Random Forest Classifier is 0.11233352634626519\n"
     ]
    }
   ],
   "source": [
    "# F1-score\n",
    "print('The F1-score score of the Random Forest Classifier is',f1_score(y_test, prediction4))\n",
    "# f1_score(y_test, y_predicted)"
   ]
  },
  {
   "cell_type": "code",
   "execution_count": 160,
   "metadata": {},
   "outputs": [
    {
     "name": "stdout",
     "output_type": "stream",
     "text": [
      "The F-beta-score score of the Random Forest Classifier is 0.06099413529902503\n"
     ]
    }
   ],
   "source": [
    "# F-beta-score\n",
    "print('The F-beta-score score of the Random Forest Classifier is',fbeta_score(y_test, prediction4,beta=10))\n",
    "# fbeta_score(y_test, y_predicted,beta=10)"
   ]
  },
  {
   "cell_type": "markdown",
   "metadata": {},
   "source": [
    "#### linear regression"
   ]
  },
  {
   "cell_type": "code",
   "execution_count": 176,
   "metadata": {},
   "outputs": [],
   "source": [
    "from sklearn.linear_model import LogisticRegression"
   ]
  },
  {
   "cell_type": "code",
   "execution_count": 177,
   "metadata": {},
   "outputs": [
    {
     "name": "stderr",
     "output_type": "stream",
     "text": [
      "C:\\Users\\ARCHANA\\Anaconda3\\lib\\site-packages\\sklearn\\linear_model\\base.py:291: DeprecationWarning: `np.int` is a deprecated alias for the builtin `int`. To silence this warning, use `int` by itself. Doing this will not modify any behavior and is safe. When replacing `np.int`, you may wish to use e.g. `np.int64` or `np.int32` to specify the precision. If you wish to review your current use, check the release note link for additional information.\n",
      "Deprecated in NumPy 1.20; for more details and guidance: https://numpy.org/devdocs/release/1.20.0-notes.html#deprecations\n",
      "  indices = (scores > 0).astype(np.int)\n"
     ]
    }
   ],
   "source": [
    "logmodel = LogisticRegression()\n",
    "logmodel.fit(X_train,y_train)\n",
    "predictions = logmodel.predict(X_test)"
   ]
  },
  {
   "cell_type": "code",
   "execution_count": 185,
   "metadata": {},
   "outputs": [
    {
     "name": "stdout",
     "output_type": "stream",
     "text": [
      "The accuracy of the linear Regression is 0.9881111111111112\n"
     ]
    }
   ],
   "source": [
    "# accuracy score\n",
    "print('The accuracy of the linear Regression is',metrics.accuracy_score(predictions,y_test))"
   ]
  },
  {
   "cell_type": "code",
   "execution_count": 186,
   "metadata": {},
   "outputs": [
    {
     "name": "stdout",
     "output_type": "stream",
     "text": [
      "The precission score of the linear Regression is 0.0\n"
     ]
    }
   ],
   "source": [
    "# Precision --> more false positives\n",
    "print('The precission score of the linear Regression is',precision_score(y_test, predictions))"
   ]
  },
  {
   "cell_type": "code",
   "execution_count": 187,
   "metadata": {},
   "outputs": [
    {
     "name": "stdout",
     "output_type": "stream",
     "text": [
      "The Recall score of the linear Regression is 0.0\n"
     ]
    }
   ],
   "source": [
    "# Recall\n",
    "print('The Recall score of the linear Regression is',recall_score(y_test, predictions))\n",
    "# recall_score(y_test, prediction4)"
   ]
  },
  {
   "cell_type": "code",
   "execution_count": 188,
   "metadata": {},
   "outputs": [
    {
     "name": "stdout",
     "output_type": "stream",
     "text": [
      "The F1-score score of the linear Regression is 0.0\n"
     ]
    }
   ],
   "source": [
    "# F1-score\n",
    "print('The F1-score score of the linear Regression is',f1_score(y_test, predictions))\n",
    "# f1_score(y_test, y_predicted)"
   ]
  },
  {
   "cell_type": "code",
   "execution_count": 189,
   "metadata": {},
   "outputs": [
    {
     "name": "stdout",
     "output_type": "stream",
     "text": [
      "The F-beta-score score of the linear Regression is 0.0\n"
     ]
    }
   ],
   "source": [
    "# F-beta-score\n",
    "print('The F-beta-score score of the linear Regression is',fbeta_score(y_test, predictions,beta=10))\n",
    "# fbeta_score(y_test, y_predicted,beta=10)"
   ]
  },
  {
   "cell_type": "markdown",
   "metadata": {},
   "source": [
    "#### Test data"
   ]
  },
  {
   "cell_type": "code",
   "execution_count": 113,
   "metadata": {},
   "outputs": [],
   "source": [
    "test = pd.read_csv(r'test.csv/test.csv')"
   ]
  },
  {
   "cell_type": "code",
   "execution_count": 114,
   "metadata": {},
   "outputs": [
    {
     "data": {
      "text/html": [
       "<div>\n",
       "<style scoped>\n",
       "    .dataframe tbody tr th:only-of-type {\n",
       "        vertical-align: middle;\n",
       "    }\n",
       "\n",
       "    .dataframe tbody tr th {\n",
       "        vertical-align: top;\n",
       "    }\n",
       "\n",
       "    .dataframe thead th {\n",
       "        text-align: right;\n",
       "    }\n",
       "</style>\n",
       "<table border=\"1\" class=\"dataframe\">\n",
       "  <thead>\n",
       "    <tr style=\"text-align: right;\">\n",
       "      <th></th>\n",
       "      <th>order_time</th>\n",
       "      <th>order_id</th>\n",
       "      <th>order_date</th>\n",
       "      <th>allot_time</th>\n",
       "      <th>accept_time</th>\n",
       "      <th>rider_id</th>\n",
       "      <th>first_mile_distance</th>\n",
       "      <th>last_mile_distance</th>\n",
       "      <th>alloted_orders</th>\n",
       "      <th>delivered_orders</th>\n",
       "      <th>undelivered_orders</th>\n",
       "      <th>lifetime_order_count</th>\n",
       "      <th>reassignment_method</th>\n",
       "      <th>reassignment_reason</th>\n",
       "      <th>reassigned_order</th>\n",
       "      <th>session_time</th>\n",
       "    </tr>\n",
       "  </thead>\n",
       "  <tbody>\n",
       "    <tr>\n",
       "      <th>0</th>\n",
       "      <td>2021-02-06 10:03:24</td>\n",
       "      <td>130231</td>\n",
       "      <td>2021-02-06 00:00:00</td>\n",
       "      <td>2021-02-06 10:03:49</td>\n",
       "      <td>2021-02-06 10:04:15</td>\n",
       "      <td>12884</td>\n",
       "      <td>1.6585</td>\n",
       "      <td>4.54</td>\n",
       "      <td>216.0</td>\n",
       "      <td>215.0</td>\n",
       "      <td>1.0</td>\n",
       "      <td>747.0</td>\n",
       "      <td>NaN</td>\n",
       "      <td>NaN</td>\n",
       "      <td>NaN</td>\n",
       "      <td>273.400000</td>\n",
       "    </tr>\n",
       "    <tr>\n",
       "      <th>1</th>\n",
       "      <td>2021-02-06 10:03:26</td>\n",
       "      <td>130232</td>\n",
       "      <td>2021-02-06 00:00:00</td>\n",
       "      <td>2021-02-06 10:03:27</td>\n",
       "      <td>2021-02-06 10:03:36</td>\n",
       "      <td>3541</td>\n",
       "      <td>2.0709</td>\n",
       "      <td>5.84</td>\n",
       "      <td>52.0</td>\n",
       "      <td>52.0</td>\n",
       "      <td>0.0</td>\n",
       "      <td>75.0</td>\n",
       "      <td>NaN</td>\n",
       "      <td>NaN</td>\n",
       "      <td>NaN</td>\n",
       "      <td>252.100000</td>\n",
       "    </tr>\n",
       "    <tr>\n",
       "      <th>2</th>\n",
       "      <td>2021-02-06 10:03:27</td>\n",
       "      <td>130233</td>\n",
       "      <td>2021-02-06 00:00:00</td>\n",
       "      <td>2021-02-06 10:04:14</td>\n",
       "      <td>2021-02-06 10:05:34</td>\n",
       "      <td>603</td>\n",
       "      <td>1.3884</td>\n",
       "      <td>0.99</td>\n",
       "      <td>289.0</td>\n",
       "      <td>289.0</td>\n",
       "      <td>0.0</td>\n",
       "      <td>2214.0</td>\n",
       "      <td>NaN</td>\n",
       "      <td>NaN</td>\n",
       "      <td>NaN</td>\n",
       "      <td>241.383333</td>\n",
       "    </tr>\n",
       "    <tr>\n",
       "      <th>3</th>\n",
       "      <td>2021-02-06 10:03:29</td>\n",
       "      <td>130234</td>\n",
       "      <td>2021-02-06 00:00:00</td>\n",
       "      <td>2021-02-06 10:03:30</td>\n",
       "      <td>2021-02-06 10:03:53</td>\n",
       "      <td>3414</td>\n",
       "      <td>1.9039</td>\n",
       "      <td>2.59</td>\n",
       "      <td>125.0</td>\n",
       "      <td>122.0</td>\n",
       "      <td>3.0</td>\n",
       "      <td>1020.0</td>\n",
       "      <td>NaN</td>\n",
       "      <td>NaN</td>\n",
       "      <td>NaN</td>\n",
       "      <td>291.933333</td>\n",
       "    </tr>\n",
       "    <tr>\n",
       "      <th>4</th>\n",
       "      <td>2021-02-06 10:03:35</td>\n",
       "      <td>130235</td>\n",
       "      <td>2021-02-06 00:00:00</td>\n",
       "      <td>2021-02-06 10:03:43</td>\n",
       "      <td>2021-02-06 10:04:43</td>\n",
       "      <td>1426</td>\n",
       "      <td>0.8275</td>\n",
       "      <td>0.94</td>\n",
       "      <td>352.0</td>\n",
       "      <td>350.0</td>\n",
       "      <td>2.0</td>\n",
       "      <td>7284.0</td>\n",
       "      <td>NaN</td>\n",
       "      <td>NaN</td>\n",
       "      <td>NaN</td>\n",
       "      <td>247.133333</td>\n",
       "    </tr>\n",
       "  </tbody>\n",
       "</table>\n",
       "</div>"
      ],
      "text/plain": [
       "            order_time  order_id           order_date           allot_time  \\\n",
       "0  2021-02-06 10:03:24    130231  2021-02-06 00:00:00  2021-02-06 10:03:49   \n",
       "1  2021-02-06 10:03:26    130232  2021-02-06 00:00:00  2021-02-06 10:03:27   \n",
       "2  2021-02-06 10:03:27    130233  2021-02-06 00:00:00  2021-02-06 10:04:14   \n",
       "3  2021-02-06 10:03:29    130234  2021-02-06 00:00:00  2021-02-06 10:03:30   \n",
       "4  2021-02-06 10:03:35    130235  2021-02-06 00:00:00  2021-02-06 10:03:43   \n",
       "\n",
       "           accept_time  rider_id  first_mile_distance  last_mile_distance  \\\n",
       "0  2021-02-06 10:04:15     12884               1.6585                4.54   \n",
       "1  2021-02-06 10:03:36      3541               2.0709                5.84   \n",
       "2  2021-02-06 10:05:34       603               1.3884                0.99   \n",
       "3  2021-02-06 10:03:53      3414               1.9039                2.59   \n",
       "4  2021-02-06 10:04:43      1426               0.8275                0.94   \n",
       "\n",
       "   alloted_orders  delivered_orders  undelivered_orders  lifetime_order_count  \\\n",
       "0           216.0             215.0                 1.0                 747.0   \n",
       "1            52.0              52.0                 0.0                  75.0   \n",
       "2           289.0             289.0                 0.0                2214.0   \n",
       "3           125.0             122.0                 3.0                1020.0   \n",
       "4           352.0             350.0                 2.0                7284.0   \n",
       "\n",
       "  reassignment_method reassignment_reason  reassigned_order  session_time  \n",
       "0                 NaN                 NaN               NaN    273.400000  \n",
       "1                 NaN                 NaN               NaN    252.100000  \n",
       "2                 NaN                 NaN               NaN    241.383333  \n",
       "3                 NaN                 NaN               NaN    291.933333  \n",
       "4                 NaN                 NaN               NaN    247.133333  "
      ]
     },
     "execution_count": 114,
     "metadata": {},
     "output_type": "execute_result"
    }
   ],
   "source": [
    "test.head()"
   ]
  },
  {
   "cell_type": "code",
   "execution_count": 115,
   "metadata": {},
   "outputs": [
    {
     "data": {
      "text/plain": [
       "(144844, 16)"
      ]
     },
     "execution_count": 115,
     "metadata": {},
     "output_type": "execute_result"
    }
   ],
   "source": [
    "test.shape"
   ]
  },
  {
   "cell_type": "code",
   "execution_count": 116,
   "metadata": {},
   "outputs": [
    {
     "data": {
      "text/plain": [
       "Index(['order_time', 'order_id', 'order_date', 'allot_time', 'accept_time',\n",
       "       'rider_id', 'first_mile_distance', 'last_mile_distance',\n",
       "       'alloted_orders', 'delivered_orders', 'undelivered_orders',\n",
       "       'lifetime_order_count', 'reassignment_method', 'reassignment_reason',\n",
       "       'reassigned_order', 'session_time'],\n",
       "      dtype='object')"
      ]
     },
     "execution_count": 116,
     "metadata": {},
     "output_type": "execute_result"
    }
   ],
   "source": [
    "test.columns"
   ]
  },
  {
   "cell_type": "code",
   "execution_count": 117,
   "metadata": {},
   "outputs": [],
   "source": [
    "test.drop(['reassignment_method','reassignment_reason','reassigned_order','alloted_orders'],axis=1,inplace=True)"
   ]
  },
  {
   "cell_type": "code",
   "execution_count": 118,
   "metadata": {},
   "outputs": [],
   "source": [
    "test['order_time'] = pd.to_datetime(test['order_time'])\n",
    "test['order_date'] = pd.to_datetime(test['order_date'])\n",
    "test['allot_time'] = pd.to_datetime(test['allot_time'])\n",
    "test['accept_time'] = pd.to_datetime(test['accept_time'])"
   ]
  },
  {
   "cell_type": "code",
   "execution_count": 119,
   "metadata": {},
   "outputs": [],
   "source": [
    "# order date\n",
    "\n",
    "test['order month'] = test['order_date'].dt.month\n",
    "test['order day'] = test['order_date'].dt.day"
   ]
  },
  {
   "cell_type": "code",
   "execution_count": 120,
   "metadata": {},
   "outputs": [],
   "source": [
    "# order time\n",
    "test['order_time hour'] = test['order_time'].dt.hour\n",
    "test['order_time minute'] = test['order_time'].dt.minute\n",
    "test['order_time seconds'] = test['order_time'].dt.second"
   ]
  },
  {
   "cell_type": "code",
   "execution_count": 121,
   "metadata": {},
   "outputs": [],
   "source": [
    "# allot time\n",
    "test['allot_time hour'] = test['allot_time'].dt.hour\n",
    "test['allot_time minute'] = test['allot_time'].dt.minute\n",
    "test['allot_time second'] = test['allot_time'].dt.second"
   ]
  },
  {
   "cell_type": "code",
   "execution_count": 122,
   "metadata": {},
   "outputs": [],
   "source": [
    "# accept time\n",
    "test['accept_time hour'] = test['accept_time'].dt.hour\n",
    "test['accept_time minute'] = test['accept_time'].dt.minute\n",
    "test['accept_time second'] = test['accept_time'].dt.second"
   ]
  },
  {
   "cell_type": "code",
   "execution_count": 123,
   "metadata": {},
   "outputs": [],
   "source": [
    "test.drop(['order_time','order_date','allot_time','accept_time'],axis=1,inplace = True)"
   ]
  },
  {
   "cell_type": "markdown",
   "metadata": {},
   "source": [
    "Cleaning test data"
   ]
  },
  {
   "cell_type": "code",
   "execution_count": 126,
   "metadata": {},
   "outputs": [
    {
     "data": {
      "text/plain": [
       "order_id                   0\n",
       "rider_id                   0\n",
       "first_mile_distance        0\n",
       "last_mile_distance         0\n",
       "delivered_orders        4884\n",
       "undelivered_orders      4884\n",
       "lifetime_order_count     778\n",
       "session_time            5054\n",
       "order month                0\n",
       "order day                  0\n",
       "order_time hour            0\n",
       "order_time minute          0\n",
       "order_time seconds         0\n",
       "allot_time hour            0\n",
       "allot_time minute          0\n",
       "allot_time second          0\n",
       "accept_time hour          68\n",
       "accept_time minute        68\n",
       "accept_time second        68\n",
       "dtype: int64"
      ]
     },
     "execution_count": 126,
     "metadata": {},
     "output_type": "execute_result"
    }
   ],
   "source": [
    "test.isnull().sum()"
   ]
  },
  {
   "cell_type": "code",
   "execution_count": 127,
   "metadata": {},
   "outputs": [
    {
     "data": {
      "text/plain": [
       "465"
      ]
     },
     "execution_count": 127,
     "metadata": {},
     "output_type": "execute_result"
    }
   ],
   "source": [
    "test['delivered_orders'].nunique()"
   ]
  },
  {
   "cell_type": "code",
   "execution_count": 128,
   "metadata": {},
   "outputs": [
    {
     "data": {
      "text/plain": [
       "11"
      ]
     },
     "execution_count": 128,
     "metadata": {},
     "output_type": "execute_result"
    }
   ],
   "source": [
    "test['undelivered_orders'].nunique()"
   ]
  },
  {
   "cell_type": "code",
   "execution_count": 129,
   "metadata": {},
   "outputs": [
    {
     "data": {
      "text/plain": [
       "0.0     72835\n",
       "1.0     39879\n",
       "2.0     16702\n",
       "3.0      6468\n",
       "4.0      2611\n",
       "5.0       947\n",
       "6.0       256\n",
       "7.0       119\n",
       "8.0       117\n",
       "10.0       20\n",
       "9.0         6\n",
       "Name: undelivered_orders, dtype: int64"
      ]
     },
     "execution_count": 129,
     "metadata": {},
     "output_type": "execute_result"
    }
   ],
   "source": [
    "test['undelivered_orders'].value_counts()"
   ]
  },
  {
   "cell_type": "code",
   "execution_count": 130,
   "metadata": {},
   "outputs": [],
   "source": [
    "test['undelivered_orders'].fillna(0.0,inplace = True)"
   ]
  },
  {
   "cell_type": "code",
   "execution_count": 131,
   "metadata": {},
   "outputs": [
    {
     "data": {
      "text/plain": [
       "2650"
      ]
     },
     "execution_count": 131,
     "metadata": {},
     "output_type": "execute_result"
    }
   ],
   "source": [
    "test['lifetime_order_count'].nunique()"
   ]
  },
  {
   "cell_type": "code",
   "execution_count": 132,
   "metadata": {},
   "outputs": [
    {
     "data": {
      "text/plain": [
       "47015"
      ]
     },
     "execution_count": 132,
     "metadata": {},
     "output_type": "execute_result"
    }
   ],
   "source": [
    "test['session_time'].nunique()"
   ]
  },
  {
   "cell_type": "code",
   "execution_count": 133,
   "metadata": {},
   "outputs": [
    {
     "data": {
      "text/plain": [
       "20"
      ]
     },
     "execution_count": 133,
     "metadata": {},
     "output_type": "execute_result"
    }
   ],
   "source": [
    "test['accept_time hour'].nunique()"
   ]
  },
  {
   "cell_type": "code",
   "execution_count": 134,
   "metadata": {},
   "outputs": [],
   "source": [
    "test.fillna(0,inplace=True)"
   ]
  },
  {
   "cell_type": "code",
   "execution_count": 135,
   "metadata": {},
   "outputs": [
    {
     "data": {
      "text/plain": [
       "order_id                0\n",
       "rider_id                0\n",
       "first_mile_distance     0\n",
       "last_mile_distance      0\n",
       "delivered_orders        0\n",
       "undelivered_orders      0\n",
       "lifetime_order_count    0\n",
       "session_time            0\n",
       "order month             0\n",
       "order day               0\n",
       "order_time hour         0\n",
       "order_time minute       0\n",
       "order_time seconds      0\n",
       "allot_time hour         0\n",
       "allot_time minute       0\n",
       "allot_time second       0\n",
       "accept_time hour        0\n",
       "accept_time minute      0\n",
       "accept_time second      0\n",
       "dtype: int64"
      ]
     },
     "execution_count": 135,
     "metadata": {},
     "output_type": "execute_result"
    }
   ],
   "source": [
    "test.isnull().sum()"
   ]
  },
  {
   "cell_type": "code",
   "execution_count": 136,
   "metadata": {},
   "outputs": [
    {
     "name": "stderr",
     "output_type": "stream",
     "text": [
      "C:\\Users\\ARCHANA\\Anaconda3\\lib\\site-packages\\sklearn\\linear_model\\base.py:291: DeprecationWarning: `np.int` is a deprecated alias for the builtin `int`. To silence this warning, use `int` by itself. Doing this will not modify any behavior and is safe. When replacing `np.int`, you may wish to use e.g. `np.int64` or `np.int32` to specify the precision. If you wish to review your current use, check the release note link for additional information.\n",
      "Deprecated in NumPy 1.20; for more details and guidance: https://numpy.org/devdocs/release/1.20.0-notes.html#deprecations\n",
      "  indices = (scores > 0).astype(np.int)\n"
     ]
    }
   ],
   "source": [
    "# prediction5 =model1.predict(X_test)\n",
    "prediction5 = clf_tree.predict(test)"
   ]
  },
  {
   "cell_type": "code",
   "execution_count": 137,
   "metadata": {},
   "outputs": [
    {
     "name": "stdout",
     "output_type": "stream",
     "text": [
      "<class 'pandas.core.frame.DataFrame'>\n",
      "RangeIndex: 144844 entries, 0 to 144843\n",
      "Data columns (total 1 columns):\n",
      " #   Column  Non-Null Count   Dtype\n",
      "---  ------  --------------   -----\n",
      " 0   0       144844 non-null  int64\n",
      "dtypes: int64(1)\n",
      "memory usage: 1.1 MB\n"
     ]
    }
   ],
   "source": [
    "final_prediction = pd.DataFrame(prediction5)\n",
    "final_prediction.info()"
   ]
  },
  {
   "cell_type": "code",
   "execution_count": 138,
   "metadata": {},
   "outputs": [
    {
     "data": {
      "text/html": [
       "<div>\n",
       "<style scoped>\n",
       "    .dataframe tbody tr th:only-of-type {\n",
       "        vertical-align: middle;\n",
       "    }\n",
       "\n",
       "    .dataframe tbody tr th {\n",
       "        vertical-align: top;\n",
       "    }\n",
       "\n",
       "    .dataframe thead th {\n",
       "        text-align: right;\n",
       "    }\n",
       "</style>\n",
       "<table border=\"1\" class=\"dataframe\">\n",
       "  <thead>\n",
       "    <tr style=\"text-align: right;\">\n",
       "      <th></th>\n",
       "      <th>0</th>\n",
       "    </tr>\n",
       "  </thead>\n",
       "  <tbody>\n",
       "    <tr>\n",
       "      <th>0</th>\n",
       "      <td>0</td>\n",
       "    </tr>\n",
       "    <tr>\n",
       "      <th>1</th>\n",
       "      <td>0</td>\n",
       "    </tr>\n",
       "    <tr>\n",
       "      <th>2</th>\n",
       "      <td>0</td>\n",
       "    </tr>\n",
       "    <tr>\n",
       "      <th>3</th>\n",
       "      <td>0</td>\n",
       "    </tr>\n",
       "    <tr>\n",
       "      <th>4</th>\n",
       "      <td>0</td>\n",
       "    </tr>\n",
       "    <tr>\n",
       "      <th>...</th>\n",
       "      <td>...</td>\n",
       "    </tr>\n",
       "    <tr>\n",
       "      <th>144839</th>\n",
       "      <td>0</td>\n",
       "    </tr>\n",
       "    <tr>\n",
       "      <th>144840</th>\n",
       "      <td>0</td>\n",
       "    </tr>\n",
       "    <tr>\n",
       "      <th>144841</th>\n",
       "      <td>0</td>\n",
       "    </tr>\n",
       "    <tr>\n",
       "      <th>144842</th>\n",
       "      <td>0</td>\n",
       "    </tr>\n",
       "    <tr>\n",
       "      <th>144843</th>\n",
       "      <td>0</td>\n",
       "    </tr>\n",
       "  </tbody>\n",
       "</table>\n",
       "<p>144844 rows × 1 columns</p>\n",
       "</div>"
      ],
      "text/plain": [
       "        0\n",
       "0       0\n",
       "1       0\n",
       "2       0\n",
       "3       0\n",
       "4       0\n",
       "...    ..\n",
       "144839  0\n",
       "144840  0\n",
       "144841  0\n",
       "144842  0\n",
       "144843  0\n",
       "\n",
       "[144844 rows x 1 columns]"
      ]
     },
     "execution_count": 138,
     "metadata": {},
     "output_type": "execute_result"
    }
   ],
   "source": [
    "final_prediction"
   ]
  },
  {
   "cell_type": "code",
   "execution_count": 140,
   "metadata": {},
   "outputs": [
    {
     "data": {
      "text/html": [
       "<div>\n",
       "<style scoped>\n",
       "    .dataframe tbody tr th:only-of-type {\n",
       "        vertical-align: middle;\n",
       "    }\n",
       "\n",
       "    .dataframe tbody tr th {\n",
       "        vertical-align: top;\n",
       "    }\n",
       "\n",
       "    .dataframe thead th {\n",
       "        text-align: right;\n",
       "    }\n",
       "</style>\n",
       "<table border=\"1\" class=\"dataframe\">\n",
       "  <thead>\n",
       "    <tr style=\"text-align: right;\">\n",
       "      <th></th>\n",
       "      <th>Cancelled</th>\n",
       "    </tr>\n",
       "  </thead>\n",
       "  <tbody>\n",
       "    <tr>\n",
       "      <th>0</th>\n",
       "      <td>0</td>\n",
       "    </tr>\n",
       "    <tr>\n",
       "      <th>1</th>\n",
       "      <td>0</td>\n",
       "    </tr>\n",
       "    <tr>\n",
       "      <th>2</th>\n",
       "      <td>0</td>\n",
       "    </tr>\n",
       "    <tr>\n",
       "      <th>3</th>\n",
       "      <td>0</td>\n",
       "    </tr>\n",
       "    <tr>\n",
       "      <th>4</th>\n",
       "      <td>0</td>\n",
       "    </tr>\n",
       "    <tr>\n",
       "      <th>5</th>\n",
       "      <td>0</td>\n",
       "    </tr>\n",
       "    <tr>\n",
       "      <th>6</th>\n",
       "      <td>0</td>\n",
       "    </tr>\n",
       "    <tr>\n",
       "      <th>7</th>\n",
       "      <td>0</td>\n",
       "    </tr>\n",
       "    <tr>\n",
       "      <th>8</th>\n",
       "      <td>0</td>\n",
       "    </tr>\n",
       "    <tr>\n",
       "      <th>9</th>\n",
       "      <td>0</td>\n",
       "    </tr>\n",
       "  </tbody>\n",
       "</table>\n",
       "</div>"
      ],
      "text/plain": [
       "   Cancelled\n",
       "0          0\n",
       "1          0\n",
       "2          0\n",
       "3          0\n",
       "4          0\n",
       "5          0\n",
       "6          0\n",
       "7          0\n",
       "8          0\n",
       "9          0"
      ]
     },
     "execution_count": 140,
     "metadata": {},
     "output_type": "execute_result"
    }
   ],
   "source": [
    "final_prediction = final_prediction.rename(columns={0:\"Cancelled\"})\n",
    "final_prediction.head(10)"
   ]
  },
  {
   "cell_type": "code",
   "execution_count": 141,
   "metadata": {},
   "outputs": [
    {
     "data": {
      "text/plain": [
       "Cancelled\n",
       "0            143792\n",
       "1              1052\n",
       "dtype: int64"
      ]
     },
     "execution_count": 141,
     "metadata": {},
     "output_type": "execute_result"
    }
   ],
   "source": [
    "final_prediction.value_counts()"
   ]
  },
  {
   "cell_type": "code",
   "execution_count": 142,
   "metadata": {},
   "outputs": [],
   "source": [
    "final_prediction.to_csv(\"PredictedModel.csv\")"
   ]
  },
  {
   "cell_type": "code",
   "execution_count": 143,
   "metadata": {},
   "outputs": [],
   "source": [
    "Data = pd.DataFrame(test['order_id'])"
   ]
  },
  {
   "cell_type": "code",
   "execution_count": 145,
   "metadata": {},
   "outputs": [],
   "source": [
    "Data['cancelled'] = final_prediction['Cancelled']"
   ]
  },
  {
   "cell_type": "code",
   "execution_count": 146,
   "metadata": {},
   "outputs": [
    {
     "data": {
      "text/html": [
       "<div>\n",
       "<style scoped>\n",
       "    .dataframe tbody tr th:only-of-type {\n",
       "        vertical-align: middle;\n",
       "    }\n",
       "\n",
       "    .dataframe tbody tr th {\n",
       "        vertical-align: top;\n",
       "    }\n",
       "\n",
       "    .dataframe thead th {\n",
       "        text-align: right;\n",
       "    }\n",
       "</style>\n",
       "<table border=\"1\" class=\"dataframe\">\n",
       "  <thead>\n",
       "    <tr style=\"text-align: right;\">\n",
       "      <th></th>\n",
       "      <th>order_id</th>\n",
       "      <th>cancelled</th>\n",
       "    </tr>\n",
       "  </thead>\n",
       "  <tbody>\n",
       "    <tr>\n",
       "      <th>0</th>\n",
       "      <td>130231</td>\n",
       "      <td>0</td>\n",
       "    </tr>\n",
       "    <tr>\n",
       "      <th>1</th>\n",
       "      <td>130232</td>\n",
       "      <td>0</td>\n",
       "    </tr>\n",
       "    <tr>\n",
       "      <th>2</th>\n",
       "      <td>130233</td>\n",
       "      <td>0</td>\n",
       "    </tr>\n",
       "    <tr>\n",
       "      <th>3</th>\n",
       "      <td>130234</td>\n",
       "      <td>0</td>\n",
       "    </tr>\n",
       "    <tr>\n",
       "      <th>4</th>\n",
       "      <td>130235</td>\n",
       "      <td>0</td>\n",
       "    </tr>\n",
       "    <tr>\n",
       "      <th>...</th>\n",
       "      <td>...</td>\n",
       "      <td>...</td>\n",
       "    </tr>\n",
       "    <tr>\n",
       "      <th>144839</th>\n",
       "      <td>41184</td>\n",
       "      <td>0</td>\n",
       "    </tr>\n",
       "    <tr>\n",
       "      <th>144840</th>\n",
       "      <td>41185</td>\n",
       "      <td>0</td>\n",
       "    </tr>\n",
       "    <tr>\n",
       "      <th>144841</th>\n",
       "      <td>41186</td>\n",
       "      <td>0</td>\n",
       "    </tr>\n",
       "    <tr>\n",
       "      <th>144842</th>\n",
       "      <td>41187</td>\n",
       "      <td>0</td>\n",
       "    </tr>\n",
       "    <tr>\n",
       "      <th>144843</th>\n",
       "      <td>41188</td>\n",
       "      <td>0</td>\n",
       "    </tr>\n",
       "  </tbody>\n",
       "</table>\n",
       "<p>144844 rows × 2 columns</p>\n",
       "</div>"
      ],
      "text/plain": [
       "        order_id  cancelled\n",
       "0         130231          0\n",
       "1         130232          0\n",
       "2         130233          0\n",
       "3         130234          0\n",
       "4         130235          0\n",
       "...          ...        ...\n",
       "144839     41184          0\n",
       "144840     41185          0\n",
       "144841     41186          0\n",
       "144842     41187          0\n",
       "144843     41188          0\n",
       "\n",
       "[144844 rows x 2 columns]"
      ]
     },
     "execution_count": 146,
     "metadata": {},
     "output_type": "execute_result"
    }
   ],
   "source": [
    "Data"
   ]
  },
  {
   "cell_type": "code",
   "execution_count": 147,
   "metadata": {},
   "outputs": [],
   "source": [
    "Data.set_index(\"order_id\", inplace = True)"
   ]
  },
  {
   "cell_type": "code",
   "execution_count": 148,
   "metadata": {},
   "outputs": [
    {
     "data": {
      "text/html": [
       "<div>\n",
       "<style scoped>\n",
       "    .dataframe tbody tr th:only-of-type {\n",
       "        vertical-align: middle;\n",
       "    }\n",
       "\n",
       "    .dataframe tbody tr th {\n",
       "        vertical-align: top;\n",
       "    }\n",
       "\n",
       "    .dataframe thead th {\n",
       "        text-align: right;\n",
       "    }\n",
       "</style>\n",
       "<table border=\"1\" class=\"dataframe\">\n",
       "  <thead>\n",
       "    <tr style=\"text-align: right;\">\n",
       "      <th></th>\n",
       "      <th>cancelled</th>\n",
       "    </tr>\n",
       "    <tr>\n",
       "      <th>order_id</th>\n",
       "      <th></th>\n",
       "    </tr>\n",
       "  </thead>\n",
       "  <tbody>\n",
       "    <tr>\n",
       "      <th>130231</th>\n",
       "      <td>0</td>\n",
       "    </tr>\n",
       "    <tr>\n",
       "      <th>130232</th>\n",
       "      <td>0</td>\n",
       "    </tr>\n",
       "    <tr>\n",
       "      <th>130233</th>\n",
       "      <td>0</td>\n",
       "    </tr>\n",
       "    <tr>\n",
       "      <th>130234</th>\n",
       "      <td>0</td>\n",
       "    </tr>\n",
       "    <tr>\n",
       "      <th>130235</th>\n",
       "      <td>0</td>\n",
       "    </tr>\n",
       "    <tr>\n",
       "      <th>...</th>\n",
       "      <td>...</td>\n",
       "    </tr>\n",
       "    <tr>\n",
       "      <th>41184</th>\n",
       "      <td>0</td>\n",
       "    </tr>\n",
       "    <tr>\n",
       "      <th>41185</th>\n",
       "      <td>0</td>\n",
       "    </tr>\n",
       "    <tr>\n",
       "      <th>41186</th>\n",
       "      <td>0</td>\n",
       "    </tr>\n",
       "    <tr>\n",
       "      <th>41187</th>\n",
       "      <td>0</td>\n",
       "    </tr>\n",
       "    <tr>\n",
       "      <th>41188</th>\n",
       "      <td>0</td>\n",
       "    </tr>\n",
       "  </tbody>\n",
       "</table>\n",
       "<p>144844 rows × 1 columns</p>\n",
       "</div>"
      ],
      "text/plain": [
       "          cancelled\n",
       "order_id           \n",
       "130231            0\n",
       "130232            0\n",
       "130233            0\n",
       "130234            0\n",
       "130235            0\n",
       "...             ...\n",
       "41184             0\n",
       "41185             0\n",
       "41186             0\n",
       "41187             0\n",
       "41188             0\n",
       "\n",
       "[144844 rows x 1 columns]"
      ]
     },
     "execution_count": 148,
     "metadata": {},
     "output_type": "execute_result"
    }
   ],
   "source": [
    "Data"
   ]
  },
  {
   "cell_type": "code",
   "execution_count": 151,
   "metadata": {},
   "outputs": [
    {
     "data": {
      "text/plain": [
       "cancelled\n",
       "0            143792\n",
       "1              1052\n",
       "dtype: int64"
      ]
     },
     "execution_count": 151,
     "metadata": {},
     "output_type": "execute_result"
    }
   ],
   "source": [
    "Data.value_counts()"
   ]
  },
  {
   "cell_type": "code",
   "execution_count": 150,
   "metadata": {},
   "outputs": [],
   "source": [
    "Data.to_csv(\"Rider-Driven-Cancellation-Prediction.csv\")"
   ]
  }
 ],
 "metadata": {
  "kernelspec": {
   "display_name": "Python 3",
   "language": "python",
   "name": "python3"
  },
  "language_info": {
   "codemirror_mode": {
    "name": "ipython",
    "version": 3
   },
   "file_extension": ".py",
   "mimetype": "text/x-python",
   "name": "python",
   "nbconvert_exporter": "python",
   "pygments_lexer": "ipython3",
   "version": "3.7.4"
  }
 },
 "nbformat": 4,
 "nbformat_minor": 2
}
